{
  "nbformat": 4,
  "nbformat_minor": 0,
  "metadata": {
    "colab": {
      "name": "Practica2.ipynb",
      "provenance": [],
      "collapsed_sections": [],
      "authorship_tag": "ABX9TyMF1vLCWm6wtcMQJau35wAU",
      "include_colab_link": true
    },
    "kernelspec": {
      "name": "python3",
      "display_name": "Python 3"
    },
    "language_info": {
      "name": "python"
    },
    "accelerator": "GPU"
  },
  "cells": [
    {
      "cell_type": "markdown",
      "metadata": {
        "id": "view-in-github",
        "colab_type": "text"
      },
      "source": [
        "<a href=\"https://colab.research.google.com/github/anamunoz01/AA_PRACTICA2_GRUPO_10/blob/main/Practica2.ipynb\" target=\"_parent\"><img src=\"https://colab.research.google.com/assets/colab-badge.svg\" alt=\"Open In Colab\"/></a>"
      ]
    },
    {
      "cell_type": "markdown",
      "metadata": {
        "id": "qkAWSN85rt28"
      },
      "source": [
        "# **PRÁCTICA 2**\n",
        "\n",
        "GRUPO 10\n",
        "\n",
        "Elena Gómez\n",
        "\n",
        "Ana Muñoz"
      ]
    },
    {
      "cell_type": "markdown",
      "metadata": {
        "id": "w1lGdtj_5QPM"
      },
      "source": [
        "## **OBJETIVO**\n",
        "\n",
        "Crea un modelo de Red de Neuronas **Convolucionales** que sea capaz de reconocer y clasificar imágenes de ropa en sus diferentes tipologías. Este modelo será definido, configurado, entrenado, evaluado y mejorado para posteriormente usarlo para hacer predicciones. \n",
        "\n",
        "Crearemos un modelo en Keras aplicando todos los pasos al conjunto de datos Fashion-MNIST.\n",
        "\n",
        "Fashion-MNIST es un conjunto de datos de las imágenes de los artículos de Zalando, una tienda de moda online alemana especializada en ventas de ropa y zapatos. \n",
        "\n",
        "El conjunto de datos contiene 70K imágenes en escala de grises en 10 \n",
        "categorías. Estas imágenes muestran prendas individuales de ropa en baja resolución (28 x 28 píxeles). Se usan 60K imágenes para entrenar la red y 10K imágenes para evaluar la precisión con la que la red aprende a clasificar las imágenes"
      ]
    },
    {
      "cell_type": "markdown",
      "metadata": {
        "id": "WsCJ_XlpoeSA"
      },
      "source": [
        "- Importamos tensorflow y comprobamos que la versión es 2.0.0 o superior \n",
        "\n"
      ]
    },
    {
      "cell_type": "code",
      "metadata": {
        "colab": {
          "base_uri": "https://localhost:8080/"
        },
        "id": "inKnrJCarTrV",
        "outputId": "a9fc061b-e131-4820-9b0f-3c225be23927"
      },
      "source": [
        "%tensorflow_version 2.x\n",
        "import tensorflow as tf\n",
        "from tensorflow import keras\n",
        "\n",
        "import numpy as np\n",
        "import matplotlib.pyplot as plt\n",
        "\n",
        "print(tf.__version__)#"
      ],
      "execution_count": null,
      "outputs": [
        {
          "output_type": "stream",
          "name": "stdout",
          "text": [
            "2.7.0\n"
          ]
        }
      ]
    },
    {
      "cell_type": "markdown",
      "metadata": {
        "id": "_CzqtBWvM5Aw"
      },
      "source": [
        "- Importamos todos los '' necesarios para nuestro problema"
      ]
    },
    {
      "cell_type": "code",
      "metadata": {
        "id": "NyodCpZhsZjf"
      },
      "source": [
        "from tensorflow.keras import Sequential\n",
        "from tensorflow.keras.layers import Conv2D\n",
        "from tensorflow.keras.layers import MaxPooling2D\n",
        "from keras.utils.np_utils import to_categorical"
      ],
      "execution_count": null,
      "outputs": []
    },
    {
      "cell_type": "markdown",
      "metadata": {
        "id": "QjRdR0UVuzTk"
      },
      "source": [
        "- A continuación, cargamos las imágenes y creamos un vector de 10 elementos en el que a cada posición se le asigna el nombre de cada prenda. ('class_names')\n",
        "\n",
        "\n",
        "![prendas.PNG](data:image/png;base64,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)"
      ]
    },
    {
      "cell_type": "code",
      "metadata": {
        "id": "NHSNyIwwsZ5E"
      },
      "source": [
        "from keras.datasets import fashion_mnist\n",
        "\n",
        "(train_images, train_labels), (test_images, test_labels) = fashion_mnist.load_data()\n",
        "\n",
        "# Creamos vector con las prendas\n",
        "class_names = ['T-shirt/top', 'Trouser', 'Pullover', 'Dress', 'Coat',\n",
        "               'Sandal', 'Shirt', 'Sneaker', 'Bag', 'Ankle boot']"
      ],
      "execution_count": null,
      "outputs": []
    },
    {
      "cell_type": "markdown",
      "metadata": {
        "id": "RHX1SYa2NmP5"
      },
      "source": [
        "Estudiamos los datos?"
      ]
    },
    {
      "cell_type": "markdown",
      "metadata": {
        "id": "ljlaeokaOA8W"
      },
      "source": [
        "## **Creamos los modelos**"
      ]
    },
    {
      "cell_type": "markdown",
      "metadata": {
        "id": "UuPiAZ_NPAOQ"
      },
      "source": [
        "**MODELO 1**"
      ]
    },
    {
      "cell_type": "code",
      "metadata": {
        "id": "1W328n2ZOMP5"
      },
      "source": [
        "model1 = Sequential()\n",
        "model1.add(Conv2D(32, (5, 5), activation='relu', input_shape=(28, 28, 1)))\n",
        "model1.add(MaxPooling2D((2, 2)))\n",
        "model1.summary()\n"
      ],
      "execution_count": null,
      "outputs": []
    },
    {
      "cell_type": "code",
      "metadata": {
        "id": "zmdOOtxqOUQk"
      },
      "source": [
        "model1.add(Conv2D(64, (5, 5), activation='relu'))\n",
        "model1.add(MaxPooling2D((2, 2)))\n",
        "model1.summary()\n"
      ],
      "execution_count": null,
      "outputs": []
    },
    {
      "cell_type": "code",
      "metadata": {
        "id": "ZQaYdpjCOYzs"
      },
      "source": [
        "from tensorflow.keras.layers import Dense\n",
        "from tensorflow.keras.layers import Flatten\n",
        "\n",
        "model1.add(Flatten())\n",
        "model1.add(Dense(10, activation='softmax'))\n",
        "model1.summary()"
      ],
      "execution_count": null,
      "outputs": []
    },
    {
      "cell_type": "markdown",
      "metadata": {
        "id": "-wHXbknYOmo0"
      },
      "source": [
        "**Compilamos los modelos**\n",
        "\n",
        "\n",
        "* Para el algoritmo optimizador utilizamos '**adam**' , o '**sgd**' (Stocastic Gradient Descendent), dependiendo del modelo.\n",
        "\n",
        "* Para la función de perdida elegimos **sparse_categorical_crossentropy** que se utiliza como señal de retroalimentación para aprender los tensores de peso y que la fase de entrenamiento intentará minimizar.\n",
        "\n",
        "* Para la precisión utilizaremos **accuracy**: Solo tendremos en cuenta la fracción de imágenes que son correctamente clasificadas."
      ]
    },
    {
      "cell_type": "code",
      "metadata": {
        "id": "4BMmZhpxOqTT"
      },
      "source": [
        "model1.compile(loss='sparse_categorical_crossentropy',\n",
        "              optimizer='sgd',\n",
        "              metrics=['accuracy']"
      ],
      "execution_count": null,
      "outputs": []
    },
    {
      "cell_type": "markdown",
      "metadata": {
        "id": "Cv1GxXLhPNdJ"
      },
      "source": [
        "## **Tansformación de datos**"
      ]
    },
    {
      "cell_type": "markdown",
      "metadata": {
        "id": "wTgajLJKPa9w"
      },
      "source": [
        "Antes del entrenamiento, preprocesaremos nuestros datos dándoles la forma que espera la red y escalando para que todos los valores estén en el intervalo [0, 1]. Pasando de una matriz de forma (60000, 28, 28) con valores en el intervalo [0, 255] a una matriz de forma float32 con forma (60000, 28, 28, 1) con valores entre 0 y 1"
      ]
    },
    {
      "cell_type": "code",
      "metadata": {
        "id": "i6zhCHFTPN_u"
      },
      "source": [
        "print (train_images.shape)\n",
        "print (train_labels.shape)\n",
        "\n",
        "train_images = train_images.reshape((60000, 28, 28, 1))\n",
        "train_images = train_images.astype('float32') / 255\n",
        "\n",
        "test_images = test_images.reshape((10000, 28, 28, 1))\n",
        "test_images = test_images.astype('float32') / 255\n",
        "\n",
        "print (train_images.shape)\n",
        "print (train_labels.shape)"
      ],
      "execution_count": null,
      "outputs": []
    },
    {
      "cell_type": "markdown",
      "metadata": {
        "id": "r5uJO2X-Opzz"
      },
      "source": [
        "## **Entrenamos y probamos los modelos**"
      ]
    },
    {
      "cell_type": "markdown",
      "metadata": {
        "id": "AgEFiUHcQLOx"
      },
      "source": [
        "Utilizamos la función `fit` que devuelve los valores de pérdida y de precisión de la red para las imágenes de entrenamiento."
      ]
    },
    {
      "cell_type": "code",
      "metadata": {
        "id": "uL1A6IT-wu-k"
      },
      "source": [
        "model1.fit(train_images, train_labels, epochs=5, batch_size=100)\n"
      ],
      "execution_count": null,
      "outputs": []
    },
    {
      "cell_type": "markdown",
      "metadata": {
        "id": "dAxk2C1EQ1jM"
      },
      "source": [
        "Evaluación con los datos de prueba"
      ]
    },
    {
      "cell_type": "code",
      "metadata": {
        "id": "9gkVFrSfQzZJ"
      },
      "source": [
        "test_loss1, test_acc1 = model1.evaluate(test_images, test_labels)\n",
        "\n",
        "print('Test accuracy:', test_acc1)"
      ],
      "execution_count": null,
      "outputs": []
    },
    {
      "cell_type": "markdown",
      "metadata": {
        "id": "gUZ1xTfltkvo"
      },
      "source": [
        "## **Apartado 3**\n",
        "\n",
        "Analizar e interpretar los resultados del caso 1 frente a su original si se \n",
        "multiplica por 5 las épocas de entrenamiento (25)\n"
      ]
    },
    {
      "cell_type": "code",
      "metadata": {
        "id": "Pq8h1cgS49_0"
      },
      "source": [
        "model11 = Sequential()\n",
        "model11.add(Conv2D(32, (5, 5), activation='relu', input_shape=(28, 28, 1)))\n",
        "model11.add(MaxPooling2D((2, 2)))\n",
        "\n",
        "model11.add(Conv2D(64, (5, 5), activation='relu'))\n",
        "model11.add(MaxPooling2D((2, 2)))\n",
        "\n",
        "model11.add(Flatten())\n",
        "model11.add(Dense(10, activation='softmax'))\n",
        "model11.summary()\n"
      ],
      "execution_count": null,
      "outputs": []
    },
    {
      "cell_type": "code",
      "metadata": {
        "id": "vkL_ItVS5QZI"
      },
      "source": [
        "model11.compile(loss='sparse_categorical_crossentropy',\n",
        "              optimizer='sgd',\n",
        "              metrics=['accuracy'])\n",
        "\n",
        "model11.fit(train_images, train_labels, epochs=25, batch_size=100)\n",
        "\n",
        "test_loss11, test_acc11 = model11.evaluate(test_images, test_labels)\n",
        "\n",
        "print('Test accuracy:', test_acc11)"
      ],
      "execution_count": null,
      "outputs": []
    },
    {
      "cell_type": "markdown",
      "metadata": {
        "id": "bm7mDm_0Rr1J"
      },
      "source": [
        "## **Apartado 4**\n",
        "\n",
        "Analizar el resultado del caso 1 si en lugar de ReLU usas tanh en la función de \n",
        "activación de las dos capas convolucionales.\n"
      ]
    },
    {
      "cell_type": "code",
      "metadata": {
        "id": "QnvNSsHf5hi1"
      },
      "source": [
        "model12 = Sequential()\n",
        "model12.add(Conv2D(32, (5, 5), activation='tanh', input_shape=(28, 28, 1)))\n",
        "model12.add(MaxPooling2D((2, 2)))\n",
        "\n",
        "model12.add(Conv2D(64, (5, 5), activation='tanh'))\n",
        "model12.add(MaxPooling2D((2, 2)))\n",
        "\n",
        "model12.add(Flatten())\n",
        "model12.add(Dense(10, activation='softmax'))\n",
        "model12.summary()"
      ],
      "execution_count": null,
      "outputs": []
    },
    {
      "cell_type": "code",
      "metadata": {
        "id": "d3Lgl0KD5l5m"
      },
      "source": [
        "model12.compile(loss='sparse_categorical_crossentropy',\n",
        "              optimizer='sgd',\n",
        "              metrics=['accuracy'])\n",
        "\n",
        "model12.fit(train_images, train_labels, epochs=5, batch_size=100)\n",
        "\n",
        "test_loss12, test_acc12 = model12.evaluate(test_images, test_labels)\n",
        "\n",
        "print('Test accuracy:', test_acc12)"
      ],
      "execution_count": null,
      "outputs": []
    },
    {
      "cell_type": "markdown",
      "metadata": {
        "id": "YgvtuBl65qvL"
      },
      "source": [
        "## **Predicciones**"
      ]
    },
    {
      "cell_type": "code",
      "metadata": {
        "id": "j3LtybsB6U0v"
      },
      "source": [
        "# Veamos el elemento 6 de test y pintémoslo con matplotlib\n",
        "from keras.datasets import fashion_mnist\n",
        "(train_images, train_labels), (test_images, test_labels) = fashion_mnist.load_data()\n",
        "import matplotlib.pyplot as plt\n",
        "digit = test_images[5]\n",
        "plt.imshow(digit, cmap=plt.cm.binary)\n",
        "plt.show()"
      ],
      "execution_count": null,
      "outputs": []
    },
    {
      "cell_type": "code",
      "metadata": {
        "id": "rIZBDnD36Wac"
      },
      "source": [
        "#????\n",
        "train_images = train_images.reshape((60000, 28,28,1))\n",
        "test_images = test_images.reshape((10000, 28,28,1))\n",
        "\n",
        "train_images = train_images.astype('float32') / 255\n",
        "test_images = test_images.astype('float32') / 255\n"
      ],
      "execution_count": null,
      "outputs": []
    },
    {
      "cell_type": "markdown",
      "metadata": {
        "id": "bYVeFY7WSLTM"
      },
      "source": [
        "Hacemos predicciones sobre la 6º imagen de test en cada modelo"
      ]
    },
    {
      "cell_type": "markdown",
      "metadata": {
        "id": "CDoLKtZzSVn-"
      },
      "source": [
        " **Modelo 1**"
      ]
    },
    {
      "cell_type": "code",
      "metadata": {
        "id": "z9Jnkmn56c9z"
      },
      "source": [
        "import numpy as np\n",
        "predictions1 = model1.predict(test_images)\n",
        "print(np.argmax(predictions1[5]))\n",
        "print(predictions1[5])\n",
        "np.sum(predictions1[5])\n",
        "print(predictions1)"
      ],
      "execution_count": null,
      "outputs": []
    },
    {
      "cell_type": "markdown",
      "metadata": {
        "id": "Vu04IQuX6z92"
      },
      "source": [
        "Ahora vamos a graficar las predicciones de la imagen 6 en cada modelo"
      ]
    },
    {
      "cell_type": "code",
      "metadata": {
        "id": "SlYRpfLw61qj"
      },
      "source": [
        "def plot_image(i, predictions_array, true_label, img):\n",
        "  predictions_array, true_label, img = predictions_array, true_label[i], img[i]\n",
        "  plt.grid(False)\n",
        "  plt.xticks([])\n",
        "  plt.yticks([])\n",
        "\n",
        "  plt.imshow(img, cmap=plt.cm.binary)    \n",
        "\n",
        "  predicted_label = np.argmax(predictions_array)\n",
        "  if predicted_label.all() == true_label.all():\n",
        "    color = 'blue'\n",
        "  else:\n",
        "    color = 'red'\n",
        "\n",
        "  plt.xlabel(\"{} {:2.0f}% ({})\".format(predicted_label,\n",
        "                                100*np.max(predictions_array),\n",
        "                                true_label),\n",
        "                                color=color)\n",
        "\n",
        "def plot_value_array(i, predictions_array, true_label):\n",
        "  predictions_array, true_label = predictions_array, true_label[i]\n",
        "  plt.grid(False)\n",
        "  plt.xticks(range(10))\n",
        "  plt.yticks([])\n",
        "  thisplot = plt.bar(range(10), predictions_array, color=\"#00FF00\")\n",
        "  plt.ylim([0, 1])\n",
        "  predicted_label = np.argmax(predictions_array)\n",
        "\n",
        "  thisplot[predicted_label].set_color('red')\n",
        "  thisplot[true_label].set_color('black')"
      ],
      "execution_count": null,
      "outputs": []
    },
    {
      "cell_type": "markdown",
      "metadata": {
        "id": "nn2OoTA1Sro-"
      },
      "source": [
        "**Modelo 1**"
      ]
    },
    {
      "cell_type": "code",
      "metadata": {
        "id": "Sce3UJoG629B"
      },
      "source": [
        "i = 5\n",
        "plt.figure(figsize=(6,3))\n",
        "plt.subplot(1,2,1)\n",
        "plot_image(i, predictions1[i], test_labels, test_images.reshape(10000,28,28))\n",
        "plt.subplot(1,2,2)\n",
        "plot_value_array(i, predictions1[i],  test_labels)\n",
        "plt.show()"
      ],
      "execution_count": null,
      "outputs": []
    },
    {
      "cell_type": "markdown",
      "metadata": {
        "id": "0jbYf05C7DrQ"
      },
      "source": [
        "Vemos la predicción, igual que el gráfico anterior, de las 14 primeras imágenes del conjunto de test, para cada uno de los casos."
      ]
    },
    {
      "cell_type": "code",
      "metadata": {
        "id": "TwmpleF77G5b"
      },
      "source": [
        "for i in range(14):\n",
        "    plt.figure(figsize=(6,3))\n",
        "    plt.subplot(1,2,1)\n",
        "    plot_image(i, predictions1[i], test_labels, test_images.reshape(10000,28,28))\n",
        "    plt.subplot(1,2,2)\n",
        "    plot_value_array(i, predictions1[i],  test_labels)\n",
        "    plt.show()\n",
        "    plt.clf()"
      ],
      "execution_count": null,
      "outputs": []
    }
  ]
}
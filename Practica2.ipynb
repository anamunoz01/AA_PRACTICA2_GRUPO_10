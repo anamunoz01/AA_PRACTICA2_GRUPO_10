{
  "nbformat": 4,
  "nbformat_minor": 0,
  "metadata": {
    "colab": {
      "name": "Practica2.ipynb",
      "provenance": [],
      "collapsed_sections": [],
      "authorship_tag": "ABX9TyOhCHdB49sXhaILFMol1ZVC",
      "include_colab_link": true
    },
    "kernelspec": {
      "name": "python3",
      "display_name": "Python 3"
    },
    "language_info": {
      "name": "python"
    },
    "accelerator": "GPU"
  },
  "cells": [
    {
      "cell_type": "markdown",
      "metadata": {
        "id": "view-in-github",
        "colab_type": "text"
      },
      "source": [
        "<a href=\"https://colab.research.google.com/github/anamunoz01/AA_PRACTICA2_GRUPO_10/blob/main/Practica2.ipynb\" target=\"_parent\"><img src=\"https://colab.research.google.com/assets/colab-badge.svg\" alt=\"Open In Colab\"/></a>"
      ]
    },
    {
      "cell_type": "markdown",
      "metadata": {
        "id": "qkAWSN85rt28"
      },
      "source": [
        "# **PRÁCTICA 2**\n",
        "\n",
        "GRUPO 10\n",
        "\n",
        "Elena Gómez\n",
        "\n",
        "Ana Muñoz"
      ]
    },
    {
      "cell_type": "markdown",
      "metadata": {
        "id": "w1lGdtj_5QPM"
      },
      "source": [
        "## **Objetivo**\n",
        "\n",
        "El  objetivo  de  esta  práctica  es  diseñar,  configurar  y  entrenar  un  modelo    Redes  de Neuronas Convolucionales. \n",
        "\n",
        "Crearemos un modelo  de Red  de  Neuronas  Convolucionales  que  sea  capaz  de  reconocer  y clasificar imágenes  de  ropa  en  sus  diferentes  tipologías.  Este  modelo  será  definido, \n",
        "configurado, entrenado, evaluado y mejorado para posteriormente usarlo para hacer predicciones.  \n",
        "\n",
        "Usaremos el conjunto de datos Fashion-MNIST, precargado en Keras.\n",
        "Fashion-MNIST  es  un  conjunto  de  datos  de  las  imágenes  de  los  artículos  de  Zalando. El conjunto de datos contiene 70K imágenes en escala de grises en 10 categorías.  Estas  imágenes  muestran  prendas  individuales  de  ropa  en  baja  resolución (28 x 28 píxeles)\n",
        "\n",
        "Se usan 60K imágenes para entrenar la red y 10K imágenes para evaluar la precisión con la que la red aprende a clasificar las imágenes"
      ]
    },
    {
      "cell_type": "markdown",
      "metadata": {
        "id": "WsCJ_XlpoeSA"
      },
      "source": [
        "- Importamos tensorflow y comprobamos que la versión es 2.0.0 o superior \n",
        "\n"
      ]
    },
    {
      "cell_type": "code",
      "metadata": {
        "colab": {
          "base_uri": "https://localhost:8080/"
        },
        "id": "inKnrJCarTrV",
        "outputId": "5c686fff-f989-40b5-f603-5af537e09111"
      },
      "source": [
        "%tensorflow_version 2.x\n",
        "import tensorflow as tf\n",
        "from tensorflow import keras\n",
        "\n",
        "import numpy as np\n",
        "import matplotlib.pyplot as plt\n",
        "\n",
        "print(tf.__version__)#"
      ],
      "execution_count": 1,
      "outputs": [
        {
          "output_type": "stream",
          "name": "stdout",
          "text": [
            "2.7.0\n"
          ]
        }
      ]
    },
    {
      "cell_type": "markdown",
      "metadata": {
        "id": "QjRdR0UVuzTk"
      },
      "source": [
        "- **Datos Fashion-MNIST**\n",
        "\n",
        " A continuación, cargamos las imágenes y creamos un vector de 10 elementos en el que a cada posición se le asigna el nombre de cada prenda. ('class_names')\n",
        "\n",
        "\n",
        "![prendas.PNG](data:image/png;base64,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)"
      ]
    },
    {
      "cell_type": "code",
      "metadata": {
        "id": "NHSNyIwwsZ5E",
        "outputId": "d806d00f-e627-475a-fb49-8d6befc3b1ff",
        "colab": {
          "base_uri": "https://localhost:8080/"
        }
      },
      "source": [
        "from keras.datasets import fashion_mnist\n",
        "\n",
        "(train_images, train_labels), (test_images, test_labels) = fashion_mnist.load_data()\n",
        "\n",
        "# Creamos vector con las prendas\n",
        "class_names = ['T-shirt/top', 'Trouser', 'Pullover', 'Dress', 'Coat',\n",
        "               'Sandal', 'Shirt', 'Sneaker', 'Bag', 'Ankle boot']"
      ],
      "execution_count": 2,
      "outputs": [
        {
          "output_type": "stream",
          "name": "stdout",
          "text": [
            "Downloading data from https://storage.googleapis.com/tensorflow/tf-keras-datasets/train-labels-idx1-ubyte.gz\n",
            "32768/29515 [=================================] - 0s 0us/step\n",
            "40960/29515 [=========================================] - 0s 0us/step\n",
            "Downloading data from https://storage.googleapis.com/tensorflow/tf-keras-datasets/train-images-idx3-ubyte.gz\n",
            "26427392/26421880 [==============================] - 0s 0us/step\n",
            "26435584/26421880 [==============================] - 0s 0us/step\n",
            "Downloading data from https://storage.googleapis.com/tensorflow/tf-keras-datasets/t10k-labels-idx1-ubyte.gz\n",
            "16384/5148 [===============================================================================================] - 0s 0us/step\n",
            "Downloading data from https://storage.googleapis.com/tensorflow/tf-keras-datasets/t10k-images-idx3-ubyte.gz\n",
            "4423680/4422102 [==============================] - 0s 0us/step\n",
            "4431872/4422102 [==============================] - 0s 0us/step\n"
          ]
        }
      ]
    },
    {
      "cell_type": "markdown",
      "metadata": {
        "id": "RHX1SYa2NmP5"
      },
      "source": [
        "-  **Estudio de datos:**\n",
        "\n",
        " Como vimos en la primera práctica, sabemos que las imágenes tienen la siguiente forma:\n",
        "\n",
        " (60000, 28, 28)\n",
        "\n",
        " Del mismo modo, sabemos que las etiquetas son números entre 0 y 9 enteros que corresponden con la prenda de la imagen ya clasificada.\n"
      ]
    },
    {
      "cell_type": "code",
      "metadata": {
        "id": "hcdo52gxrfX5",
        "colab": {
          "base_uri": "https://localhost:8080/"
        },
        "outputId": "3c3122bf-90d0-4431-9a6f-c2a9e274fb86"
      },
      "source": [
        "print(train_labels[5000])"
      ],
      "execution_count": 3,
      "outputs": [
        {
          "output_type": "stream",
          "name": "stdout",
          "text": [
            "4\n"
          ]
        }
      ]
    },
    {
      "cell_type": "markdown",
      "metadata": {
        "id": "ljlaeokaOA8W"
      },
      "source": [
        "## **Creamos los modelos**"
      ]
    },
    {
      "cell_type": "markdown",
      "metadata": {
        "id": "_CzqtBWvM5Aw"
      },
      "source": [
        "- Importamos todo lo necesario para nuestros modelos"
      ]
    },
    {
      "cell_type": "code",
      "metadata": {
        "id": "8yHEPRUV93of"
      },
      "source": [
        "from tensorflow.keras import Sequential\n",
        "from tensorflow.keras.layers import Conv2D\n",
        "from tensorflow.keras.layers import MaxPooling2D\n",
        "from keras.utils.np_utils import to_categorical\n",
        "from tensorflow.keras.layers import Dense\n",
        "from tensorflow.keras.layers import Flatten"
      ],
      "execution_count": 4,
      "outputs": []
    },
    {
      "cell_type": "markdown",
      "metadata": {
        "id": "JNIKFYVO7PUD"
      },
      "source": [
        "Vamos a crear 3 modelos diferentes de RNA,  los cuales van a ser definidos, configurados, entrenados, evaluados y mejorados para posteriormente usarlos para hacer predicciones.\n",
        "\n",
        "Para todos los modelos la red sera secuencial y tendrá dos capas convolucionales y una o dos capas tipo Dense. Para cada modelo cambiaremos el optimizador, la función de activación, el número de neuronas por capa y el tamaño de la ventana de las capas convolucinales, mientras que el tamaño de la ventana de la capa pooling siempre será 2x2.\n"
      ]
    },
    {
      "cell_type": "markdown",
      "metadata": {
        "id": "Z-xgVgEK9IuO"
      },
      "source": [
        "Cada una de las neuronas de la capa de entrada están conectadas con una matriz tamaño 28x28. Solo lo definimos para la primera capa, para la segunda capa y posteriores, Keras lo deduce.\n"
      ]
    },
    {
      "cell_type": "markdown",
      "metadata": {
        "id": "aJOszXoEzPtF"
      },
      "source": [
        "Para los tres modelos la última capa tendrá función de activación softmax y 10 neuronas. Esto se debe a que nos interesa sacar una distribución de probabilidad sobre las 10 clases de prendas que tenemos."
      ]
    },
    {
      "cell_type": "markdown",
      "metadata": {
        "id": "UuPiAZ_NPAOQ"
      },
      "source": [
        "**MODELO 1**"
      ]
    },
    {
      "cell_type": "code",
      "metadata": {
        "id": "1W328n2ZOMP5",
        "colab": {
          "base_uri": "https://localhost:8080/"
        },
        "outputId": "22e966fc-8192-461a-a786-fa008ab2829d"
      },
      "source": [
        "model1 = Sequential()\n",
        "model1.add(Conv2D(32, (5, 5), activation='relu', input_shape=(28, 28, 1)))\n",
        "model1.add(MaxPooling2D((2, 2)))\n",
        "model1.summary()\n"
      ],
      "execution_count": 5,
      "outputs": [
        {
          "output_type": "stream",
          "name": "stdout",
          "text": [
            "Model: \"sequential\"\n",
            "_________________________________________________________________\n",
            " Layer (type)                Output Shape              Param #   \n",
            "=================================================================\n",
            " conv2d (Conv2D)             (None, 24, 24, 32)        832       \n",
            "                                                                 \n",
            " max_pooling2d (MaxPooling2D  (None, 12, 12, 32)       0         \n",
            " )                                                               \n",
            "                                                                 \n",
            "=================================================================\n",
            "Total params: 832\n",
            "Trainable params: 832\n",
            "Non-trainable params: 0\n",
            "_________________________________________________________________\n"
          ]
        }
      ]
    },
    {
      "cell_type": "markdown",
      "metadata": {
        "id": "iCTeIxRPrtT2"
      },
      "source": [
        "- Explicación Summary\n",
        "\n",
        " En la primera capa convolucional obtenemos 832 parámettos que son el resultado de : ((5 x 5) + 1) x 32, siendo 5 el tamaño de la ventana, 32 los filtros que aplicamos y 1 el umbral. En esta capa convertimos una matriz inicial de 28x28 en 32 matrices nuevas 24x24\n",
        "\n",
        " Con esto realizamos el maxpooling con una ventana 2x2 obteniendo 32 matrices de 12x12 que serán los datos de entrada de la segunda capa."
      ]
    },
    {
      "cell_type": "code",
      "metadata": {
        "id": "zmdOOtxqOUQk",
        "colab": {
          "base_uri": "https://localhost:8080/"
        },
        "outputId": "8d6159f0-2a2e-4ac1-f173-ed4ff7898c30"
      },
      "source": [
        "model1.add(Conv2D(64, (5, 5), activation='relu'))\n",
        "model1.add(MaxPooling2D((2, 2)))\n",
        "model1.summary()\n"
      ],
      "execution_count": 6,
      "outputs": [
        {
          "output_type": "stream",
          "name": "stdout",
          "text": [
            "Model: \"sequential\"\n",
            "_________________________________________________________________\n",
            " Layer (type)                Output Shape              Param #   \n",
            "=================================================================\n",
            " conv2d (Conv2D)             (None, 24, 24, 32)        832       \n",
            "                                                                 \n",
            " max_pooling2d (MaxPooling2D  (None, 12, 12, 32)       0         \n",
            " )                                                               \n",
            "                                                                 \n",
            " conv2d_1 (Conv2D)           (None, 8, 8, 64)          51264     \n",
            "                                                                 \n",
            " max_pooling2d_1 (MaxPooling  (None, 4, 4, 64)         0         \n",
            " 2D)                                                             \n",
            "                                                                 \n",
            "=================================================================\n",
            "Total params: 52,096\n",
            "Trainable params: 52,096\n",
            "Non-trainable params: 0\n",
            "_________________________________________________________________\n"
          ]
        }
      ]
    },
    {
      "cell_type": "markdown",
      "metadata": {
        "id": "JMSTbWR6vMJX"
      },
      "source": [
        "- Explicación Summary\n",
        "\n",
        " Al aplicar la convolución, cada una de las 32 matrices que hemos obtenido anteriormente, se convierte en 64 nuevas matrices 8x8.\n",
        " \n",
        " En la segunda capa convolucional obtenemos 51264 parámettos que son el resultado de : ((5 x 5 x 32) + 1) x 64, siendo 64 los nuevos filtros que aplicamos a lo anterior. \n",
        " \n",
        " Con esto realizamos el maxpooling con una ventana 2x2 obteniendo 64 matrices de 4x4 que serán los datos de entrada de la última capa."
      ]
    },
    {
      "cell_type": "code",
      "metadata": {
        "id": "ZQaYdpjCOYzs",
        "colab": {
          "base_uri": "https://localhost:8080/"
        },
        "outputId": "6b89a7e7-107c-4fac-991b-8099ab6919d5"
      },
      "source": [
        "model1.add(Flatten())\n",
        "model1.add(Dense(10, activation='softmax'))\n",
        "model1.summary()"
      ],
      "execution_count": 7,
      "outputs": [
        {
          "output_type": "stream",
          "name": "stdout",
          "text": [
            "Model: \"sequential\"\n",
            "_________________________________________________________________\n",
            " Layer (type)                Output Shape              Param #   \n",
            "=================================================================\n",
            " conv2d (Conv2D)             (None, 24, 24, 32)        832       \n",
            "                                                                 \n",
            " max_pooling2d (MaxPooling2D  (None, 12, 12, 32)       0         \n",
            " )                                                               \n",
            "                                                                 \n",
            " conv2d_1 (Conv2D)           (None, 8, 8, 64)          51264     \n",
            "                                                                 \n",
            " max_pooling2d_1 (MaxPooling  (None, 4, 4, 64)         0         \n",
            " 2D)                                                             \n",
            "                                                                 \n",
            " flatten (Flatten)           (None, 1024)              0         \n",
            "                                                                 \n",
            " dense (Dense)               (None, 10)                10250     \n",
            "                                                                 \n",
            "=================================================================\n",
            "Total params: 62,346\n",
            "Trainable params: 62,346\n",
            "Non-trainable params: 0\n",
            "_________________________________________________________________\n"
          ]
        }
      ]
    },
    {
      "cell_type": "markdown",
      "metadata": {
        "id": "Bh5uKY2cvnH_"
      },
      "source": [
        "- Explicación Summary\n",
        "\n",
        " Antes de la última capa, añadimos una capa Flatten para ajustar los tensores a la entrada de la capa densa, es decir, aplanamos los datos pasando de un tensor 3D a uno 1D\n",
        "\n",
        " La salida (4, 4, 64) se debe pasar a un vector (4 x 4 x 64) = 1024.\n",
        "\n",
        " Con esto, en la última capa tenemos 10250 parámetros que es el resultado de: 1024 x 10 + 10."
      ]
    },
    {
      "cell_type": "markdown",
      "metadata": {
        "id": "CCKpv_lhkUkU"
      },
      "source": [
        "**Modelo 2**"
      ]
    },
    {
      "cell_type": "code",
      "metadata": {
        "id": "dBHqBlfNkZZi",
        "colab": {
          "base_uri": "https://localhost:8080/"
        },
        "outputId": "0eae669c-52a3-4c39-a147-988ec86a2af7"
      },
      "source": [
        "model2 = Sequential()\n",
        "model2.add(Conv2D(64, (7, 7), padding='same', activation='relu', input_shape=(28, 28, 1)))\n",
        "model2.add(MaxPooling2D((2, 2)))\n",
        "model2.summary()\n"
      ],
      "execution_count": 8,
      "outputs": [
        {
          "output_type": "stream",
          "name": "stdout",
          "text": [
            "Model: \"sequential_1\"\n",
            "_________________________________________________________________\n",
            " Layer (type)                Output Shape              Param #   \n",
            "=================================================================\n",
            " conv2d_2 (Conv2D)           (None, 28, 28, 64)        3200      \n",
            "                                                                 \n",
            " max_pooling2d_2 (MaxPooling  (None, 14, 14, 64)       0         \n",
            " 2D)                                                             \n",
            "                                                                 \n",
            "=================================================================\n",
            "Total params: 3,200\n",
            "Trainable params: 3,200\n",
            "Non-trainable params: 0\n",
            "_________________________________________________________________\n"
          ]
        }
      ]
    },
    {
      "cell_type": "markdown",
      "metadata": {
        "id": "g8-dMvH1wryz"
      },
      "source": [
        "- Explicación Summary\n",
        "\n",
        " En la primera capa convolucional obtenemos 3200 parámettos que son el resultado de : ((7 x 7) + 1) x 64, siendo 7 el tamaño de la ventana, 64 los filtros que aplicamos y 1 el umbral. \n",
        "\n",
        " Obtenemos 64 matrices del mismo tamaño que las matrices de entrada al haberle añadido padding, es decir, no se reduce su tamaño inicial.\n",
        "\n",
        " Con esto, realizamos el maxpooling con una ventana 2x2 obteniendo 64 matrices de 14x14 que serán los datos de entrada de la segunda capa."
      ]
    },
    {
      "cell_type": "code",
      "metadata": {
        "id": "oHh7qbIDkaNU",
        "colab": {
          "base_uri": "https://localhost:8080/"
        },
        "outputId": "ed464d22-d679-4843-b808-20f325040653"
      },
      "source": [
        "model2.add(Conv2D(128, (3, 3), padding='same', activation='relu'))\n",
        "model2.add(MaxPooling2D((2, 2)))\n",
        "model2.summary()"
      ],
      "execution_count": 9,
      "outputs": [
        {
          "output_type": "stream",
          "name": "stdout",
          "text": [
            "Model: \"sequential_1\"\n",
            "_________________________________________________________________\n",
            " Layer (type)                Output Shape              Param #   \n",
            "=================================================================\n",
            " conv2d_2 (Conv2D)           (None, 28, 28, 64)        3200      \n",
            "                                                                 \n",
            " max_pooling2d_2 (MaxPooling  (None, 14, 14, 64)       0         \n",
            " 2D)                                                             \n",
            "                                                                 \n",
            " conv2d_3 (Conv2D)           (None, 14, 14, 128)       73856     \n",
            "                                                                 \n",
            " max_pooling2d_3 (MaxPooling  (None, 7, 7, 128)        0         \n",
            " 2D)                                                             \n",
            "                                                                 \n",
            "=================================================================\n",
            "Total params: 77,056\n",
            "Trainable params: 77,056\n",
            "Non-trainable params: 0\n",
            "_________________________________________________________________\n"
          ]
        }
      ]
    },
    {
      "cell_type": "markdown",
      "metadata": {
        "id": "HchJWkkLxbHG"
      },
      "source": [
        "- Explicación Summary\n",
        "\n",
        " En la segunda capa convolucional obtenemos 73856 parámettos que son el resultado de : ((3 x 3) x 64 + 1) x 128, siendo 3 el tamaño de la ventana, 64 los filtros anteriores, 128 los filtros nuevos que aplicamos y 1 el umbral. \n",
        "\n",
        " Por cada una de las 64 matrices que entran, obtenemos 128 matrices del mismo tamaño que las matrices de entrada al haberle añadido padding, es decir, 14x14.\n",
        "\n",
        " Con esto, realizamos el maxpooling con una ventana 2x2 obteniendo 128 matrices de 7x7 que serán los datos de entrada de la siguiente capa."
      ]
    },
    {
      "cell_type": "code",
      "metadata": {
        "id": "631i0Fa6katm",
        "colab": {
          "base_uri": "https://localhost:8080/"
        },
        "outputId": "56d6789f-8303-4847-f570-2fe2811679ea"
      },
      "source": [
        "model2.add(Flatten())\n",
        "model2.add(Dense(65, activation='relu'))\n",
        "model2.add(Dense(10, activation='softmax'))\n",
        "model2.summary()\n"
      ],
      "execution_count": 10,
      "outputs": [
        {
          "output_type": "stream",
          "name": "stdout",
          "text": [
            "Model: \"sequential_1\"\n",
            "_________________________________________________________________\n",
            " Layer (type)                Output Shape              Param #   \n",
            "=================================================================\n",
            " conv2d_2 (Conv2D)           (None, 28, 28, 64)        3200      \n",
            "                                                                 \n",
            " max_pooling2d_2 (MaxPooling  (None, 14, 14, 64)       0         \n",
            " 2D)                                                             \n",
            "                                                                 \n",
            " conv2d_3 (Conv2D)           (None, 14, 14, 128)       73856     \n",
            "                                                                 \n",
            " max_pooling2d_3 (MaxPooling  (None, 7, 7, 128)        0         \n",
            " 2D)                                                             \n",
            "                                                                 \n",
            " flatten_1 (Flatten)         (None, 6272)              0         \n",
            "                                                                 \n",
            " dense_1 (Dense)             (None, 65)                407745    \n",
            "                                                                 \n",
            " dense_2 (Dense)             (None, 10)                660       \n",
            "                                                                 \n",
            "=================================================================\n",
            "Total params: 485,461\n",
            "Trainable params: 485,461\n",
            "Non-trainable params: 0\n",
            "_________________________________________________________________\n"
          ]
        }
      ]
    },
    {
      "cell_type": "markdown",
      "metadata": {
        "id": "suvVTiUEyEUj"
      },
      "source": [
        "- Explicación Summary\n",
        "\n",
        " Antes de las últimas capas, añadimos una capa Flatten para ajustar los tensores a la entrada de las capas densas.\n",
        "\n",
        " La salida (7, 7, 6128) se debe pasar a un vector (7 x 7 x 128) = 6272.\n",
        "\n",
        " Con esto en la primera capa densa tenemos 407745 parámetros que es el resultado de: 6272 x 65 + 65. Donde 65 es el número de neuronas de la capa.\n",
        "\n",
        " En la capa de salida obtenemos 660 parámetros que son el resultado de: 10 x 65 + 10. Siendo 10 el número de neuronas de la última capa que corresponde con el número de clases que tenemos."
      ]
    },
    {
      "cell_type": "markdown",
      "metadata": {
        "id": "6NW7-dn7kggp"
      },
      "source": [
        "**Modelo 3**"
      ]
    },
    {
      "cell_type": "code",
      "metadata": {
        "id": "qS-z-7Nfki3j",
        "colab": {
          "base_uri": "https://localhost:8080/"
        },
        "outputId": "c5fd39d2-d583-46a6-d5bf-bba2c3871133"
      },
      "source": [
        "model3 = Sequential()\n",
        "model3.add(Conv2D(64, (7, 7), padding = 'same', activation='relu', input_shape=(28, 28, 1)))\n",
        "model3.add(MaxPooling2D((2, 2)))\n",
        "model3.summary()\n",
        "\n",
        "#Explicación summary:\n",
        "# [(7*7)+1]*64 = 3200 ---> Matrices de 28x28 al añadir padding\n",
        "#En el maxpooling obtenemos 64 matrices de 14x14.\n"
      ],
      "execution_count": 11,
      "outputs": [
        {
          "output_type": "stream",
          "name": "stdout",
          "text": [
            "Model: \"sequential_2\"\n",
            "_________________________________________________________________\n",
            " Layer (type)                Output Shape              Param #   \n",
            "=================================================================\n",
            " conv2d_4 (Conv2D)           (None, 28, 28, 64)        3200      \n",
            "                                                                 \n",
            " max_pooling2d_4 (MaxPooling  (None, 14, 14, 64)       0         \n",
            " 2D)                                                             \n",
            "                                                                 \n",
            "=================================================================\n",
            "Total params: 3,200\n",
            "Trainable params: 3,200\n",
            "Non-trainable params: 0\n",
            "_________________________________________________________________\n"
          ]
        }
      ]
    },
    {
      "cell_type": "code",
      "metadata": {
        "id": "2WTqrQANkips",
        "colab": {
          "base_uri": "https://localhost:8080/"
        },
        "outputId": "aefab7a7-a208-4f9e-c9ac-2c083814d36f"
      },
      "source": [
        "model3.add(Conv2D(128, (3, 3), padding = 'same', activation='relu'))\n",
        "model3.add(MaxPooling2D((2, 2)))\n",
        "model3.summary()\n",
        "\n",
        "#73856 = ((3*3*64)+1)*128 --> matrices de 14x14\n",
        "#Con el Maxpooling obtenemos matrices de 7x7"
      ],
      "execution_count": 12,
      "outputs": [
        {
          "output_type": "stream",
          "name": "stdout",
          "text": [
            "Model: \"sequential_2\"\n",
            "_________________________________________________________________\n",
            " Layer (type)                Output Shape              Param #   \n",
            "=================================================================\n",
            " conv2d_4 (Conv2D)           (None, 28, 28, 64)        3200      \n",
            "                                                                 \n",
            " max_pooling2d_4 (MaxPooling  (None, 14, 14, 64)       0         \n",
            " 2D)                                                             \n",
            "                                                                 \n",
            " conv2d_5 (Conv2D)           (None, 14, 14, 128)       73856     \n",
            "                                                                 \n",
            " max_pooling2d_5 (MaxPooling  (None, 7, 7, 128)        0         \n",
            " 2D)                                                             \n",
            "                                                                 \n",
            "=================================================================\n",
            "Total params: 77,056\n",
            "Trainable params: 77,056\n",
            "Non-trainable params: 0\n",
            "_________________________________________________________________\n"
          ]
        }
      ]
    },
    {
      "cell_type": "code",
      "metadata": {
        "id": "ygVVdDGokiPT",
        "colab": {
          "base_uri": "https://localhost:8080/"
        },
        "outputId": "c68e28e6-9b6b-4458-c54a-0fbdb3d1d836"
      },
      "source": [
        "model3.add(Flatten())\n",
        "model3.add(Dense(65, activation='relu'))\n",
        "model3.add(Dense(10, activation='softmax'))\n",
        "model3.summary()\n",
        "\n",
        "#Flatten:\n",
        "#Antes tenemos que ajustar los tensores a la entrada de la capa\n",
        "#densa. Pasar de un tensor 3D a uno 1D (aplanar).\n",
        "#Nuestra salida (7,7,128) se debe pasar a un vector de \n",
        "#(7x7x128=6272) antes de aplicar softmax)\n",
        "#Primera capa densa:\n",
        "#(65*6272)+65 = 407745\n",
        "#Segunda capa densa(softmax):\n",
        "#(10*65)+10 = 660"
      ],
      "execution_count": 13,
      "outputs": [
        {
          "output_type": "stream",
          "name": "stdout",
          "text": [
            "Model: \"sequential_2\"\n",
            "_________________________________________________________________\n",
            " Layer (type)                Output Shape              Param #   \n",
            "=================================================================\n",
            " conv2d_4 (Conv2D)           (None, 28, 28, 64)        3200      \n",
            "                                                                 \n",
            " max_pooling2d_4 (MaxPooling  (None, 14, 14, 64)       0         \n",
            " 2D)                                                             \n",
            "                                                                 \n",
            " conv2d_5 (Conv2D)           (None, 14, 14, 128)       73856     \n",
            "                                                                 \n",
            " max_pooling2d_5 (MaxPooling  (None, 7, 7, 128)        0         \n",
            " 2D)                                                             \n",
            "                                                                 \n",
            " flatten_2 (Flatten)         (None, 6272)              0         \n",
            "                                                                 \n",
            " dense_3 (Dense)             (None, 65)                407745    \n",
            "                                                                 \n",
            " dense_4 (Dense)             (None, 10)                660       \n",
            "                                                                 \n",
            "=================================================================\n",
            "Total params: 485,461\n",
            "Trainable params: 485,461\n",
            "Non-trainable params: 0\n",
            "_________________________________________________________________\n"
          ]
        }
      ]
    },
    {
      "cell_type": "markdown",
      "metadata": {
        "id": "ZxSRV7-O0vso"
      },
      "source": [
        "Como vemos, el tercer modelo es análogo al segundo, obtenemos los mismos parámetros. Lo único que cambia es el optimizador, que veremos más adelante."
      ]
    },
    {
      "cell_type": "markdown",
      "metadata": {
        "id": "pyYcY3jKk3TZ"
      },
      "source": [
        "## **Tansformación de datos**"
      ]
    },
    {
      "cell_type": "markdown",
      "metadata": {
        "id": "dJc3oi9ek-_I"
      },
      "source": [
        "Antes de entrenar nuestros modelos, preprocesaremos nuestros datos dándoles la forma que espera la red y escalando para que todos los valores estén en el intervalo [0, 1]. Pasando de una matriz de forma (60000, 28, 28) con valores en el intervalo [0, 255] a una matriz de forma float32 con forma (60000, 28, 28, 1) con valores entre 0 y 1"
      ]
    },
    {
      "cell_type": "code",
      "metadata": {
        "colab": {
          "base_uri": "https://localhost:8080/"
        },
        "id": "SuviQXhmlBvJ",
        "outputId": "146b5922-6374-4881-dbf1-837c544a5aef"
      },
      "source": [
        "print (train_images.shape)\n",
        "print (train_labels.shape)\n",
        "\n",
        "train_images = train_images.reshape((60000, 28, 28, 1))\n",
        "train_images = train_images.astype('float32') / 255\n",
        "\n",
        "test_images = test_images.reshape((10000, 28, 28, 1))\n",
        "test_images = test_images.astype('float32') / 255\n",
        "\n",
        "print (train_images.shape)\n",
        "print (train_labels.shape)"
      ],
      "execution_count": 14,
      "outputs": [
        {
          "output_type": "stream",
          "name": "stdout",
          "text": [
            "(60000, 28, 28)\n",
            "(60000,)\n",
            "(60000, 28, 28, 1)\n",
            "(60000,)\n"
          ]
        }
      ]
    },
    {
      "cell_type": "markdown",
      "metadata": {
        "id": "o1KjKf-kk4L5"
      },
      "source": [
        "Como vamos a usar para la función de pérdida 'sparse_categorical_crossentropy', no hace falta modificar las etiquetas, ya que permite la entrada de enteros."
      ]
    },
    {
      "cell_type": "markdown",
      "metadata": {
        "id": "-wHXbknYOmo0"
      },
      "source": [
        "## **Compilamos los modelos**\n",
        "\n",
        "\n",
        "* Para el algoritmo optimizador utilizamos '**adam**' , o '**sgd**' (Stocastic Gradient Descendent), dependiendo del modelo.\n",
        "\n",
        "* Para la función de perdida elegimos **sparse_categorical_crossentropy** que se utiliza como señal de retroalimentación para aprender los tensores de peso y que la fase de entrenamiento intentará minimizar.\n",
        "\n",
        "* Para la precisión utilizaremos **accuracy**: Solo tendremos en cuenta la fracción de imágenes que son correctamente clasificadas."
      ]
    },
    {
      "cell_type": "markdown",
      "metadata": {
        "id": "akui18z0iwSn"
      },
      "source": [
        "**Modelo 1**"
      ]
    },
    {
      "cell_type": "code",
      "metadata": {
        "id": "4BMmZhpxOqTT"
      },
      "source": [
        "model1.compile(loss='sparse_categorical_crossentropy',\n",
        "              optimizer='sgd',\n",
        "              metrics=['accuracy'])"
      ],
      "execution_count": 15,
      "outputs": []
    },
    {
      "cell_type": "markdown",
      "metadata": {
        "id": "ALAeDvBdizs9"
      },
      "source": [
        "**Modelo 2**"
      ]
    },
    {
      "cell_type": "code",
      "metadata": {
        "id": "ZBRdjLiBlSYq"
      },
      "source": [
        "model2.compile(loss='sparse_categorical_crossentropy',\n",
        "              optimizer='sgd',\n",
        "              metrics=['accuracy'])"
      ],
      "execution_count": 16,
      "outputs": []
    },
    {
      "cell_type": "markdown",
      "metadata": {
        "id": "G197x1YSi2BC"
      },
      "source": [
        "**Modelo 3**"
      ]
    },
    {
      "cell_type": "code",
      "metadata": {
        "id": "W3f69CAWlTHr"
      },
      "source": [
        "model3.compile(loss='sparse_categorical_crossentropy',\n",
        "              optimizer='adam',\n",
        "              metrics=['accuracy'])"
      ],
      "execution_count": 17,
      "outputs": []
    },
    {
      "cell_type": "markdown",
      "metadata": {
        "id": "r5uJO2X-Opzz"
      },
      "source": [
        "## **Entrenamos y probamos los modelos**"
      ]
    },
    {
      "cell_type": "markdown",
      "metadata": {
        "id": "AgEFiUHcQLOx"
      },
      "source": [
        "- Utilizamos la función `fit` que devuelve los valores de pérdida y de precisión de la red para las imágenes de entrenamiento.\n",
        "\n",
        "- Para evaluar los modelos con los datos de prueba utilizamos `evaluate` que devuelve el valor de pérdida y la precisión del modelo."
      ]
    },
    {
      "cell_type": "markdown",
      "metadata": {
        "id": "o0sQDEtYj634"
      },
      "source": [
        "**Modelo 1**"
      ]
    },
    {
      "cell_type": "code",
      "metadata": {
        "id": "uL1A6IT-wu-k",
        "colab": {
          "base_uri": "https://localhost:8080/"
        },
        "outputId": "ec08312a-1717-4a1a-f84b-b57b629935fd"
      },
      "source": [
        "model1.fit(train_images, train_labels, \n",
        "           batch_size=100,\n",
        "           epochs=5)\n",
        "\n",
        "test_loss1, test_acc1 = model1.evaluate(test_images, test_labels)\n",
        "\n",
        "print('Test accuracy:', test_acc1)"
      ],
      "execution_count": 18,
      "outputs": [
        {
          "output_type": "stream",
          "name": "stdout",
          "text": [
            "Epoch 1/5\n",
            "600/600 [==============================] - 14s 7ms/step - loss: 1.2530 - accuracy: 0.6058\n",
            "Epoch 2/5\n",
            "600/600 [==============================] - 4s 7ms/step - loss: 0.6741 - accuracy: 0.7519\n",
            "Epoch 3/5\n",
            "600/600 [==============================] - 4s 7ms/step - loss: 0.5848 - accuracy: 0.7865\n",
            "Epoch 4/5\n",
            "600/600 [==============================] - 4s 6ms/step - loss: 0.5364 - accuracy: 0.8070\n",
            "Epoch 5/5\n",
            "600/600 [==============================] - 4s 6ms/step - loss: 0.5019 - accuracy: 0.8196\n",
            "313/313 [==============================] - 1s 4ms/step - loss: 0.5077 - accuracy: 0.8223\n",
            "Test accuracy: 0.8223000168800354\n"
          ]
        }
      ]
    },
    {
      "cell_type": "markdown",
      "metadata": {
        "id": "fj52hITwj9qg"
      },
      "source": [
        "**Modelo 2**"
      ]
    },
    {
      "cell_type": "code",
      "metadata": {
        "id": "ozCNm6GLlXn5",
        "colab": {
          "base_uri": "https://localhost:8080/"
        },
        "outputId": "cfa62d07-734f-4aad-c405-322c8e638607"
      },
      "source": [
        "model2.fit(train_images, train_labels,\n",
        "          batch_size=100,\n",
        "          epochs=5)\n",
        "\n",
        "test_loss2, test_acc2 = model2.evaluate(test_images, test_labels)\n",
        "\n",
        "print('Test accuracy:', test_acc2)"
      ],
      "execution_count": 19,
      "outputs": [
        {
          "output_type": "stream",
          "name": "stdout",
          "text": [
            "Epoch 1/5\n",
            "600/600 [==============================] - 7s 11ms/step - loss: 1.0789 - accuracy: 0.6288\n",
            "Epoch 2/5\n",
            "600/600 [==============================] - 7s 11ms/step - loss: 0.6692 - accuracy: 0.7570\n",
            "Epoch 3/5\n",
            "600/600 [==============================] - 7s 11ms/step - loss: 0.5800 - accuracy: 0.7888\n",
            "Epoch 4/5\n",
            "600/600 [==============================] - 7s 11ms/step - loss: 0.5279 - accuracy: 0.8110\n",
            "Epoch 5/5\n",
            "600/600 [==============================] - 7s 11ms/step - loss: 0.4850 - accuracy: 0.8252\n",
            "313/313 [==============================] - 2s 5ms/step - loss: 0.5008 - accuracy: 0.8163\n",
            "Test accuracy: 0.8162999749183655\n"
          ]
        }
      ]
    },
    {
      "cell_type": "markdown",
      "metadata": {
        "id": "v2LwoZRDkAgT"
      },
      "source": [
        "**Modelo 3**"
      ]
    },
    {
      "cell_type": "code",
      "metadata": {
        "id": "dOHmYdsAlXcD",
        "colab": {
          "base_uri": "https://localhost:8080/"
        },
        "outputId": "786ad1fd-775a-4e6e-c055-5fdf770071fd"
      },
      "source": [
        "model3.fit(train_images, train_labels,\n",
        "          batch_size=100,\n",
        "          epochs=5)\n",
        "\n",
        "test_loss3, test_acc3 = model3.evaluate(test_images, test_labels)\n",
        "\n",
        "print('Test accuracy:', test_acc3)"
      ],
      "execution_count": 20,
      "outputs": [
        {
          "output_type": "stream",
          "name": "stdout",
          "text": [
            "Epoch 1/5\n",
            "600/600 [==============================] - 7s 12ms/step - loss: 0.4626 - accuracy: 0.8348\n",
            "Epoch 2/5\n",
            "600/600 [==============================] - 7s 11ms/step - loss: 0.2980 - accuracy: 0.8918\n",
            "Epoch 3/5\n",
            "600/600 [==============================] - 7s 11ms/step - loss: 0.2537 - accuracy: 0.9078\n",
            "Epoch 4/5\n",
            "600/600 [==============================] - 7s 11ms/step - loss: 0.2241 - accuracy: 0.9181\n",
            "Epoch 5/5\n",
            "600/600 [==============================] - 7s 11ms/step - loss: 0.2032 - accuracy: 0.9255\n",
            "313/313 [==============================] - 1s 4ms/step - loss: 0.2506 - accuracy: 0.9103\n",
            "Test accuracy: 0.9103000164031982\n"
          ]
        }
      ]
    },
    {
      "cell_type": "markdown",
      "metadata": {
        "id": "gUZ1xTfltkvo"
      },
      "source": [
        "## **Apartado 3**\n",
        "\n",
        "Analizar e interpretar los resultados del caso 1 frente a su original si se \n",
        "multiplica por 5 las épocas de entrenamiento (25)\n"
      ]
    },
    {
      "cell_type": "code",
      "metadata": {
        "id": "Pq8h1cgS49_0"
      },
      "source": [
        "model11 = Sequential()\n",
        "model11.add(Conv2D(32, (5, 5), activation='relu', input_shape=(28, 28, 1)))\n",
        "model11.add(MaxPooling2D((2, 2)))\n",
        "\n",
        "model11.add(Conv2D(64, (5, 5), activation='relu'))\n",
        "model11.add(MaxPooling2D((2, 2)))\n",
        "\n",
        "model11.add(Flatten())\n",
        "model11.add(Dense(10, activation='softmax'))\n"
      ],
      "execution_count": null,
      "outputs": []
    },
    {
      "cell_type": "code",
      "metadata": {
        "id": "vkL_ItVS5QZI",
        "colab": {
          "base_uri": "https://localhost:8080/"
        },
        "outputId": "26f98fec-5706-4616-e79a-96ccfba9138a"
      },
      "source": [
        "model11.compile(loss='sparse_categorical_crossentropy',\n",
        "              optimizer='sgd',\n",
        "              metrics=['accuracy'])\n",
        "\n",
        "model11.fit(train_images, train_labels, epochs=25, batch_size=100)\n",
        "\n",
        "test_loss11, test_acc11 = model11.evaluate(test_images, test_labels)\n",
        "\n",
        "print('Test accuracy:', test_acc11)"
      ],
      "execution_count": 22,
      "outputs": [
        {
          "output_type": "stream",
          "name": "stdout",
          "text": [
            "Epoch 1/25\n",
            "600/600 [==============================] - 5s 7ms/step - loss: 1.1752 - accuracy: 0.6303\n",
            "Epoch 2/25\n",
            "600/600 [==============================] - 4s 7ms/step - loss: 0.6516 - accuracy: 0.7621\n",
            "Epoch 3/25\n",
            "600/600 [==============================] - 4s 6ms/step - loss: 0.5702 - accuracy: 0.7922\n",
            "Epoch 4/25\n",
            "600/600 [==============================] - 4s 6ms/step - loss: 0.5241 - accuracy: 0.8118\n",
            "Epoch 5/25\n",
            "600/600 [==============================] - 4s 6ms/step - loss: 0.4895 - accuracy: 0.8253\n",
            "Epoch 6/25\n",
            "600/600 [==============================] - 4s 6ms/step - loss: 0.4653 - accuracy: 0.8349\n",
            "Epoch 7/25\n",
            "600/600 [==============================] - 4s 6ms/step - loss: 0.4454 - accuracy: 0.8424\n",
            "Epoch 8/25\n",
            "600/600 [==============================] - 4s 6ms/step - loss: 0.4297 - accuracy: 0.8484\n",
            "Epoch 9/25\n",
            "600/600 [==============================] - 4s 6ms/step - loss: 0.4174 - accuracy: 0.8540\n",
            "Epoch 10/25\n",
            "600/600 [==============================] - 4s 6ms/step - loss: 0.4061 - accuracy: 0.8569\n",
            "Epoch 11/25\n",
            "600/600 [==============================] - 4s 6ms/step - loss: 0.3976 - accuracy: 0.8595\n",
            "Epoch 12/25\n",
            "600/600 [==============================] - 4s 6ms/step - loss: 0.3895 - accuracy: 0.8625\n",
            "Epoch 13/25\n",
            "600/600 [==============================] - 4s 6ms/step - loss: 0.3826 - accuracy: 0.8647\n",
            "Epoch 14/25\n",
            "600/600 [==============================] - 4s 6ms/step - loss: 0.3760 - accuracy: 0.8675\n",
            "Epoch 15/25\n",
            "600/600 [==============================] - 4s 6ms/step - loss: 0.3703 - accuracy: 0.8690\n",
            "Epoch 16/25\n",
            "600/600 [==============================] - 4s 6ms/step - loss: 0.3635 - accuracy: 0.8713\n",
            "Epoch 17/25\n",
            "600/600 [==============================] - 4s 6ms/step - loss: 0.3588 - accuracy: 0.8737\n",
            "Epoch 18/25\n",
            "600/600 [==============================] - 4s 6ms/step - loss: 0.3548 - accuracy: 0.8753\n",
            "Epoch 19/25\n",
            "600/600 [==============================] - 4s 6ms/step - loss: 0.3502 - accuracy: 0.8763\n",
            "Epoch 20/25\n",
            "600/600 [==============================] - 4s 6ms/step - loss: 0.3458 - accuracy: 0.8773\n",
            "Epoch 21/25\n",
            "600/600 [==============================] - 4s 6ms/step - loss: 0.3413 - accuracy: 0.8785\n",
            "Epoch 22/25\n",
            "600/600 [==============================] - 4s 6ms/step - loss: 0.3378 - accuracy: 0.8807\n",
            "Epoch 23/25\n",
            "600/600 [==============================] - 4s 6ms/step - loss: 0.3344 - accuracy: 0.8819\n",
            "Epoch 24/25\n",
            "600/600 [==============================] - 4s 6ms/step - loss: 0.3299 - accuracy: 0.8834\n",
            "Epoch 25/25\n",
            "600/600 [==============================] - 4s 6ms/step - loss: 0.3276 - accuracy: 0.8845\n",
            "313/313 [==============================] - 1s 3ms/step - loss: 0.3572 - accuracy: 0.8751\n",
            "Test accuracy: 0.8751000165939331\n"
          ]
        }
      ]
    },
    {
      "cell_type": "markdown",
      "metadata": {
        "id": "wtmuuGRnkPry"
      },
      "source": [
        "Comentar"
      ]
    },
    {
      "cell_type": "markdown",
      "metadata": {
        "id": "bm7mDm_0Rr1J"
      },
      "source": [
        "## **Apartado 4**\n",
        "\n",
        "Analizar el resultado del caso 1 si en lugar de ReLU se usa tanh en la función de \n",
        "activación de las dos capas convolucionales.\n"
      ]
    },
    {
      "cell_type": "code",
      "metadata": {
        "id": "QnvNSsHf5hi1"
      },
      "source": [
        "model12 = Sequential()\n",
        "model12.add(Conv2D(32, (5, 5), activation='tanh', input_shape=(28, 28, 1)))\n",
        "model12.add(MaxPooling2D((2, 2)))\n",
        "\n",
        "model12.add(Conv2D(64, (5, 5), activation='tanh'))\n",
        "model12.add(MaxPooling2D((2, 2)))\n",
        "\n",
        "model12.add(Flatten())\n",
        "model12.add(Dense(10, activation='softmax'))"
      ],
      "execution_count": 23,
      "outputs": []
    },
    {
      "cell_type": "code",
      "metadata": {
        "id": "d3Lgl0KD5l5m",
        "colab": {
          "base_uri": "https://localhost:8080/"
        },
        "outputId": "d94c0d6a-5204-41b7-e893-d5fefee66952"
      },
      "source": [
        "model12.compile(loss='sparse_categorical_crossentropy',\n",
        "              optimizer='sgd',\n",
        "              metrics=['accuracy'])\n",
        "\n",
        "model12.fit(train_images, train_labels, epochs=5, batch_size=100)\n",
        "\n",
        "test_loss12, test_acc12 = model12.evaluate(test_images, test_labels)\n",
        "\n",
        "print('Test accuracy:', test_acc12)"
      ],
      "execution_count": 24,
      "outputs": [
        {
          "output_type": "stream",
          "name": "stdout",
          "text": [
            "Epoch 1/5\n",
            "600/600 [==============================] - 5s 7ms/step - loss: 1.1185 - accuracy: 0.6455\n",
            "Epoch 2/5\n",
            "600/600 [==============================] - 4s 6ms/step - loss: 0.6683 - accuracy: 0.7566\n",
            "Epoch 3/5\n",
            "600/600 [==============================] - 4s 6ms/step - loss: 0.5885 - accuracy: 0.7839\n",
            "Epoch 4/5\n",
            "600/600 [==============================] - 4s 6ms/step - loss: 0.5394 - accuracy: 0.8044\n",
            "Epoch 5/5\n",
            "600/600 [==============================] - 4s 6ms/step - loss: 0.5034 - accuracy: 0.8198\n",
            "313/313 [==============================] - 1s 3ms/step - loss: 0.5099 - accuracy: 0.8171\n",
            "Test accuracy: 0.8170999884605408\n"
          ]
        }
      ]
    },
    {
      "cell_type": "markdown",
      "metadata": {
        "id": "YgvtuBl65qvL"
      },
      "source": [
        "## **Predicciones**"
      ]
    },
    {
      "cell_type": "code",
      "metadata": {
        "id": "j3LtybsB6U0v",
        "colab": {
          "base_uri": "https://localhost:8080/",
          "height": 265
        },
        "outputId": "8ecfc722-517c-4d8a-d57c-a6bb2e1552d4"
      },
      "source": [
        "# Vemos el elemento 6 de test y pintémoslo con matplotlib\n",
        "from keras.datasets import fashion_mnist\n",
        "(train_images, train_labels), (test_images, test_labels) = fashion_mnist.load_data()\n",
        "import matplotlib.pyplot as plt\n",
        "digit = test_images[5]\n",
        "plt.imshow(digit, cmap=plt.cm.binary)\n",
        "plt.show()"
      ],
      "execution_count": 25,
      "outputs": [
        {
          "output_type": "display_data",
          "data": {
            "image/png": "[encoded data removed]",
            "text/plain": [
              "<Figure size 432x288 with 1 Axes>"
            ]
          },
          "metadata": {
            "needs_background": "light"
          }
        }
      ]
    },
    {
      "cell_type": "code",
      "metadata": {
        "id": "rIZBDnD36Wac"
      },
      "source": [
        "#Como hemos vuelto a añadir los datos para ver la imagen, tenemos que transformalos\n",
        "#otra vez, para hacer las predicciones.\n",
        "train_images = train_images.reshape((60000, 28,28,1))\n",
        "test_images = test_images.reshape((10000, 28,28,1))\n",
        "\n",
        "train_images = train_images.astype('float32') / 255\n",
        "test_images = test_images.astype('float32') / 255\n"
      ],
      "execution_count": 26,
      "outputs": []
    },
    {
      "cell_type": "markdown",
      "metadata": {
        "id": "bYVeFY7WSLTM"
      },
      "source": [
        "Hacemos predicciones sobre la 6º imagen de test en cada modelo utilizando `predcit`"
      ]
    },
    {
      "cell_type": "markdown",
      "metadata": {
        "id": "CDoLKtZzSVn-"
      },
      "source": [
        " **Modelo 1**"
      ]
    },
    {
      "cell_type": "code",
      "metadata": {
        "id": "z9Jnkmn56c9z",
        "colab": {
          "base_uri": "https://localhost:8080/"
        },
        "outputId": "85ebdaa4-4e8b-4368-f701-edb67a015ca7"
      },
      "source": [
        "import numpy as np\n",
        "predictions1 = model1.predict(test_images)\n",
        "print(np.argmax(predictions1[5]))\n",
        "print(predictions1[5])\n",
        "np.sum(predictions1[5])\n",
        "print(predictions1)"
      ],
      "execution_count": 27,
      "outputs": [
        {
          "output_type": "stream",
          "name": "stdout",
          "text": [
            "1\n",
            "[1.9689652e-04 9.9931252e-01 2.0879412e-05 4.4467157e-05 3.8046658e-04\n",
            " 4.1745227e-07 4.3407923e-05 9.9422415e-10 8.2421303e-07 2.0789046e-11]\n",
            "[[1.6429753e-06 3.8401815e-09 4.6304190e-06 ... 2.1561284e-01\n",
            "  5.2726022e-03 7.3323226e-01]\n",
            " [1.6633938e-03 1.1548513e-07 9.3852472e-01 ... 1.8393816e-09\n",
            "  4.8754275e-05 6.6828139e-09]\n",
            " [1.1703290e-05 9.9996352e-01 3.3043162e-07 ... 2.3554408e-10\n",
            "  4.3485169e-08 7.9264140e-13]\n",
            " ...\n",
            " [2.4620704e-02 5.9923295e-06 3.3987022e-03 ... 2.7638736e-05\n",
            "  8.7064797e-01 2.8327499e-06]\n",
            " [5.8909477e-04 9.5894527e-01 5.6898203e-05 ... 1.2603522e-06\n",
            "  9.1376005e-06 1.0272338e-07]\n",
            " [2.5742728e-04 2.3977394e-05 8.2717009e-04 ... 3.2006839e-01\n",
            "  4.2187929e-02 2.4788683e-02]]\n"
          ]
        }
      ]
    },
    {
      "cell_type": "markdown",
      "metadata": {
        "id": "6XCysrHknYJD"
      },
      "source": [
        "**Modelo 2**"
      ]
    },
    {
      "cell_type": "code",
      "metadata": {
        "id": "PhzAx2JanFzg",
        "colab": {
          "base_uri": "https://localhost:8080/"
        },
        "outputId": "1d2dc26d-179e-4340-bcb1-50c95a877999"
      },
      "source": [
        "predictions2 = model2.predict(test_images)\n",
        "print(np.argmax(predictions2[5]))\n",
        "print(predictions2[5])\n",
        "np.sum(predictions2[5])\n",
        "print(predictions2)"
      ],
      "execution_count": 28,
      "outputs": [
        {
          "output_type": "stream",
          "name": "stdout",
          "text": [
            "1\n",
            "[2.0362828e-04 9.9857223e-01 7.7586636e-05 5.2822375e-04 5.7576061e-04\n",
            " 1.4871076e-08 4.2021635e-05 1.0889633e-07 3.5659994e-07 4.5418105e-09]\n",
            "[[2.57896809e-05 2.71431895e-06 1.07519020e-06 ... 4.07776058e-01\n",
            "  4.21683863e-03 5.49596190e-01]\n",
            " [3.47064401e-04 6.56403063e-06 9.73383009e-01 ... 2.82342594e-10\n",
            "  1.07390106e-05 7.90797428e-10]\n",
            " [5.89402680e-06 9.99965191e-01 1.08335234e-06 ... 7.09354531e-09\n",
            "  4.86859930e-09 1.38254116e-10]\n",
            " ...\n",
            " [1.21021243e-02 2.74627801e-05 1.43863482e-03 ... 1.32068861e-04\n",
            "  8.25358510e-01 6.58616682e-06]\n",
            " [3.15051468e-04 9.83787894e-01 3.54523683e-04 ... 4.06602740e-05\n",
            "  6.67597715e-06 8.22560651e-06]\n",
            " [6.92635484e-04 1.06970736e-04 3.98049888e-04 ... 1.66581020e-01\n",
            "  3.13467905e-02 7.48495525e-03]]\n"
          ]
        }
      ]
    },
    {
      "cell_type": "markdown",
      "metadata": {
        "id": "iTFP0wgznbVt"
      },
      "source": [
        "**Modelo 3**"
      ]
    },
    {
      "cell_type": "code",
      "metadata": {
        "id": "49lnKqdbnFj2",
        "colab": {
          "base_uri": "https://localhost:8080/"
        },
        "outputId": "00eeaab7-e61c-430a-b08c-b326ed4cf82d"
      },
      "source": [
        "\n",
        "predictions3 = model3.predict(test_images)\n",
        "print(np.argmax(predictions3[5]))\n",
        "print(predictions3[5])\n",
        "np.sum(predictions3[5])\n",
        "print(predictions3)"
      ],
      "execution_count": 29,
      "outputs": [
        {
          "output_type": "stream",
          "name": "stdout",
          "text": [
            "1\n",
            "[3.2979395e-07 9.9999738e-01 5.7546214e-07 2.7508449e-07 2.1095623e-07\n",
            " 3.7352571e-08 9.0534080e-08 1.8069795e-08 1.0316912e-06 2.2791085e-09]\n",
            "[[2.90172331e-09 1.02646586e-10 6.72055633e-10 ... 5.79366788e-05\n",
            "  8.36539158e-08 9.99933124e-01]\n",
            " [6.69316287e-05 2.47183459e-12 9.99918342e-01 ... 4.48376806e-15\n",
            "  1.55538828e-11 7.51795612e-15]\n",
            " [4.51691626e-08 9.99998212e-01 1.05323901e-08 ... 3.91717636e-09\n",
            "  1.27321655e-08 3.22030735e-09]\n",
            " ...\n",
            " [9.47040917e-07 1.95221683e-09 1.67882138e-06 ... 2.19497798e-09\n",
            "  9.99984741e-01 1.99348218e-10]\n",
            " [1.38392515e-08 9.99999523e-01 3.18528381e-09 ... 3.97472444e-10\n",
            "  5.89465213e-11 6.93596403e-10]\n",
            " [3.26399691e-03 5.57660533e-04 6.13763137e-03 ... 4.28603172e-01\n",
            "  5.85963875e-02 4.08357522e-03]]\n"
          ]
        }
      ]
    },
    {
      "cell_type": "markdown",
      "metadata": {
        "id": "Vu04IQuX6z92"
      },
      "source": [
        "Ahora vamos a graficar las predicciones de la imagen 6 en cada modelo"
      ]
    },
    {
      "cell_type": "code",
      "metadata": {
        "id": "SlYRpfLw61qj"
      },
      "source": [
        "def plot_image(i, predictions_array, true_label, img):\n",
        "  predictions_array, true_label, img = predictions_array, true_label[i], img[i]\n",
        "  plt.grid(False)\n",
        "  plt.xticks([])\n",
        "  plt.yticks([])\n",
        "\n",
        "  plt.imshow(img, cmap=plt.cm.binary)    \n",
        "\n",
        "  predicted_label = np.argmax(predictions_array)\n",
        "  if predicted_label.all() == true_label.all():\n",
        "    color = 'blue'\n",
        "  else:\n",
        "    color = 'red'\n",
        "\n",
        "  plt.xlabel(\"{} {:2.0f}% ({})\".format(predicted_label,\n",
        "                                100*np.max(predictions_array),\n",
        "                                true_label),\n",
        "                                color=color)\n",
        "\n",
        "def plot_value_array(i, predictions_array, true_label):\n",
        "  predictions_array, true_label = predictions_array, true_label[i]\n",
        "  plt.grid(False)\n",
        "  plt.xticks(range(10))\n",
        "  plt.yticks([])\n",
        "  thisplot = plt.bar(range(10), predictions_array, color=\"#00FF00\")\n",
        "  plt.ylim([0, 1])\n",
        "  predicted_label = np.argmax(predictions_array)\n",
        "\n",
        "  thisplot[predicted_label].set_color('red')\n",
        "  thisplot[true_label].set_color('black')"
      ],
      "execution_count": 30,
      "outputs": []
    },
    {
      "cell_type": "markdown",
      "metadata": {
        "id": "nn2OoTA1Sro-"
      },
      "source": [
        "**Modelo 1**"
      ]
    },
    {
      "cell_type": "code",
      "metadata": {
        "id": "Sce3UJoG629B",
        "colab": {
          "base_uri": "https://localhost:8080/",
          "height": 211
        },
        "outputId": "da5a8355-583b-47eb-c7ae-232f91d46d32"
      },
      "source": [
        "i = 5\n",
        "plt.figure(figsize=(6,3))\n",
        "plt.subplot(1,2,1)\n",
        "plot_image(i, predictions1[i], test_labels, test_images.reshape(10000,28,28))\n",
        "plt.subplot(1,2,2)\n",
        "plot_value_array(i, predictions1[i],  test_labels)\n",
        "plt.show()"
      ],
      "execution_count": 31,
      "outputs": [
        {
          "output_type": "display_data",
          "data": {
            "image/png": "[encoded data removed]",
            "text/plain": [
              "<Figure size 432x216 with 2 Axes>"
            ]
          },
          "metadata": {
            "needs_background": "light"
          }
        }
      ]
    },
    {
      "cell_type": "markdown",
      "metadata": {
        "id": "1dq2V26QngNp"
      },
      "source": [
        "**Modelo 2**"
      ]
    },
    {
      "cell_type": "code",
      "metadata": {
        "id": "ySSWH4I2ngvR",
        "colab": {
          "base_uri": "https://localhost:8080/",
          "height": 211
        },
        "outputId": "e9951ced-2c4c-40eb-90df-879304287557"
      },
      "source": [
        "i = 5\n",
        "plt.figure(figsize=(6,3))\n",
        "plt.subplot(1,2,1)\n",
        "plot_image(i, predictions2[i], test_labels, test_images.reshape(10000,28,28))\n",
        "plt.subplot(1,2,2)\n",
        "plot_value_array(i, predictions2[i],  test_labels)\n",
        "plt.show()"
      ],
      "execution_count": 32,
      "outputs": [
        {
          "output_type": "display_data",
          "data": {
            "image/png": "[encoded data removed]",
            "text/plain": [
              "<Figure size 432x216 with 2 Axes>"
            ]
          },
          "metadata": {
            "needs_background": "light"
          }
        }
      ]
    },
    {
      "cell_type": "markdown",
      "metadata": {
        "id": "VgT4CRbXnnJf"
      },
      "source": [
        "**Modelo 3**"
      ]
    },
    {
      "cell_type": "code",
      "metadata": {
        "id": "ty2oegAYnouZ",
        "colab": {
          "base_uri": "https://localhost:8080/",
          "height": 211
        },
        "outputId": "a4ebd7cd-6a58-4800-8ae3-210a173da601"
      },
      "source": [
        "i = 5\n",
        "plt.figure(figsize=(6,3))\n",
        "plt.subplot(1,2,1)\n",
        "plot_image(i, predictions3[i], test_labels, test_images.reshape(10000,28,28))\n",
        "plt.subplot(1,2,2)\n",
        "plot_value_array(i, predictions3[i],  test_labels)\n",
        "plt.show()"
      ],
      "execution_count": 33,
      "outputs": [
        {
          "output_type": "display_data",
          "data": {
            "image/png": "[encoded data removed]",
            "text/plain": [
              "<Figure size 432x216 with 2 Axes>"
            ]
          },
          "metadata": {
            "needs_background": "light"
          }
        }
      ]
    },
    {
      "cell_type": "markdown",
      "metadata": {
        "id": "0jbYf05C7DrQ"
      },
      "source": [
        "Vemos la predicción, igual que el gráfico anterior, de las 14 primeras imágenes del conjunto de test, para cada uno de los casos."
      ]
    },
    {
      "cell_type": "markdown",
      "metadata": {
        "id": "D1GCS93flfGE"
      },
      "source": [
        "**Modelo 1**"
      ]
    },
    {
      "cell_type": "code",
      "metadata": {
        "id": "TwmpleF77G5b",
        "colab": {
          "base_uri": "https://localhost:8080/",
          "height": 1000
        },
        "outputId": "99261aab-97da-4f9f-bcd1-59709b1280a2"
      },
      "source": [
        "for i in range(14):\n",
        "    plt.figure(figsize=(6,3))\n",
        "    plt.subplot(1,2,1)\n",
        "    plot_image(i, predictions1[i], test_labels, test_images.reshape(10000,28,28))\n",
        "    plt.subplot(1,2,2)\n",
        "    plot_value_array(i, predictions1[i],  test_labels)\n",
        "    plt.show()\n",
        "    plt.clf()"
      ],
      "execution_count": 34,
      "outputs": [
        {
          "output_type": "display_data",
          "data": {
            "image/png": "[encoded data removed]",
            "text/plain": [
              "<Figure size 432x216 with 2 Axes>"
            ]
          },
          "metadata": {
            "needs_background": "light"
          }
        },
        {
          "output_type": "display_data",
          "data": {
            "text/plain": [
              "<Figure size 432x288 with 0 Axes>"
            ]
          },
          "metadata": {}
        },
        {
          "output_type": "display_data",
          "data": {
            "image/png": "[encoded data removed]",
            "text/plain": [
              "<Figure size 432x216 with 2 Axes>"
            ]
          },
          "metadata": {
            "needs_background": "light"
          }
        },
        {
          "output_type": "display_data",
          "data": {
            "text/plain": [
              "<Figure size 432x288 with 0 Axes>"
            ]
          },
          "metadata": {}
        },
        {
          "output_type": "display_data",
          "data": {
            "image/png": "[encoded data removed]",
            "text/plain": [
              "<Figure size 432x216 with 2 Axes>"
            ]
          },
          "metadata": {
            "needs_background": "light"
          }
        },
        {
          "output_type": "display_data",
          "data": {
            "text/plain": [
              "<Figure size 432x288 with 0 Axes>"
            ]
          },
          "metadata": {}
        },
        {
          "output_type": "display_data",
          "data": {
            "image/png": "[encoded data removed]",
            "text/plain": [
              "<Figure size 432x216 with 2 Axes>"
            ]
          },
          "metadata": {
            "needs_background": "light"
          }
        },
        {
          "output_type": "display_data",
          "data": {
            "text/plain": [
              "<Figure size 432x288 with 0 Axes>"
            ]
          },
          "metadata": {}
        },
        {
          "output_type": "display_data",
          "data": {
            "image/png": "[encoded data removed]",
            "text/plain": [
              "<Figure size 432x216 with 2 Axes>"
            ]
          },
          "metadata": {
            "needs_background": "light"
          }
        },
        {
          "output_type": "display_data",
          "data": {
            "text/plain": [
              "<Figure size 432x288 with 0 Axes>"
            ]
          },
          "metadata": {}
        },
        {
          "output_type": "display_data",
          "data": {
            "image/png": "[encoded data removed]",
            "text/plain": [
              "<Figure size 432x216 with 2 Axes>"
            ]
          },
          "metadata": {
            "needs_background": "light"
          }
        },
        {
          "output_type": "display_data",
          "data": {
            "text/plain": [
              "<Figure size 432x288 with 0 Axes>"
            ]
          },
          "metadata": {}
        },
        {
          "output_type": "display_data",
          "data": {
            "image/png": "[encoded data removed]",
            "text/plain": [
              "<Figure size 432x216 with 2 Axes>"
            ]
          },
          "metadata": {
            "needs_background": "light"
          }
        },
        {
          "output_type": "display_data",
          "data": {
            "text/plain": [
              "<Figure size 432x288 with 0 Axes>"
            ]
          },
          "metadata": {}
        },
        {
          "output_type": "display_data",
          "data": {
            "image/png": "[encoded data removed]",
            "text/plain": [
              "<Figure size 432x216 with 2 Axes>"
            ]
          },
          "metadata": {
            "needs_background": "light"
          }
        },
        {
          "output_type": "display_data",
          "data": {
            "text/plain": [
              "<Figure size 432x288 with 0 Axes>"
            ]
          },
          "metadata": {}
        },
        {
          "output_type": "display_data",
          "data": {
            "image/png": "[encoded data removed]",
            "text/plain": [
              "<Figure size 432x216 with 2 Axes>"
            ]
          },
          "metadata": {
            "needs_background": "light"
          }
        },
        {
          "output_type": "display_data",
          "data": {
            "text/plain": [
              "<Figure size 432x288 with 0 Axes>"
            ]
          },
          "metadata": {}
        },
        {
          "output_type": "display_data",
          "data": {
            "image/png": "[encoded data removed]",
            "text/plain": [
              "<Figure size 432x216 with 2 Axes>"
            ]
          },
          "metadata": {
            "needs_background": "light"
          }
        },
        {
          "output_type": "display_data",
          "data": {
            "text/plain": [
              "<Figure size 432x288 with 0 Axes>"
            ]
          },
          "metadata": {}
        },
        {
          "output_type": "display_data",
          "data": {
            "image/png": "[encoded data removed]",
            "text/plain": [
              "<Figure size 432x216 with 2 Axes>"
            ]
          },
          "metadata": {
            "needs_background": "light"
          }
        },
        {
          "output_type": "display_data",
          "data": {
            "text/plain": [
              "<Figure size 432x288 with 0 Axes>"
            ]
          },
          "metadata": {}
        },
        {
          "output_type": "display_data",
          "data": {
            "image/png": "[encoded data removed]",
            "text/plain": [
              "<Figure size 432x216 with 2 Axes>"
            ]
          },
          "metadata": {
            "needs_background": "light"
          }
        },
        {
          "output_type": "display_data",
          "data": {
            "text/plain": [
              "<Figure size 432x288 with 0 Axes>"
            ]
          },
          "metadata": {}
        },
        {
          "output_type": "display_data",
          "data": {
            "image/png": "[encoded data removed]",
            "text/plain": [
              "<Figure size 432x216 with 2 Axes>"
            ]
          },
          "metadata": {
            "needs_background": "light"
          }
        },
        {
          "output_type": "display_data",
          "data": {
            "text/plain": [
              "<Figure size 432x288 with 0 Axes>"
            ]
          },
          "metadata": {}
        },
        {
          "output_type": "display_data",
          "data": {
            "image/png": "[encoded data removed]",
            "text/plain": [
              "<Figure size 432x216 with 2 Axes>"
            ]
          },
          "metadata": {
            "needs_background": "light"
          }
        },
        {
          "output_type": "display_data",
          "data": {
            "text/plain": [
              "<Figure size 432x288 with 0 Axes>"
            ]
          },
          "metadata": {}
        }
      ]
    },
    {
      "cell_type": "markdown",
      "metadata": {
        "id": "z0tlIv28lirc"
      },
      "source": [
        "**Modelo 2**"
      ]
    },
    {
      "cell_type": "code",
      "metadata": {
        "id": "vDv7MwFXns_E",
        "colab": {
          "base_uri": "https://localhost:8080/",
          "height": 1000
        },
        "outputId": "db2b0355-ca4c-4199-bec1-e3414691a159"
      },
      "source": [
        "for i in range(14):\n",
        "    plt.figure(figsize=(6,3))\n",
        "    plt.subplot(1,2,1)\n",
        "    plot_image(i, predictions2[i], test_labels, test_images.reshape(10000,28,28))\n",
        "    plt.subplot(1,2,2)\n",
        "    plot_value_array(i, predictions2[i],  test_labels)\n",
        "    plt.show()\n",
        "    plt.clf()"
      ],
      "execution_count": 35,
      "outputs": [
        {
          "output_type": "display_data",
          "data": {
            "image/png": "[encoded data removed]",
            "text/plain": [
              "<Figure size 432x216 with 2 Axes>"
            ]
          },
          "metadata": {
            "needs_background": "light"
          }
        },
        {
          "output_type": "display_data",
          "data": {
            "text/plain": [
              "<Figure size 432x288 with 0 Axes>"
            ]
          },
          "metadata": {}
        },
        {
          "output_type": "display_data",
          "data": {
            "image/png": "[encoded data removed]",
            "text/plain": [
              "<Figure size 432x216 with 2 Axes>"
            ]
          },
          "metadata": {
            "needs_background": "light"
          }
        },
        {
          "output_type": "display_data",
          "data": {
            "text/plain": [
              "<Figure size 432x288 with 0 Axes>"
            ]
          },
          "metadata": {}
        },
        {
          "output_type": "display_data",
          "data": {
            "image/png": "[encoded data removed]",
            "text/plain": [
              "<Figure size 432x216 with 2 Axes>"
            ]
          },
          "metadata": {
            "needs_background": "light"
          }
        },
        {
          "output_type": "display_data",
          "data": {
            "text/plain": [
              "<Figure size 432x288 with 0 Axes>"
            ]
          },
          "metadata": {}
        },
        {
          "output_type": "display_data",
          "data": {
            "image/png": "[encoded data removed]",
            "text/plain": [
              "<Figure size 432x216 with 2 Axes>"
            ]
          },
          "metadata": {
            "needs_background": "light"
          }
        },
        {
          "output_type": "display_data",
          "data": {
            "text/plain": [
              "<Figure size 432x288 with 0 Axes>"
            ]
          },
          "metadata": {}
        },
        {
          "output_type": "display_data",
          "data": {
            "image/png": "[encoded data removed]",
            "text/plain": [
              "<Figure size 432x216 with 2 Axes>"
            ]
          },
          "metadata": {
            "needs_background": "light"
          }
        },
        {
          "output_type": "display_data",
          "data": {
            "text/plain": [
              "<Figure size 432x288 with 0 Axes>"
            ]
          },
          "metadata": {}
        },
        {
          "output_type": "display_data",
          "data": {
            "image/png": "[encoded data removed]",
            "text/plain": [
              "<Figure size 432x216 with 2 Axes>"
            ]
          },
          "metadata": {
            "needs_background": "light"
          }
        },
        {
          "output_type": "display_data",
          "data": {
            "text/plain": [
              "<Figure size 432x288 with 0 Axes>"
            ]
          },
          "metadata": {}
        },
        {
          "output_type": "display_data",
          "data": {
            "image/png": "[encoded data removed]",
            "text/plain": [
              "<Figure size 432x216 with 2 Axes>"
            ]
          },
          "metadata": {
            "needs_background": "light"
          }
        },
        {
          "output_type": "display_data",
          "data": {
            "text/plain": [
              "<Figure size 432x288 with 0 Axes>"
            ]
          },
          "metadata": {}
        },
        {
          "output_type": "display_data",
          "data": {
            "image/png": "[encoded data removed]",
            "text/plain": [
              "<Figure size 432x216 with 2 Axes>"
            ]
          },
          "metadata": {
            "needs_background": "light"
          }
        },
        {
          "output_type": "display_data",
          "data": {
            "text/plain": [
              "<Figure size 432x288 with 0 Axes>"
            ]
          },
          "metadata": {}
        },
        {
          "output_type": "display_data",
          "data": {
            "image/png": "[encoded data removed]",
            "text/plain": [
              "<Figure size 432x216 with 2 Axes>"
            ]
          },
          "metadata": {
            "needs_background": "light"
          }
        },
        {
          "output_type": "display_data",
          "data": {
            "text/plain": [
              "<Figure size 432x288 with 0 Axes>"
            ]
          },
          "metadata": {}
        },
        {
          "output_type": "display_data",
          "data": {
            "image/png": "[encoded data removed]",
            "text/plain": [
              "<Figure size 432x216 with 2 Axes>"
            ]
          },
          "metadata": {
            "needs_background": "light"
          }
        },
        {
          "output_type": "display_data",
          "data": {
            "text/plain": [
              "<Figure size 432x288 with 0 Axes>"
            ]
          },
          "metadata": {}
        },
        {
          "output_type": "display_data",
          "data": {
            "image/png": "[encoded data removed]",
            "text/plain": [
              "<Figure size 432x216 with 2 Axes>"
            ]
          },
          "metadata": {
            "needs_background": "light"
          }
        },
        {
          "output_type": "display_data",
          "data": {
            "text/plain": [
              "<Figure size 432x288 with 0 Axes>"
            ]
          },
          "metadata": {}
        },
        {
          "output_type": "display_data",
          "data": {
            "image/png": "[encoded data removed]",
            "text/plain": [
              "<Figure size 432x216 with 2 Axes>"
            ]
          },
          "metadata": {
            "needs_background": "light"
          }
        },
        {
          "output_type": "display_data",
          "data": {
            "text/plain": [
              "<Figure size 432x288 with 0 Axes>"
            ]
          },
          "metadata": {}
        },
        {
          "output_type": "display_data",
          "data": {
            "image/png": "[encoded data removed]",
            "text/plain": [
              "<Figure size 432x216 with 2 Axes>"
            ]
          },
          "metadata": {
            "needs_background": "light"
          }
        },
        {
          "output_type": "display_data",
          "data": {
            "text/plain": [
              "<Figure size 432x288 with 0 Axes>"
            ]
          },
          "metadata": {}
        },
        {
          "output_type": "display_data",
          "data": {
            "image/png": "[encoded data removed]",
            "text/plain": [
              "<Figure size 432x216 with 2 Axes>"
            ]
          },
          "metadata": {
            "needs_background": "light"
          }
        },
        {
          "output_type": "display_data",
          "data": {
            "text/plain": [
              "<Figure size 432x288 with 0 Axes>"
            ]
          },
          "metadata": {}
        }
      ]
    },
    {
      "cell_type": "markdown",
      "metadata": {
        "id": "b5XSxBiAllx8"
      },
      "source": [
        "**Modelo 3**"
      ]
    },
    {
      "cell_type": "code",
      "metadata": {
        "id": "b11tOQJqnsxy",
        "colab": {
          "base_uri": "https://localhost:8080/",
          "height": 1000
        },
        "outputId": "189377ca-8201-41fb-c258-56907888c564"
      },
      "source": [
        "for i in range(14):\n",
        "    plt.figure(figsize=(6,3))\n",
        "    plt.subplot(1,2,1)\n",
        "    plot_image(i, predictions3[i], test_labels, test_images.reshape(10000,28,28))\n",
        "    plt.subplot(1,2,2)\n",
        "    plot_value_array(i, predictions3[i],  test_labels)\n",
        "    plt.show()\n",
        "    plt.clf()"
      ],
      "execution_count": 36,
      "outputs": [
        {
          "output_type": "display_data",
          "data": {
            "image/png": "[encoded data removed]",
            "text/plain": [
              "<Figure size 432x216 with 2 Axes>"
            ]
          },
          "metadata": {
            "needs_background": "light"
          }
        },
        {
          "output_type": "display_data",
          "data": {
            "text/plain": [
              "<Figure size 432x288 with 0 Axes>"
            ]
          },
          "metadata": {}
        },
        {
          "output_type": "display_data",
          "data": {
            "image/png": "[encoded data removed]",
            "text/plain": [
              "<Figure size 432x216 with 2 Axes>"
            ]
          },
          "metadata": {
            "needs_background": "light"
          }
        },
        {
          "output_type": "display_data",
          "data": {
            "text/plain": [
              "<Figure size 432x288 with 0 Axes>"
            ]
          },
          "metadata": {}
        },
        {
          "output_type": "display_data",
          "data": {
            "image/png": "[encoded data removed]",
            "text/plain": [
              "<Figure size 432x216 with 2 Axes>"
            ]
          },
          "metadata": {
            "needs_background": "light"
          }
        },
        {
          "output_type": "display_data",
          "data": {
            "text/plain": [
              "<Figure size 432x288 with 0 Axes>"
            ]
          },
          "metadata": {}
        },
        {
          "output_type": "display_data",
          "data": {
            "image/png": "[encoded data removed]",
            "text/plain": [
              "<Figure size 432x216 with 2 Axes>"
            ]
          },
          "metadata": {
            "needs_background": "light"
          }
        },
        {
          "output_type": "display_data",
          "data": {
            "text/plain": [
              "<Figure size 432x288 with 0 Axes>"
            ]
          },
          "metadata": {}
        },
        {
          "output_type": "display_data",
          "data": {
            "image/png": "[encoded data removed]",
            "text/plain": [
              "<Figure size 432x216 with 2 Axes>"
            ]
          },
          "metadata": {
            "needs_background": "light"
          }
        },
        {
          "output_type": "display_data",
          "data": {
            "text/plain": [
              "<Figure size 432x288 with 0 Axes>"
            ]
          },
          "metadata": {}
        },
        {
          "output_type": "display_data",
          "data": {
            "image/png": "[encoded data removed]",
            "text/plain": [
              "<Figure size 432x216 with 2 Axes>"
            ]
          },
          "metadata": {
            "needs_background": "light"
          }
        },
        {
          "output_type": "display_data",
          "data": {
            "text/plain": [
              "<Figure size 432x288 with 0 Axes>"
            ]
          },
          "metadata": {}
        },
        {
          "output_type": "display_data",
          "data": {
            "image/png": "[encoded data removed]",
            "text/plain": [
              "<Figure size 432x216 with 2 Axes>"
            ]
          },
          "metadata": {
            "needs_background": "light"
          }
        },
        {
          "output_type": "display_data",
          "data": {
            "text/plain": [
              "<Figure size 432x288 with 0 Axes>"
            ]
          },
          "metadata": {}
        },
        {
          "output_type": "display_data",
          "data": {
            "image/png": "[encoded data removed]",
            "text/plain": [
              "<Figure size 432x216 with 2 Axes>"
            ]
          },
          "metadata": {
            "needs_background": "light"
          }
        },
        {
          "output_type": "display_data",
          "data": {
            "text/plain": [
              "<Figure size 432x288 with 0 Axes>"
            ]
          },
          "metadata": {}
        },
        {
          "output_type": "display_data",
          "data": {
            "image/png": "[encoded data removed]",
            "text/plain": [
              "<Figure size 432x216 with 2 Axes>"
            ]
          },
          "metadata": {
            "needs_background": "light"
          }
        },
        {
          "output_type": "display_data",
          "data": {
            "text/plain": [
              "<Figure size 432x288 with 0 Axes>"
            ]
          },
          "metadata": {}
        },
        {
          "output_type": "display_data",
          "data": {
            "image/png": "[encoded data removed]",
            "text/plain": [
              "<Figure size 432x216 with 2 Axes>"
            ]
          },
          "metadata": {
            "needs_background": "light"
          }
        },
        {
          "output_type": "display_data",
          "data": {
            "text/plain": [
              "<Figure size 432x288 with 0 Axes>"
            ]
          },
          "metadata": {}
        },
        {
          "output_type": "display_data",
          "data": {
            "image/png": "[encoded data removed]",
            "text/plain": [
              "<Figure size 432x216 with 2 Axes>"
            ]
          },
          "metadata": {
            "needs_background": "light"
          }
        },
        {
          "output_type": "display_data",
          "data": {
            "text/plain": [
              "<Figure size 432x288 with 0 Axes>"
            ]
          },
          "metadata": {}
        },
        {
          "output_type": "display_data",
          "data": {
            "image/png": "[encoded data removed]",
            "text/plain": [
              "<Figure size 432x216 with 2 Axes>"
            ]
          },
          "metadata": {
            "needs_background": "light"
          }
        },
        {
          "output_type": "display_data",
          "data": {
            "text/plain": [
              "<Figure size 432x288 with 0 Axes>"
            ]
          },
          "metadata": {}
        },
        {
          "output_type": "display_data",
          "data": {
            "image/png": "[encoded data removed]",
            "text/plain": [
              "<Figure size 432x216 with 2 Axes>"
            ]
          },
          "metadata": {
            "needs_background": "light"
          }
        },
        {
          "output_type": "display_data",
          "data": {
            "text/plain": [
              "<Figure size 432x288 with 0 Axes>"
            ]
          },
          "metadata": {}
        },
        {
          "output_type": "display_data",
          "data": {
            "image/png": "[encoded data removed]",
            "text/plain": [
              "<Figure size 432x216 with 2 Axes>"
            ]
          },
          "metadata": {
            "needs_background": "light"
          }
        },
        {
          "output_type": "display_data",
          "data": {
            "text/plain": [
              "<Figure size 432x288 with 0 Axes>"
            ]
          },
          "metadata": {}
        }
      ]
    },
    {
      "cell_type": "markdown",
      "metadata": {
        "id": "RQMqFdSnbYie"
      },
      "source": [
        "## **DROPOUT**"
      ]
    },
    {
      "cell_type": "markdown",
      "metadata": {
        "id": "yA4NxVbE-PsN"
      },
      "source": [
        "Dropout es una de las técnicas de regularización más efectivas \n",
        "\n",
        "Aplicar dropout a una capa consiste en retirar (poner a cero) \n",
        "aleatoriamente un número de características de salida de la \n",
        "capa durante el entrenamiento.\n",
        "\n",
        "La “tasa de dropout” es la proporción de características que se \n",
        "ponen a 0 (entre 0.2 a 0.5)\n",
        "\n",
        "Durante la prueba, no se retira ninguna característica. En su lugar, \n",
        "los valores de salida de la capa se reducen en un factor que es la “tasa de dropout” (para equilibrar que haya más neuronas activas que en el entrenamiento)."
      ]
    },
    {
      "cell_type": "markdown",
      "metadata": {
        "id": "apo33yu_mJL3"
      },
      "source": [
        "Añadimos dropout, en un modelo como el Modelo 1, en cada capa con una tasa igual a 0.5"
      ]
    },
    {
      "cell_type": "code",
      "metadata": {
        "id": "ai6pfDF3beK_",
        "colab": {
          "base_uri": "https://localhost:8080/"
        },
        "outputId": "a6bc86b5-697f-4a85-9b4e-62a0b4e60a1d"
      },
      "source": [
        "from keras import layers\n",
        "from keras import models\n",
        "modelD = Sequential()\n",
        "modelD.add(Conv2D(32, (5, 5), activation='relu', input_shape=(28, 28, 1)))\n",
        "modelD.add(layers.Dropout(0.5))\n",
        "modelD.add(MaxPooling2D((2, 2)))\n",
        "\n",
        "modelD.add(Conv2D(64, (5, 5), activation='relu'))\n",
        "modelD.add(layers.Dropout(0.5))\n",
        "modelD.add(MaxPooling2D((2, 2)))\n",
        "\n",
        "modelD.add(Flatten())\n",
        "modelD.add(layers.Dropout(0.5))\n",
        "modelD.add(Dense(10, activation='softmax'))\n",
        "modelD.summary()"
      ],
      "execution_count": 37,
      "outputs": [
        {
          "output_type": "stream",
          "name": "stdout",
          "text": [
            "Model: \"sequential_5\"\n",
            "_________________________________________________________________\n",
            " Layer (type)                Output Shape              Param #   \n",
            "=================================================================\n",
            " conv2d_10 (Conv2D)          (None, 24, 24, 32)        832       \n",
            "                                                                 \n",
            " dropout (Dropout)           (None, 24, 24, 32)        0         \n",
            "                                                                 \n",
            " max_pooling2d_10 (MaxPoolin  (None, 12, 12, 32)       0         \n",
            " g2D)                                                            \n",
            "                                                                 \n",
            " conv2d_11 (Conv2D)          (None, 8, 8, 64)          51264     \n",
            "                                                                 \n",
            " dropout_1 (Dropout)         (None, 8, 8, 64)          0         \n",
            "                                                                 \n",
            " max_pooling2d_11 (MaxPoolin  (None, 4, 4, 64)         0         \n",
            " g2D)                                                            \n",
            "                                                                 \n",
            " flatten_5 (Flatten)         (None, 1024)              0         \n",
            "                                                                 \n",
            " dropout_2 (Dropout)         (None, 1024)              0         \n",
            "                                                                 \n",
            " dense_7 (Dense)             (None, 10)                10250     \n",
            "                                                                 \n",
            "=================================================================\n",
            "Total params: 62,346\n",
            "Trainable params: 62,346\n",
            "Non-trainable params: 0\n",
            "_________________________________________________________________\n"
          ]
        }
      ]
    },
    {
      "cell_type": "code",
      "metadata": {
        "id": "VhnScMA4cFgZ",
        "colab": {
          "base_uri": "https://localhost:8080/"
        },
        "outputId": "bb561395-b754-4901-c785-73557d7b3bfd"
      },
      "source": [
        "modelD.compile(loss='sparse_categorical_crossentropy',\n",
        "              optimizer='sgd',\n",
        "              metrics=['accuracy'])\n",
        "\n",
        "modelD.fit(train_images, train_labels, epochs=5, batch_size=100)\n",
        "\n",
        "test_lossD, test_accD = modelD.evaluate(test_images, test_labels)\n",
        "\n",
        "print('Test accuracy:', test_accD)"
      ],
      "execution_count": 38,
      "outputs": [
        {
          "output_type": "stream",
          "name": "stdout",
          "text": [
            "Epoch 1/5\n",
            "600/600 [==============================] - 5s 7ms/step - loss: 1.0459 - accuracy: 0.6219\n",
            "Epoch 2/5\n",
            "600/600 [==============================] - 4s 7ms/step - loss: 0.7021 - accuracy: 0.7428\n",
            "Epoch 3/5\n",
            "600/600 [==============================] - 4s 7ms/step - loss: 0.6284 - accuracy: 0.7671\n",
            "Epoch 4/5\n",
            "600/600 [==============================] - 4s 7ms/step - loss: 0.5858 - accuracy: 0.7840\n",
            "Epoch 5/5\n",
            "600/600 [==============================] - 4s 7ms/step - loss: 0.5561 - accuracy: 0.7958\n",
            "313/313 [==============================] - 1s 4ms/step - loss: 0.8199 - accuracy: 0.8239\n",
            "Test accuracy: 0.8238999843597412\n"
          ]
        }
      ]
    },
    {
      "cell_type": "markdown",
      "metadata": {
        "id": "0f07gbcn_vR4"
      },
      "source": [
        "## **BatchNormalization**"
      ]
    },
    {
      "cell_type": "markdown",
      "metadata": {
        "id": "pjL-u6-t_8OQ"
      },
      "source": [
        "Capa que normaliza sus entradas.\n",
        "\n",
        "La normalización por lotes aplica una transformación que mantiene la salida media cerca de 0 y la desviación estándar de salida cerca de 1.\n",
        "\n",
        "Añadimos BatchNormalization, en un modelo como el Modelo 1, en cada capa\n"
      ]
    },
    {
      "cell_type": "code",
      "metadata": {
        "id": "lagstSA1bPOm",
        "colab": {
          "base_uri": "https://localhost:8080/"
        },
        "outputId": "54a66d37-55f8-4dff-c3b3-ca97d9ddb07e"
      },
      "source": [
        "from keras import layers\n",
        "from keras import models\n",
        "from tensorflow.keras.layers import BatchNormalization\n",
        "modelB = Sequential()\n",
        "modelB.add(Conv2D(32, (5, 5), activation='relu', input_shape=(28, 28, 1)))\n",
        "modelB.add(BatchNormalization())\n",
        "modelB.add(MaxPooling2D((2, 2)))\n",
        "\n",
        "modelB.add(Conv2D(64, (5, 5), activation='relu'))\n",
        "modelB.add(BatchNormalization())\n",
        "modelB.add(MaxPooling2D((2, 2)))\n",
        "\n",
        "modelB.add(Flatten())\n",
        "modelB.add(BatchNormalization())\n",
        "modelB.add(Dense(10, activation='softmax'))\n",
        "modelB.summary()"
      ],
      "execution_count": 39,
      "outputs": [
        {
          "output_type": "stream",
          "name": "stdout",
          "text": [
            "Model: \"sequential_6\"\n",
            "_________________________________________________________________\n",
            " Layer (type)                Output Shape              Param #   \n",
            "=================================================================\n",
            " conv2d_12 (Conv2D)          (None, 24, 24, 32)        832       \n",
            "                                                                 \n",
            " batch_normalization (BatchN  (None, 24, 24, 32)       128       \n",
            " ormalization)                                                   \n",
            "                                                                 \n",
            " max_pooling2d_12 (MaxPoolin  (None, 12, 12, 32)       0         \n",
            " g2D)                                                            \n",
            "                                                                 \n",
            " conv2d_13 (Conv2D)          (None, 8, 8, 64)          51264     \n",
            "                                                                 \n",
            " batch_normalization_1 (Batc  (None, 8, 8, 64)         256       \n",
            " hNormalization)                                                 \n",
            "                                                                 \n",
            " max_pooling2d_13 (MaxPoolin  (None, 4, 4, 64)         0         \n",
            " g2D)                                                            \n",
            "                                                                 \n",
            " flatten_6 (Flatten)         (None, 1024)              0         \n",
            "                                                                 \n",
            " batch_normalization_2 (Batc  (None, 1024)             4096      \n",
            " hNormalization)                                                 \n",
            "                                                                 \n",
            " dense_8 (Dense)             (None, 10)                10250     \n",
            "                                                                 \n",
            "=================================================================\n",
            "Total params: 66,826\n",
            "Trainable params: 64,586\n",
            "Non-trainable params: 2,240\n",
            "_________________________________________________________________\n"
          ]
        }
      ]
    },
    {
      "cell_type": "code",
      "metadata": {
        "id": "WVDllVP3dGZh",
        "colab": {
          "base_uri": "https://localhost:8080/"
        },
        "outputId": "872f7ff2-05df-4dc0-d220-7fd085b3c15a"
      },
      "source": [
        "modelB.compile(loss='sparse_categorical_crossentropy',\n",
        "              optimizer='sgd',\n",
        "              metrics=['accuracy'])\n",
        "\n",
        "modelB.fit(train_images, train_labels, epochs=5, batch_size=100)\n",
        "\n",
        "test_lossB, test_accB = modelB.evaluate(test_images, test_labels)\n",
        "\n",
        "print('Test accuracy:', test_accB)"
      ],
      "execution_count": 40,
      "outputs": [
        {
          "output_type": "stream",
          "name": "stdout",
          "text": [
            "Epoch 1/5\n",
            "600/600 [==============================] - 6s 8ms/step - loss: 0.4909 - accuracy: 0.8259\n",
            "Epoch 2/5\n",
            "600/600 [==============================] - 5s 8ms/step - loss: 0.3480 - accuracy: 0.8756\n",
            "Epoch 3/5\n",
            "600/600 [==============================] - 5s 8ms/step - loss: 0.3054 - accuracy: 0.8918\n",
            "Epoch 4/5\n",
            "600/600 [==============================] - 4s 7ms/step - loss: 0.2787 - accuracy: 0.9007\n",
            "Epoch 5/5\n",
            "600/600 [==============================] - 4s 7ms/step - loss: 0.2607 - accuracy: 0.9084\n",
            "313/313 [==============================] - 1s 4ms/step - loss: 0.3964 - accuracy: 0.8551\n",
            "Test accuracy: 0.8550999760627747\n"
          ]
        }
      ]
    },
    {
      "cell_type": "markdown",
      "metadata": {
        "id": "zi1OxQpxOz5Y"
      },
      "source": [
        "## **Callbacks API**\n",
        "Una \"callback\" o devolución de llamada es un objeto que puede realizar acciones en varias etapas del entrenamiento (por ejemplo, al comienzo o al final de una época, antes o después de un solo lote, etc.).\n",
        "\n",
        "Puede usar devoluciones de llamada para:\n",
        "\n",
        " \n",
        "\n",
        "*   Escribir registros de TensorBoard después de cada lote de entrenamiento     para monitorear sus métricas\n",
        "*   Guarde periódicamente el modelo en el disco\n",
        "*   Hacer paradas tempranas\n",
        "*   Obtener una vista de los estados internos y las estadísticas de un modelo durante el entrenamiento\n",
        "*   etc\n"
      ]
    },
    {
      "cell_type": "markdown",
      "metadata": {
        "id": "QAFAtYe6QVKV"
      },
      "source": [
        "*   **Creamos un modelo implementando callback**\n",
        " \n",
        " Utilizamos callback para entrenar un modelo igual al Modelo 2"
      ]
    },
    {
      "cell_type": "code",
      "metadata": {
        "id": "uFlyh5x5QDoq",
        "colab": {
          "base_uri": "https://localhost:8080/"
        },
        "outputId": "bb00c8a4-5f24-4189-e92e-d07bb3038103"
      },
      "source": [
        "modelnuevo = Sequential()\n",
        "modelnuevo.add(Conv2D(64, (7, 7), padding='same', activation='relu', input_shape=(28, 28, 1)))\n",
        "modelnuevo.add(MaxPooling2D((2, 2)))\n",
        "\n",
        "modelnuevo.add(Conv2D(128, (3, 3), padding='same', activation='relu'))\n",
        "modelnuevo.add(MaxPooling2D((2, 2)))\n",
        "\n",
        "modelnuevo.add(Flatten())\n",
        "modelnuevo.add(Dense(65, activation='relu'))\n",
        "modelnuevo.add(Dense(10, activation='softmax'))\n",
        "modelnuevo.summary()\n",
        "\n",
        "\n",
        "modelnuevo.compile(loss='sparse_categorical_crossentropy',\n",
        "              optimizer='sgd',\n",
        "              metrics=['accuracy'])\n",
        "\n",
        "#tensorboard_callback = tf.keras.callbacks.TensorBoard(log_dir=\"./logs\")\n",
        "def scheduler(epoch, lr):\n",
        "    if epoch < 1:\n",
        "        return lr\n",
        "    else:\n",
        "        return lr * tf.math.exp(-0.1)\n",
        "\n",
        "\n",
        "callback = tf.keras.callbacks.LearningRateScheduler(scheduler)\n",
        "\n",
        "\n",
        "modelnuevo.fit(train_images, train_labels,\n",
        "          batch_size=100,\n",
        "          epochs=5,\n",
        "          callbacks=[callback])\n",
        "\n",
        "test_loss, test_acc = modelnuevo.evaluate(test_images, test_labels)\n",
        "\n",
        "print('Test accuracy:', test_acc)"
      ],
      "execution_count": 41,
      "outputs": [
        {
          "output_type": "stream",
          "name": "stdout",
          "text": [
            "Model: \"sequential_7\"\n",
            "_________________________________________________________________\n",
            " Layer (type)                Output Shape              Param #   \n",
            "=================================================================\n",
            " conv2d_14 (Conv2D)          (None, 28, 28, 64)        3200      \n",
            "                                                                 \n",
            " max_pooling2d_14 (MaxPoolin  (None, 14, 14, 64)       0         \n",
            " g2D)                                                            \n",
            "                                                                 \n",
            " conv2d_15 (Conv2D)          (None, 14, 14, 128)       73856     \n",
            "                                                                 \n",
            " max_pooling2d_15 (MaxPoolin  (None, 7, 7, 128)        0         \n",
            " g2D)                                                            \n",
            "                                                                 \n",
            " flatten_7 (Flatten)         (None, 6272)              0         \n",
            "                                                                 \n",
            " dense_9 (Dense)             (None, 65)                407745    \n",
            "                                                                 \n",
            " dense_10 (Dense)            (None, 10)                660       \n",
            "                                                                 \n",
            "=================================================================\n",
            "Total params: 485,461\n",
            "Trainable params: 485,461\n",
            "Non-trainable params: 0\n",
            "_________________________________________________________________\n",
            "Epoch 1/5\n",
            "600/600 [==============================] - 7s 11ms/step - loss: 1.0650 - accuracy: 0.6237 - lr: 0.0100\n",
            "Epoch 2/5\n",
            "600/600 [==============================] - 7s 11ms/step - loss: 0.6647 - accuracy: 0.7588 - lr: 0.0090\n",
            "Epoch 3/5\n",
            "600/600 [==============================] - 7s 11ms/step - loss: 0.5966 - accuracy: 0.7826 - lr: 0.0082\n",
            "Epoch 4/5\n",
            "600/600 [==============================] - 7s 11ms/step - loss: 0.5478 - accuracy: 0.8007 - lr: 0.0074\n",
            "Epoch 5/5\n",
            "600/600 [==============================] - 7s 11ms/step - loss: 0.5133 - accuracy: 0.8148 - lr: 0.0067\n",
            "313/313 [==============================] - 2s 5ms/step - loss: 0.5143 - accuracy: 0.8142\n",
            "Test accuracy: 0.8141999840736389\n"
          ]
        }
      ]
    }
  ]
}
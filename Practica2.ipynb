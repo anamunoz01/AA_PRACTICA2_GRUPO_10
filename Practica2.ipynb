{
  "nbformat": 4,
  "nbformat_minor": 0,
  "metadata": {
    "colab": {
      "name": "Practica2.ipynb",
      "provenance": [],
      "collapsed_sections": [],
      "include_colab_link": true
    },
    "kernelspec": {
      "name": "python3",
      "display_name": "Python 3"
    },
    "language_info": {
      "name": "python"
    },
    "accelerator": "GPU"
  },
  "cells": [
    {
      "cell_type": "markdown",
      "metadata": {
        "id": "view-in-github",
        "colab_type": "text"
      },
      "source": [
        "<a href=\"https://colab.research.google.com/github/anamunoz01/AA_PRACTICA2_GRUPO_10/blob/main/Practica2.ipynb\" target=\"_parent\"><img src=\"https://colab.research.google.com/assets/colab-badge.svg\" alt=\"Open In Colab\"/></a>"
      ]
    },
    {
      "cell_type": "markdown",
      "metadata": {
        "id": "qkAWSN85rt28"
      },
      "source": [
        "# **PRÁCTICA 2**\n",
        "\n",
        "GRUPO 10\n",
        "\n",
        "Elena Gómez\n",
        "\n",
        "Ana Muñoz"
      ]
    },
    {
      "cell_type": "markdown",
      "metadata": {
        "id": "w1lGdtj_5QPM"
      },
      "source": [
        "## **Objetivo**\n",
        "\n",
        "El  objetivo  de  esta  práctica  es  diseñar,  configurar  y  entrenar  un  modelo  de  Redes  de Neuronas Convolucionales. \n",
        "\n",
        "Crearemos un modelo  de Red  de  Neuronas  Convolucionales  que  sea  capaz  de  reconocer  y clasificar imágenes  de  ropa  en  sus  diferentes  tipologías.  Este  modelo  será  definido, \n",
        "configurado, entrenado, evaluado y mejorado para posteriormente usarlo para hacer predicciones.  \n",
        "\n",
        "Usaremos el conjunto de datos Fashion-MNIST, precargado en Keras.\n",
        "Fashion-MNIST  es  un  conjunto  de  datos  de  las  imágenes  de  los  artículos  de  Zalando. El conjunto de datos contiene 70K imágenes en escala de grises en 10 categorías.  Estas  imágenes  muestran  prendas  individuales  de  ropa  en  baja  resolución (28 x 28 píxeles)\n",
        "\n",
        "Se usan 60K imágenes para entrenar la red y 10K imágenes para evaluar la precisión con la que la red aprende a clasificar las imágenes"
      ]
    },
    {
      "cell_type": "markdown",
      "metadata": {
        "id": "WsCJ_XlpoeSA"
      },
      "source": [
        "- Importamos tensorflow y comprobamos que la versión es 2.0.0 o superior \n",
        "\n"
      ]
    },
    {
      "cell_type": "code",
      "metadata": {
        "colab": {
          "base_uri": "https://localhost:8080/"
        },
        "id": "inKnrJCarTrV",
        "outputId": "519e675e-a9ec-4c8f-9dff-722d0eded374"
      },
      "source": [
        "%tensorflow_version 2.x\n",
        "import tensorflow as tf\n",
        "from tensorflow import keras\n",
        "\n",
        "import numpy as np\n",
        "import matplotlib.pyplot as plt\n",
        "\n",
        "print(tf.__version__)#"
      ],
      "execution_count": 1,
      "outputs": [
        {
          "output_type": "stream",
          "name": "stdout",
          "text": [
            "2.7.0\n"
          ]
        }
      ]
    },
    {
      "cell_type": "markdown",
      "metadata": {
        "id": "QjRdR0UVuzTk"
      },
      "source": [
        "- **Datos Fashion-MNIST**\n",
        "\n",
        " A continuación, cargamos las imágenes y creamos un vector de 10 elementos en el que a cada posición se le asigna el nombre de cada prenda. ('class_names')\n",
        "\n",
        "\n",
        "![prendas.PNG](data:image/png;base64,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)"
      ]
    },
    {
      "cell_type": "code",
      "metadata": {
        "id": "NHSNyIwwsZ5E",
        "outputId": "98c6cdfe-b9a3-40c4-ad4e-b5b342483efd",
        "colab": {
          "base_uri": "https://localhost:8080/"
        }
      },
      "source": [
        "from keras.datasets import fashion_mnist\n",
        "\n",
        "(train_images, train_labels), (test_images, test_labels) = fashion_mnist.load_data()\n",
        "\n",
        "# Creamos vector con las prendas\n",
        "class_names = ['T-shirt/top', 'Trouser', 'Pullover', 'Dress', 'Coat',\n",
        "               'Sandal', 'Shirt', 'Sneaker', 'Bag', 'Ankle boot']"
      ],
      "execution_count": 2,
      "outputs": [
        {
          "output_type": "stream",
          "name": "stdout",
          "text": [
            "Downloading data from https://storage.googleapis.com/tensorflow/tf-keras-datasets/train-labels-idx1-ubyte.gz\n",
            "32768/29515 [=================================] - 0s 0us/step\n",
            "40960/29515 [=========================================] - 0s 0us/step\n",
            "Downloading data from https://storage.googleapis.com/tensorflow/tf-keras-datasets/train-images-idx3-ubyte.gz\n",
            "26427392/26421880 [==============================] - 0s 0us/step\n",
            "26435584/26421880 [==============================] - 0s 0us/step\n",
            "Downloading data from https://storage.googleapis.com/tensorflow/tf-keras-datasets/t10k-labels-idx1-ubyte.gz\n",
            "16384/5148 [===============================================================================================] - 0s 0us/step\n",
            "Downloading data from https://storage.googleapis.com/tensorflow/tf-keras-datasets/t10k-images-idx3-ubyte.gz\n",
            "4423680/4422102 [==============================] - 0s 0us/step\n",
            "4431872/4422102 [==============================] - 0s 0us/step\n"
          ]
        }
      ]
    },
    {
      "cell_type": "markdown",
      "metadata": {
        "id": "RHX1SYa2NmP5"
      },
      "source": [
        "-  **Estudio de datos:**\n",
        "\n",
        " Como vimos en la primera práctica, sabemos que las imágenes tienen la siguiente forma:\n",
        "\n",
        " (60000, 28, 28)\n",
        "\n",
        " Del mismo modo, sabemos que las etiquetas son números enteros entre 0 y 9 que corresponden con la prenda de la imagen ya clasificada.\n"
      ]
    },
    {
      "cell_type": "code",
      "metadata": {
        "id": "hcdo52gxrfX5",
        "colab": {
          "base_uri": "https://localhost:8080/"
        },
        "outputId": "e56a02c0-4eff-4720-9cd6-66d5c0349f4d"
      },
      "source": [
        "print(train_labels[5000])"
      ],
      "execution_count": 3,
      "outputs": [
        {
          "output_type": "stream",
          "name": "stdout",
          "text": [
            "4\n"
          ]
        }
      ]
    },
    {
      "cell_type": "markdown",
      "metadata": {
        "id": "ljlaeokaOA8W"
      },
      "source": [
        "## **Creamos los modelos**"
      ]
    },
    {
      "cell_type": "markdown",
      "metadata": {
        "id": "_CzqtBWvM5Aw"
      },
      "source": [
        "- Importamos todo lo necesario para nuestros modelos"
      ]
    },
    {
      "cell_type": "code",
      "metadata": {
        "id": "8yHEPRUV93of"
      },
      "source": [
        "from tensorflow.keras import Sequential\n",
        "from tensorflow.keras.layers import Conv2D\n",
        "from tensorflow.keras.layers import MaxPooling2D\n",
        "from keras.utils.np_utils import to_categorical\n",
        "from tensorflow.keras.layers import Dense\n",
        "from tensorflow.keras.layers import Flatten"
      ],
      "execution_count": 4,
      "outputs": []
    },
    {
      "cell_type": "markdown",
      "metadata": {
        "id": "JNIKFYVO7PUD"
      },
      "source": [
        "Vamos a crear 3 modelos diferentes de RNA,  los cuales van a ser definidos, configurados, entrenados, evaluados y mejorados para posteriormente usarlos para hacer predicciones.\n",
        "\n",
        "Para todos los modelos, la red será secuencial y tendrá dos capas convolucionales y una o dos capas tipo Dense. Para cada modelo cambiaremos el optimizador, la función de activación, el número de neuronas por capa y el tamaño de la ventana de las capas convolucionales, mientras que el tamaño de la ventana de la capa pooling siempre será 2x2.\n"
      ]
    },
    {
      "cell_type": "markdown",
      "metadata": {
        "id": "Z-xgVgEK9IuO"
      },
      "source": [
        "Cada una de las neuronas de la capa de entrada están conectadas con unos datos de tamaño 28x28x1, siendo el tamaño de la matriz 28x28 y 1 el canal de escala de grises. Solo lo definimos para la primera capa, para la segunda capa y posteriores, Keras lo deduce.\n"
      ]
    },
    {
      "cell_type": "markdown",
      "metadata": {
        "id": "aJOszXoEzPtF"
      },
      "source": [
        "Para los tres modelos la última capa tendrá función de activación softmax y 10 neuronas. Esto se debe a que nos interesa sacar una distribución de probabilidad sobre las 10 clases de prendas que tenemos."
      ]
    },
    {
      "cell_type": "markdown",
      "metadata": {
        "id": "iv9M_ouknlEO"
      },
      "source": [
        "Para facilitar la definición de los tres modelos, creamos vectores con los valores que vamos a usar para la creación de las redes."
      ]
    },
    {
      "cell_type": "code",
      "metadata": {
        "id": "JfwGovfOkH23"
      },
      "source": [
        "casos = 3\n",
        "numero_neuronas_primera_capa_conv = [32, 64, 64]\n",
        "numero_neuronas_segunda_capa_conv = [64, 128, 128]\n",
        "tamaño_ventana_conv1 = [(5,5), (7,7), (7,7)]\n",
        "tamaño_ventana_conv2 = [(5,5), (3,3), (3,3)]\n",
        "ventana_capa_pooling1 = [(2,2), (2,2), (2,2)]\n",
        "ventana_capa_pooling2 = [(2,2), (2,2), (2,2)]\n",
        "numero_neuronas_primera_capa_dense = [10, 65, 65]\n",
        "numero_neuronas_segunda_capa_dense = [0, 10, 10]\n",
        "funcion_activacion_primera_capa_conv = ['relu','relu', 'relu']\n",
        "funcion_activacion_segunda_capa_conv = ['relu','relu', 'relu']\n",
        "funcion_activacion_primera_capa_dense = ['softmax','relu', 'relu']\n",
        "funcion_activacion_segunda_capa_dense = ['', 'softmax', 'softmax']\n",
        "\n",
        "optimizador =['sgd', 'sgd', 'adam']\n",
        "funcion_perdida = ['sparse_categorical_crossentropy', 'sparse_categorical_crossentropy','sparse_categorical_crossentropy']\n",
        "numero_iteraciones = [5,5,5]\n",
        "metrica = ['accuracy','accuracy','accuracy']\n",
        "models = []"
      ],
      "execution_count": 5,
      "outputs": []
    },
    {
      "cell_type": "code",
      "metadata": {
        "id": "5pP1iKcBnjYK"
      },
      "source": [
        "from tensorflow.keras import Sequential\n",
        "from tensorflow.keras.layers import Dense\n",
        "from tensorflow.keras.layers import Flatten\n",
        "\n",
        "for caso in range(casos):\n",
        "  if (caso == 0):\n",
        "    model = Sequential()\n",
        "    model.add(Conv2D(numero_neuronas_primera_capa_conv[caso], tamaño_ventana_conv1[caso], activation = funcion_activacion_primera_capa_conv[caso], input_shape=(28, 28, 1)))\n",
        "    model.add(MaxPooling2D(ventana_capa_pooling1[caso]))\n",
        "    model.add(Conv2D(numero_neuronas_segunda_capa_conv[caso], tamaño_ventana_conv2[caso], activation = funcion_activacion_segunda_capa_conv[caso]))\n",
        "    model.add(MaxPooling2D(ventana_capa_pooling2[caso]))\n",
        "\n",
        "    model.add(Flatten())\n",
        "    model.add(Dense(numero_neuronas_primera_capa_dense[caso], activation=funcion_activacion_primera_capa_dense[caso]))\n",
        "    models.append(model)\n",
        "  \n",
        "  else:\n",
        "    model = Sequential()\n",
        "    model.add(Conv2D(numero_neuronas_primera_capa_conv[caso], tamaño_ventana_conv1[caso], padding = 'same', activation = funcion_activacion_primera_capa_conv[caso], input_shape=(28, 28, 1)))\n",
        "    model.add(MaxPooling2D(ventana_capa_pooling1[caso]))\n",
        "    model.add(Conv2D(numero_neuronas_segunda_capa_conv[caso], tamaño_ventana_conv2[caso], padding = 'same', activation = funcion_activacion_segunda_capa_conv[caso]))\n",
        "    model.add(MaxPooling2D(ventana_capa_pooling2[caso]))\n",
        "\n",
        "    model.add(Flatten())\n",
        "    model.add(Dense(numero_neuronas_primera_capa_dense[caso], activation=funcion_activacion_primera_capa_dense[caso]))\n",
        "    model.add(Dense(numero_neuronas_segunda_capa_dense[caso], activation=funcion_activacion_segunda_capa_dense[caso]))\n",
        "    models.append(model)\n",
        "\n",
        "\n"
      ],
      "execution_count": 6,
      "outputs": []
    },
    {
      "cell_type": "code",
      "metadata": {
        "id": "6ARaR57VqLBY",
        "colab": {
          "base_uri": "https://localhost:8080/"
        },
        "outputId": "f5f312c3-ac3d-4fc2-b4a7-22d15f8184f1"
      },
      "source": [
        "for caso in range(casos):\n",
        "  print(\"CASO \",caso + 1)\n",
        "  print(\"---------------------------------\")\n",
        "  models[caso].summary()\n",
        "  print(\"\\n\\n\")"
      ],
      "execution_count": 7,
      "outputs": [
        {
          "output_type": "stream",
          "name": "stdout",
          "text": [
            "CASO  1\n",
            "---------------------------------\n",
            "Model: \"sequential\"\n",
            "_________________________________________________________________\n",
            " Layer (type)                Output Shape              Param #   \n",
            "=================================================================\n",
            " conv2d (Conv2D)             (None, 24, 24, 32)        832       \n",
            "                                                                 \n",
            " max_pooling2d (MaxPooling2D  (None, 12, 12, 32)       0         \n",
            " )                                                               \n",
            "                                                                 \n",
            " conv2d_1 (Conv2D)           (None, 8, 8, 64)          51264     \n",
            "                                                                 \n",
            " max_pooling2d_1 (MaxPooling  (None, 4, 4, 64)         0         \n",
            " 2D)                                                             \n",
            "                                                                 \n",
            " flatten (Flatten)           (None, 1024)              0         \n",
            "                                                                 \n",
            " dense (Dense)               (None, 10)                10250     \n",
            "                                                                 \n",
            "=================================================================\n",
            "Total params: 62,346\n",
            "Trainable params: 62,346\n",
            "Non-trainable params: 0\n",
            "_________________________________________________________________\n",
            "\n",
            "\n",
            "\n",
            "CASO  2\n",
            "---------------------------------\n",
            "Model: \"sequential_1\"\n",
            "_________________________________________________________________\n",
            " Layer (type)                Output Shape              Param #   \n",
            "=================================================================\n",
            " conv2d_2 (Conv2D)           (None, 28, 28, 64)        3200      \n",
            "                                                                 \n",
            " max_pooling2d_2 (MaxPooling  (None, 14, 14, 64)       0         \n",
            " 2D)                                                             \n",
            "                                                                 \n",
            " conv2d_3 (Conv2D)           (None, 14, 14, 128)       73856     \n",
            "                                                                 \n",
            " max_pooling2d_3 (MaxPooling  (None, 7, 7, 128)        0         \n",
            " 2D)                                                             \n",
            "                                                                 \n",
            " flatten_1 (Flatten)         (None, 6272)              0         \n",
            "                                                                 \n",
            " dense_1 (Dense)             (None, 65)                407745    \n",
            "                                                                 \n",
            " dense_2 (Dense)             (None, 10)                660       \n",
            "                                                                 \n",
            "=================================================================\n",
            "Total params: 485,461\n",
            "Trainable params: 485,461\n",
            "Non-trainable params: 0\n",
            "_________________________________________________________________\n",
            "\n",
            "\n",
            "\n",
            "CASO  3\n",
            "---------------------------------\n",
            "Model: \"sequential_2\"\n",
            "_________________________________________________________________\n",
            " Layer (type)                Output Shape              Param #   \n",
            "=================================================================\n",
            " conv2d_4 (Conv2D)           (None, 28, 28, 64)        3200      \n",
            "                                                                 \n",
            " max_pooling2d_4 (MaxPooling  (None, 14, 14, 64)       0         \n",
            " 2D)                                                             \n",
            "                                                                 \n",
            " conv2d_5 (Conv2D)           (None, 14, 14, 128)       73856     \n",
            "                                                                 \n",
            " max_pooling2d_5 (MaxPooling  (None, 7, 7, 128)        0         \n",
            " 2D)                                                             \n",
            "                                                                 \n",
            " flatten_2 (Flatten)         (None, 6272)              0         \n",
            "                                                                 \n",
            " dense_3 (Dense)             (None, 65)                407745    \n",
            "                                                                 \n",
            " dense_4 (Dense)             (None, 10)                660       \n",
            "                                                                 \n",
            "=================================================================\n",
            "Total params: 485,461\n",
            "Trainable params: 485,461\n",
            "Non-trainable params: 0\n",
            "_________________________________________________________________\n",
            "\n",
            "\n",
            "\n"
          ]
        }
      ]
    },
    {
      "cell_type": "markdown",
      "metadata": {
        "id": "iCTeIxRPrtT2"
      },
      "source": [
        "- **Explicación Summary caso 1**\n",
        "\n",
        " - En la primera capa convolucional obtenemos 832 parámetros que son el resultado de : ((5 x 5) + 1) x 32, siendo 5 el tamaño de la ventana, 32 los filtros que aplicamos y 1 el umbral. En esta capa, convertimos una matriz inicial de 28x28 en 32 matrices nuevas 24x24\n",
        "\n",
        "   Con esto, realizamos el maxpooling con una ventana 2x2 obteniendo 32 matrices de 12x12 que serán los datos de entrada de la segunda capa.\n",
        "\n",
        "   Al aplicar la convolución, cada una de las 32 matrices que hemos obtenido anteriormente, se convierte en 64 nuevas matrices 8x8.\n",
        " \n",
        " - En la segunda capa convolucional obtenemos 51264 parámetros que son el resultado de : ((5 x 5 x 32) + 1) x 64, siendo 64 los nuevos filtros que aplicamos a lo anterior. \n",
        " \n",
        "   Con esto, realizamos el maxpooling con una ventana 2x2 obteniendo 64 matrices de 4x4 que serán los datos de entrada de la última capa.\n",
        "\n",
        "  - Antes de la última capa, añadimos una capa Flatten para ajustar los tensores a la entrada de la capa densa, es decir, aplanamos los datos pasando de un tensor 3D a uno 1D\n",
        "\n",
        "   La salida (4, 4, 64) se debe pasar a un vector (4 x 4 x 64) = 1024.\n",
        "\n",
        "   Con esto, en la última capa tenemos 10250 parámetros que es el resultado de: 1024 x 10 + 10."
      ]
    },
    {
      "cell_type": "markdown",
      "metadata": {
        "id": "g8-dMvH1wryz"
      },
      "source": [
        "- **Explicación Summary caso 2**\n",
        "\n",
        " - En la primera capa convolucional obtenemos 3200 parámetros que son el resultado de : ((7 x 7) + 1) x 64, siendo 7 el tamaño de la ventana, 64 los filtros que aplicamos y 1 el umbral. \n",
        "\n",
        "   Obtenemos 64 matrices del mismo tamaño que las matrices de entrada al haberle añadido padding, es decir, no se reduce su tamaño inicial.\n",
        "\n",
        "   Con esto, realizamos el maxpooling con una ventana 2x2 obteniendo 64 matrices de 14x14 que serán los datos de entrada de la segunda capa.\n",
        "\n",
        "  - En la segunda capa convolucional, obtenemos 73856 parámetros que son el resultado de : ((3 x 3) x 64 + 1) x 128, siendo 3 el tamaño de la ventana, 64 los filtros anteriores, 128 los filtros nuevos que aplicamos y 1 el umbral. \n",
        "\n",
        "   Por cada una de las 64 matrices que entran, obtenemos 128 matrices del mismo tamaño que las matrices de entrada al haberle añadido padding, es decir, 14x14.\n",
        "\n",
        "   Con esto, realizamos el maxpooling con una ventana 2x2 obteniendo 128 matrices de 7x7 que serán los datos de entrada de la siguiente capa.\n",
        "\n",
        "  - Antes de las últimas capas, añadimos una capa Flatten para ajustar los tensores a la entrada de las capas densas.\n",
        "\n",
        "   La salida (7, 7, 6128) se debe pasar a un vector (7 x 7 x 128) = 6272.\n",
        "\n",
        "  - Con esto, en la primera capa densa tenemos 407745 parámetros que es el resultado de: 6272 x 65 + 65. Donde 65 es el número de neuronas de la capa.\n",
        "\n",
        "   En la capa de salida, obtenemos 660 parámetros que son el resultado de: 10 x 65 + 10. Siendo 10 el número de neuronas de la última capa que corresponde con el número de clases que tenemos."
      ]
    },
    {
      "cell_type": "markdown",
      "metadata": {
        "id": "ZxSRV7-O0vso"
      },
      "source": [
        "- **Explicación summary caso 3**\n",
        "\n",
        " Como vemos, el tercer modelo es análogo al segundo, obtenemos los mismos parámetros. Lo único que cambia es el optimizador, que veremos más adelante."
      ]
    },
    {
      "cell_type": "markdown",
      "metadata": {
        "id": "pyYcY3jKk3TZ"
      },
      "source": [
        "## **Tansformación de datos**"
      ]
    },
    {
      "cell_type": "markdown",
      "metadata": {
        "id": "dJc3oi9ek-_I"
      },
      "source": [
        "Antes de entrenar nuestros modelos, preprocesaremos nuestros datos dándoles la forma que espera la red y escalando para que todos los valores estén en el intervalo [0, 1]. Pasando de una matriz de forma (60000, 28, 28) con valores en el intervalo [0, 255] a una matriz de forma float32 con forma (60000, 28, 28, 1) con valores entre 0 y 1"
      ]
    },
    {
      "cell_type": "code",
      "metadata": {
        "colab": {
          "base_uri": "https://localhost:8080/"
        },
        "id": "SuviQXhmlBvJ",
        "outputId": "54fb24ea-5b07-42f4-9f4f-df3679b65764"
      },
      "source": [
        "print (train_images.shape)\n",
        "print (train_labels.shape)\n",
        "\n",
        "train_images = train_images.reshape((60000, 28, 28, 1))\n",
        "train_images = train_images.astype('float32') / 255\n",
        "\n",
        "test_images = test_images.reshape((10000, 28, 28, 1))\n",
        "test_images = test_images.astype('float32') / 255\n",
        "\n",
        "print (train_images.shape)\n",
        "print (train_labels.shape)"
      ],
      "execution_count": 8,
      "outputs": [
        {
          "output_type": "stream",
          "name": "stdout",
          "text": [
            "(60000, 28, 28)\n",
            "(60000,)\n",
            "(60000, 28, 28, 1)\n",
            "(60000,)\n"
          ]
        }
      ]
    },
    {
      "cell_type": "markdown",
      "metadata": {
        "id": "o1KjKf-kk4L5"
      },
      "source": [
        "Como vamos a usar para la función de pérdida `sparse_categorical_crossentropy`, no hace falta modificar las etiquetas, ya que permite la entrada de enteros."
      ]
    },
    {
      "cell_type": "markdown",
      "metadata": {
        "id": "-wHXbknYOmo0"
      },
      "source": [
        "## **Compilamos los modelos**\n",
        "\n",
        "\n",
        "* Para el algoritmo optimizador utilizamos '**adam**' , o '**sgd**' (Stocastic Gradient Descendent), dependiendo del modelo.\n",
        "\n",
        "* Para la función de perdida elegimos **sparse_categorical_crossentropy** que se utiliza como señal de retroalimentación para aprender los tensores de peso y que la fase de entrenamiento intentará minimizar.\n",
        "\n",
        "* Para la precisión utilizaremos **accuracy**: Solo tendremos en cuenta la fracción de imágenes que son correctamente clasificadas."
      ]
    },
    {
      "cell_type": "code",
      "metadata": {
        "id": "Xrgf4v27uIXm"
      },
      "source": [
        "for caso in range(casos):\n",
        "  models[caso].compile(optimizer=optimizador[caso], loss=funcion_perdida[caso], metrics=[metrica[caso]])"
      ],
      "execution_count": 9,
      "outputs": []
    },
    {
      "cell_type": "markdown",
      "metadata": {
        "id": "rQ-F99wZO4Ad"
      },
      "source": [
        "Para los modelos 1 y 2 utilizamos el optimizador **sgd** , descenso del gradiente estocástico. En cambio, para el modelo 3 utilizamos **adam** (Adaptive moment estimation).\n",
        "\n",
        "El algoritmo de Adam es diferente del sgd. El sgd mantiene una tasa de aprendizaje única (alfa) para actualizar todos los pesos, y la tasa de aprendizaje no cambia durante el proceso de entrenamiento, Mientras que Adam calcula una tasa de aprendizaje diferente para cada peso.\n",
        "\n",
        "El algoritmo de Adam obtiene las ventajas de los algoritmos AdaGrad y RMSProp. Adam no solo calcula la tasa de aprendizaje de parámetros adaptativos en función del valor medio del primer momento como el algoritmo RMSProp, sino que también hace un uso completo del valor medio del segundo momento del gradiente (es decir, la varianza no centrada). \n",
        "\n",
        "\n"
      ]
    },
    {
      "cell_type": "markdown",
      "metadata": {
        "id": "r5uJO2X-Opzz"
      },
      "source": [
        "## **Entrenamos y probamos los modelos**"
      ]
    },
    {
      "cell_type": "markdown",
      "metadata": {
        "id": "AgEFiUHcQLOx"
      },
      "source": [
        "- Utilizamos la función `fit` que devuelve los valores de pérdida y de precisión de la red para las imágenes de entrenamiento.\n",
        "\n",
        "- Para evaluar los modelos con los datos de prueba utilizamos `evaluate` que devuelve el valor de pérdida y la precisión del modelo."
      ]
    },
    {
      "cell_type": "code",
      "metadata": {
        "id": "Dc-NCrDRwgqa",
        "colab": {
          "base_uri": "https://localhost:8080/"
        },
        "outputId": "97eaf7d9-3e6f-4f6a-b7fe-7af3684c1cb9"
      },
      "source": [
        "for caso in range(casos):\n",
        "  if caso == 0:\n",
        "   print(\"CASO \",caso + 1)\n",
        "   print(\"---------------------------------\")\n",
        "   print(\"NÚMERO NEURONAS PRIMERA CAPA CONVOLUCIONAL: \",numero_neuronas_primera_capa_conv[caso])\n",
        "   print(\"FUNCIÓN ACTIVACIÓN PRIMERA CAPA CONVOLUCIONAL: \",funcion_activacion_primera_capa_conv[caso])\n",
        "   print(\"NÚMERO NEURONAS SEGUNDA CAPA CONVOLUCIONAL: \",numero_neuronas_segunda_capa_conv[caso])\n",
        "   print(\"FUNCIÓN ACTIVACIÓN SEGUNDA CAPA CONVOLUCIONAL: \",funcion_activacion_segunda_capa_conv[caso])\n",
        "   print(\"NÚMERO NEURONAS ÚLTIMA CAPA: \",numero_neuronas_primera_capa_dense[caso])\n",
        "   print(\"FUNCIÓN ACTIVACIÓN ÚLTIMA CAPA : \",funcion_activacion_primera_capa_dense[caso])\n",
        "   print(\"OPTIMIZADOR: \",optimizador[caso])\n",
        "   print(\"FUNCIÓN PÉRDIDA: \",funcion_perdida[caso])\n",
        "   print(\"MÉTRICA: \",metrica[caso])\n",
        "   print(\"---------------------------------\")\n",
        "   models[caso].fit(train_images, train_labels, epochs=numero_iteraciones[caso])\n",
        "   print(\"\\n\\n\")\n",
        "\n",
        "  else:\n",
        "   print(\"CASO \",caso + 1)\n",
        "   print(\"---------------------------------\")\n",
        "   print(\"NÚMERO NEURONAS PRIMERA CAPA CONVOLUCIONAL: \",numero_neuronas_primera_capa_conv[caso])\n",
        "   print(\"FUNCIÓN ACTIVACIÓN PRIMERA CAPA CONVOLUCIONAL: \",funcion_activacion_primera_capa_conv[caso])\n",
        "   print(\"NÚMERO NEURONAS SEGUNDA CAPA CONVOLUCIONAL: \",numero_neuronas_segunda_capa_conv[caso])\n",
        "   print(\"FUNCIÓN ACTIVACIÓN SEGUNDA CAPA CONVOLUCIONAL: \",funcion_activacion_segunda_capa_conv[caso])\n",
        "   print(\"NÚMERO NEURONAS PRIMERA CAPA DENSA: \",numero_neuronas_primera_capa_dense[caso])\n",
        "   print(\"FUNCIÓN ACTIVACIÓN PRIMERA CAPA DENSA : \",funcion_activacion_primera_capa_dense[caso])\n",
        "   print(\"NÚMERO NEURONAS ÚLTIMA CAPA: \",numero_neuronas_segunda_capa_dense[caso])\n",
        "   print(\"FUNCIÓN ACTIVACIÓN ÚLTIMA CAPA : \",funcion_activacion_segunda_capa_dense[caso])\n",
        "   print(\"OPTIMIZADOR: \",optimizador[caso])\n",
        "   print(\"FUNCIÓN PÉRDIDA: \",funcion_perdida[caso])\n",
        "   print(\"MÉTRICA: \",metrica[caso])\n",
        "   print(\"---------------------------------\")\n",
        "   models[caso].fit(train_images, train_labels, epochs=numero_iteraciones[caso])\n",
        "   print(\"\\n\\n\")"
      ],
      "execution_count": 10,
      "outputs": [
        {
          "output_type": "stream",
          "name": "stdout",
          "text": [
            "CASO  1\n",
            "---------------------------------\n",
            "NÚMERO NEURONAS PRIMERA CAPA CONVOLUCIONAL:  32\n",
            "FUNCIÓN ACTIVACIÓN PRIMERA CAPA CONVOLUCIONAL:  relu\n",
            "NÚMERO NEURONAS SEGUNDA CAPA CONVOLUCIONAL:  64\n",
            "FUNCIÓN ACTIVACIÓN SEGUNDA CAPA CONVOLUCIONAL:  relu\n",
            "NÚMERO NEURONAS ÚLTIMA CAPA:  10\n",
            "FUNCIÓN ACTIVACIÓN ÚLTIMA CAPA :  softmax\n",
            "OPTIMIZADOR:  sgd\n",
            "FUNCIÓN PÉRDIDA:  sparse_categorical_crossentropy\n",
            "MÉTRICA:  accuracy\n",
            "---------------------------------\n",
            "Epoch 1/5\n",
            "1875/1875 [==============================] - 19s 5ms/step - loss: 0.8156 - accuracy: 0.7118\n",
            "Epoch 2/5\n",
            "1875/1875 [==============================] - 10s 5ms/step - loss: 0.5094 - accuracy: 0.8169\n",
            "Epoch 3/5\n",
            "1875/1875 [==============================] - 10s 5ms/step - loss: 0.4458 - accuracy: 0.8414\n",
            "Epoch 4/5\n",
            "1875/1875 [==============================] - 10s 5ms/step - loss: 0.4117 - accuracy: 0.8547\n",
            "Epoch 5/5\n",
            "1875/1875 [==============================] - 10s 5ms/step - loss: 0.3893 - accuracy: 0.8617\n",
            "\n",
            "\n",
            "\n",
            "CASO  2\n",
            "---------------------------------\n",
            "NÚMERO NEURONAS PRIMERA CAPA CONVOLUCIONAL:  64\n",
            "FUNCIÓN ACTIVACIÓN PRIMERA CAPA CONVOLUCIONAL:  relu\n",
            "NÚMERO NEURONAS SEGUNDA CAPA CONVOLUCIONAL:  128\n",
            "FUNCIÓN ACTIVACIÓN SEGUNDA CAPA CONVOLUCIONAL:  relu\n",
            "NÚMERO NEURONAS PRIMERA CAPA DENSA:  65\n",
            "FUNCIÓN ACTIVACIÓN PRIMERA CAPA DENSA :  relu\n",
            "NÚMERO NEURONAS ÚLTIMA CAPA:  10\n",
            "FUNCIÓN ACTIVACIÓN ÚLTIMA CAPA :  softmax\n",
            "OPTIMIZADOR:  sgd\n",
            "FUNCIÓN PÉRDIDA:  sparse_categorical_crossentropy\n",
            "MÉTRICA:  accuracy\n",
            "---------------------------------\n",
            "Epoch 1/5\n",
            "1875/1875 [==============================] - 18s 9ms/step - loss: 0.7696 - accuracy: 0.7209\n",
            "Epoch 2/5\n",
            "1875/1875 [==============================] - 18s 9ms/step - loss: 0.4901 - accuracy: 0.8227\n",
            "Epoch 3/5\n",
            "1875/1875 [==============================] - 17s 9ms/step - loss: 0.4190 - accuracy: 0.8507\n",
            "Epoch 4/5\n",
            "1875/1875 [==============================] - 17s 9ms/step - loss: 0.3814 - accuracy: 0.8631\n",
            "Epoch 5/5\n",
            "1875/1875 [==============================] - 18s 9ms/step - loss: 0.3549 - accuracy: 0.8728\n",
            "\n",
            "\n",
            "\n",
            "CASO  3\n",
            "---------------------------------\n",
            "NÚMERO NEURONAS PRIMERA CAPA CONVOLUCIONAL:  64\n",
            "FUNCIÓN ACTIVACIÓN PRIMERA CAPA CONVOLUCIONAL:  relu\n",
            "NÚMERO NEURONAS SEGUNDA CAPA CONVOLUCIONAL:  128\n",
            "FUNCIÓN ACTIVACIÓN SEGUNDA CAPA CONVOLUCIONAL:  relu\n",
            "NÚMERO NEURONAS PRIMERA CAPA DENSA:  65\n",
            "FUNCIÓN ACTIVACIÓN PRIMERA CAPA DENSA :  relu\n",
            "NÚMERO NEURONAS ÚLTIMA CAPA:  10\n",
            "FUNCIÓN ACTIVACIÓN ÚLTIMA CAPA :  softmax\n",
            "OPTIMIZADOR:  adam\n",
            "FUNCIÓN PÉRDIDA:  sparse_categorical_crossentropy\n",
            "MÉTRICA:  accuracy\n",
            "---------------------------------\n",
            "Epoch 1/5\n",
            "1875/1875 [==============================] - 18s 10ms/step - loss: 0.4081 - accuracy: 0.8531\n",
            "Epoch 2/5\n",
            "1875/1875 [==============================] - 18s 10ms/step - loss: 0.2671 - accuracy: 0.9013\n",
            "Epoch 3/5\n",
            "1875/1875 [==============================] - 18s 9ms/step - loss: 0.2262 - accuracy: 0.9163\n",
            "Epoch 4/5\n",
            "1875/1875 [==============================] - 18s 9ms/step - loss: 0.1948 - accuracy: 0.9276\n",
            "Epoch 5/5\n",
            "1875/1875 [==============================] - 18s 9ms/step - loss: 0.1687 - accuracy: 0.9372\n",
            "\n",
            "\n",
            "\n"
          ]
        }
      ]
    },
    {
      "cell_type": "markdown",
      "metadata": {
        "id": "tXSNTaiAaxQT"
      },
      "source": [
        "Podemos observar cómo entre el modelo 1 y el modelo 2 no hay gran diferencia, ya que conseguimos valores muy parecidos tanto para la pérdida como para la precisión.\n",
        "\n",
        "Sin embargo, el modelo 3 destaca por tener mejores valores que los anteriores, ya que tiene una pérdida que es la mitad que los modelos 1 y 2 , y una precisión mayor. Esto se debe a que el modelo, a diferencia de los otros, utiliza el optimizador adam."
      ]
    },
    {
      "cell_type": "code",
      "metadata": {
        "id": "w7BJiy495yCO",
        "outputId": "0c16e65a-657d-4f8d-9711-03980c668f22",
        "colab": {
          "base_uri": "https://localhost:8080/"
        }
      },
      "source": [
        "prueba = []\n",
        "for caso in range(casos):\n",
        "  prueba.append(models[caso].evaluate(test_images,  test_labels))\n"
      ],
      "execution_count": 12,
      "outputs": [
        {
          "output_type": "stream",
          "name": "stdout",
          "text": [
            "313/313 [==============================] - 1s 4ms/step - loss: 0.4059 - accuracy: 0.8559\n",
            "313/313 [==============================] - 2s 5ms/step - loss: 0.3715 - accuracy: 0.8670\n",
            "313/313 [==============================] - 2s 5ms/step - loss: 0.2560 - accuracy: 0.9119\n"
          ]
        }
      ]
    },
    {
      "cell_type": "markdown",
      "metadata": {
        "id": "Ca4WUrrRIqAL"
      },
      "source": [
        "Nos damos cuenta, que 5 épocas son suficientes para conseguir una precisión bastante buena, es decir, el modelo aprende a generalizar ya que nos da una pérdida y una precisión muy similar entre los datos de test y de entrenamiento"
      ]
    },
    {
      "cell_type": "markdown",
      "metadata": {
        "id": "gUZ1xTfltkvo"
      },
      "source": [
        "## **25 épocas**\n",
        "\n",
        "Analizar e interpretar los resultados del caso 1 frente a su original si se \n",
        "multiplica por 5 las épocas de entrenamiento (25)\n"
      ]
    },
    {
      "cell_type": "code",
      "metadata": {
        "id": "Pq8h1cgS49_0"
      },
      "source": [
        "model11 = Sequential()\n",
        "model11.add(Conv2D(32, (5, 5), activation='relu', input_shape=(28, 28, 1)))\n",
        "model11.add(MaxPooling2D((2, 2)))\n",
        "\n",
        "model11.add(Conv2D(64, (5, 5), activation='relu'))\n",
        "model11.add(MaxPooling2D((2, 2)))\n",
        "\n",
        "model11.add(Flatten())\n",
        "model11.add(Dense(10, activation='softmax'))\n"
      ],
      "execution_count": 14,
      "outputs": []
    },
    {
      "cell_type": "code",
      "metadata": {
        "id": "vkL_ItVS5QZI",
        "colab": {
          "base_uri": "https://localhost:8080/"
        },
        "outputId": "9bce2d63-cc5e-47fb-a420-0ca2e2582aa6"
      },
      "source": [
        "model11.compile(loss='sparse_categorical_crossentropy',\n",
        "              optimizer='sgd',\n",
        "              metrics=['accuracy'])\n",
        "\n",
        "model11.fit(train_images, train_labels, epochs=25, batch_size=100)\n",
        "\n",
        "test_loss11, test_acc11 = model11.evaluate(test_images, test_labels)\n",
        "\n",
        "print('Test loss:', test_loss11)\n",
        "print('Test accuracy:', test_acc11)"
      ],
      "execution_count": 15,
      "outputs": [
        {
          "output_type": "stream",
          "name": "stdout",
          "text": [
            "Epoch 1/25\n",
            "600/600 [==============================] - 5s 7ms/step - loss: 1.2013 - accuracy: 0.5901\n",
            "Epoch 2/25\n",
            "600/600 [==============================] - 4s 7ms/step - loss: 0.6796 - accuracy: 0.7497\n",
            "Epoch 3/25\n",
            "600/600 [==============================] - 4s 7ms/step - loss: 0.5926 - accuracy: 0.7832\n",
            "Epoch 4/25\n",
            "600/600 [==============================] - 4s 7ms/step - loss: 0.5440 - accuracy: 0.8024\n",
            "Epoch 5/25\n",
            "600/600 [==============================] - 4s 7ms/step - loss: 0.5089 - accuracy: 0.8164\n",
            "Epoch 6/25\n",
            "600/600 [==============================] - 4s 7ms/step - loss: 0.4789 - accuracy: 0.8298\n",
            "Epoch 7/25\n",
            "600/600 [==============================] - 4s 7ms/step - loss: 0.4586 - accuracy: 0.8377\n",
            "Epoch 8/25\n",
            "600/600 [==============================] - 4s 7ms/step - loss: 0.4408 - accuracy: 0.8446\n",
            "Epoch 9/25\n",
            "600/600 [==============================] - 4s 7ms/step - loss: 0.4273 - accuracy: 0.8483\n",
            "Epoch 10/25\n",
            "600/600 [==============================] - 4s 7ms/step - loss: 0.4154 - accuracy: 0.8541\n",
            "Epoch 11/25\n",
            "600/600 [==============================] - 4s 7ms/step - loss: 0.4034 - accuracy: 0.8575\n",
            "Epoch 12/25\n",
            "600/600 [==============================] - 4s 7ms/step - loss: 0.3952 - accuracy: 0.8610\n",
            "Epoch 13/25\n",
            "600/600 [==============================] - 4s 7ms/step - loss: 0.3874 - accuracy: 0.8636\n",
            "Epoch 14/25\n",
            "600/600 [==============================] - 4s 7ms/step - loss: 0.3803 - accuracy: 0.8658\n",
            "Epoch 15/25\n",
            "600/600 [==============================] - 4s 7ms/step - loss: 0.3729 - accuracy: 0.8696\n",
            "Epoch 16/25\n",
            "600/600 [==============================] - 4s 7ms/step - loss: 0.3672 - accuracy: 0.8700\n",
            "Epoch 17/25\n",
            "600/600 [==============================] - 4s 7ms/step - loss: 0.3623 - accuracy: 0.8712\n",
            "Epoch 18/25\n",
            "600/600 [==============================] - 4s 7ms/step - loss: 0.3575 - accuracy: 0.8737\n",
            "Epoch 19/25\n",
            "600/600 [==============================] - 4s 7ms/step - loss: 0.3520 - accuracy: 0.8758\n",
            "Epoch 20/25\n",
            "600/600 [==============================] - 4s 7ms/step - loss: 0.3478 - accuracy: 0.8777\n",
            "Epoch 21/25\n",
            "600/600 [==============================] - 4s 7ms/step - loss: 0.3436 - accuracy: 0.8785\n",
            "Epoch 22/25\n",
            "600/600 [==============================] - 4s 7ms/step - loss: 0.3392 - accuracy: 0.8810\n",
            "Epoch 23/25\n",
            "600/600 [==============================] - 4s 7ms/step - loss: 0.3361 - accuracy: 0.8808\n",
            "Epoch 24/25\n",
            "600/600 [==============================] - 4s 7ms/step - loss: 0.3321 - accuracy: 0.8824\n",
            "Epoch 25/25\n",
            "600/600 [==============================] - 4s 7ms/step - loss: 0.3284 - accuracy: 0.8843\n",
            "313/313 [==============================] - 1s 4ms/step - loss: 0.3828 - accuracy: 0.8619\n",
            "Test loss: 0.38279393315315247\n",
            "Test accuracy: 0.8618999719619751\n"
          ]
        }
      ]
    },
    {
      "cell_type": "markdown",
      "metadata": {
        "id": "wtmuuGRnkPry"
      },
      "source": [
        "Comparando este modelo con el modelo 1, nos damos cuenta que, aunque tanto la precisión como el valor de pérdida mejoran, se acercan bastante a los valores del modelo 1, por tanto, creemo que multiplicar las épocas por 5 no es eficiente.\n",
        "\n",
        "También, vemos que a pesar de haber hecho 25 iteraciones, el modelo no se sobreentrena, aunque no mejora considerablemente como para que merezca la pena el tiempo añadido de ejecución."
      ]
    },
    {
      "cell_type": "markdown",
      "metadata": {
        "id": "bm7mDm_0Rr1J"
      },
      "source": [
        "## **Función de activanción tanh**\n",
        "\n",
        "Analizar el resultado del caso 1 si en lugar de ReLU se usa tanh en la función de \n",
        "activación de las dos capas convolucionales.\n"
      ]
    },
    {
      "cell_type": "code",
      "metadata": {
        "id": "QnvNSsHf5hi1"
      },
      "source": [
        "model12 = Sequential()\n",
        "model12.add(Conv2D(32, (5, 5), activation='tanh', input_shape=(28, 28, 1)))\n",
        "model12.add(MaxPooling2D((2, 2)))\n",
        "\n",
        "model12.add(Conv2D(64, (5, 5), activation='tanh'))\n",
        "model12.add(MaxPooling2D((2, 2)))\n",
        "\n",
        "model12.add(Flatten())\n",
        "model12.add(Dense(10, activation='softmax'))"
      ],
      "execution_count": 16,
      "outputs": []
    },
    {
      "cell_type": "code",
      "metadata": {
        "id": "d3Lgl0KD5l5m",
        "colab": {
          "base_uri": "https://localhost:8080/"
        },
        "outputId": "051e9f54-5b0d-4529-ef08-73ddfc286ed9"
      },
      "source": [
        "model12.compile(loss='sparse_categorical_crossentropy',\n",
        "              optimizer='sgd',\n",
        "              metrics=['accuracy'])\n",
        "\n",
        "model12.fit(train_images, train_labels, epochs=5, batch_size=100)\n",
        "\n",
        "test_loss12, test_acc12 = model12.evaluate(test_images, test_labels)\n",
        "\n",
        "print('Test loss:', test_loss12)\n",
        "print('Test accuracy:', test_acc12)"
      ],
      "execution_count": 17,
      "outputs": [
        {
          "output_type": "stream",
          "name": "stdout",
          "text": [
            "Epoch 1/5\n",
            "600/600 [==============================] - 5s 7ms/step - loss: 1.1593 - accuracy: 0.6329\n",
            "Epoch 2/5\n",
            "600/600 [==============================] - 4s 7ms/step - loss: 0.6622 - accuracy: 0.7582\n",
            "Epoch 3/5\n",
            "600/600 [==============================] - 4s 7ms/step - loss: 0.5755 - accuracy: 0.7911\n",
            "Epoch 4/5\n",
            "600/600 [==============================] - 4s 7ms/step - loss: 0.5256 - accuracy: 0.8109\n",
            "Epoch 5/5\n",
            "600/600 [==============================] - 4s 7ms/step - loss: 0.4928 - accuracy: 0.8240\n",
            "313/313 [==============================] - 1s 4ms/step - loss: 0.5032 - accuracy: 0.8184\n",
            "Test loss: 0.5031539797782898\n",
            "Test accuracy: 0.8184000253677368\n"
          ]
        }
      ]
    },
    {
      "cell_type": "markdown",
      "metadata": {
        "id": "tSZGgiP1cAYX"
      },
      "source": [
        "Observamos que hay una diferencia en torno a 0.05 en la precisión y de 0.1 respecto a la pérdida con el modelo 1 en el que la función de activación es Relu. \n",
        "\n",
        "Viendo que la función tanh se representa de este modo:\n",
        "\n",
        "![tanh.png](data:image/png;base64,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)\n",
        "\n",
        "y la función Relu se representa así:\n",
        "\n",
        "![relu.png](data:image/png;base64,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)\n",
        "\n",
        "\n",
        "Llegamos a la conclusión de que la función de activación relu es mejor, ya que los datos cuyo valor es menor que el umbral los pone a 0, en cambio, la tangente hiperbóilica aunque aplana los valores, los sigue teniendo en cuenta, por lo que nos da un peor resultado tanto para la pérdida como para la precisión."
      ]
    },
    {
      "cell_type": "markdown",
      "metadata": {
        "id": "YgvtuBl65qvL"
      },
      "source": [
        "## **Predicciones**"
      ]
    },
    {
      "cell_type": "code",
      "metadata": {
        "id": "j3LtybsB6U0v",
        "colab": {
          "base_uri": "https://localhost:8080/",
          "height": 265
        },
        "outputId": "44348b30-ed07-42e4-9181-792386269619"
      },
      "source": [
        "# Vemos el elemento 6 de test y pintémoslo con matplotlib\n",
        "from keras.datasets import fashion_mnist\n",
        "(train_images, train_labels), (test_images, test_labels) = fashion_mnist.load_data()\n",
        "import matplotlib.pyplot as plt\n",
        "digit = test_images[5]\n",
        "plt.imshow(digit, cmap=plt.cm.binary)\n",
        "plt.show()"
      ],
      "execution_count": 18,
      "outputs": [
        {
          "output_type": "display_data",
          "data": {
            "image/png": "[encoded data removed]",
            "text/plain": [
              "<Figure size 432x288 with 1 Axes>"
            ]
          },
          "metadata": {
            "needs_background": "light"
          }
        }
      ]
    },
    {
      "cell_type": "code",
      "metadata": {
        "id": "rIZBDnD36Wac"
      },
      "source": [
        "#Como hemos vuelto a añadir los datos para ver la imagen, tenemos que transformalos\n",
        "#otra vez, para hacer las predicciones.\n",
        "train_images = train_images.reshape((60000, 28,28,1))\n",
        "test_images = test_images.reshape((10000, 28,28,1))\n",
        "\n",
        "train_images = train_images.astype('float32') / 255\n",
        "test_images = test_images.astype('float32') / 255\n"
      ],
      "execution_count": 19,
      "outputs": []
    },
    {
      "cell_type": "markdown",
      "metadata": {
        "id": "bYVeFY7WSLTM"
      },
      "source": [
        "Hacemos predicciones sobre la 6º imagen de test en cada modelo utilizando `predcit`"
      ]
    },
    {
      "cell_type": "code",
      "metadata": {
        "id": "zbXfiPeyGmhn"
      },
      "source": [
        "predictions = []\n",
        "for caso in range(casos):\n",
        "  predictions.append(models[caso].predict(test_images))"
      ],
      "execution_count": 20,
      "outputs": []
    },
    {
      "cell_type": "code",
      "metadata": {
        "id": "N5SwtTKpGnNa",
        "outputId": "2bce17a1-e4af-44e4-f5e2-b4f8d0502da0",
        "colab": {
          "base_uri": "https://localhost:8080/"
        }
      },
      "source": [
        "for caso in range(casos):\n",
        "  print(\"----------------------------------------------------------\")\n",
        "  print(\"PREDICCIONES CASO \", caso + 1 , \" : \", predictions[caso][5])\n",
        "  print(\"VALOR MÁXIMO: \", np.argmax(predictions[caso][5]))\n",
        "  print(\"\\n\\n\")"
      ],
      "execution_count": 21,
      "outputs": [
        {
          "output_type": "stream",
          "name": "stdout",
          "text": [
            "----------------------------------------------------------\n",
            "PREDICCIONES CASO  1  :  [6.5496681e-07 9.9989176e-01 1.1879675e-07 8.3934822e-07 9.8805220e-05\n",
            " 7.9704012e-09 1.7726350e-06 1.6920172e-11 6.0923785e-06 1.3395262e-13]\n",
            "VALOR MÁXIMO:  1\n",
            "\n",
            "\n",
            "\n",
            "----------------------------------------------------------\n",
            "PREDICCIONES CASO  2  :  [5.5692944e-06 9.9944276e-01 2.9756570e-06 5.9370064e-05 4.7504480e-04\n",
            " 8.7624681e-09 1.4060252e-05 5.9730345e-09 2.4243155e-07 2.4715110e-09]\n",
            "VALOR MÁXIMO:  1\n",
            "\n",
            "\n",
            "\n",
            "----------------------------------------------------------\n",
            "PREDICCIONES CASO  3  :  [2.1988344e-08 1.0000000e+00 1.7902678e-11 4.7353077e-10 8.7482761e-13\n",
            " 2.2546248e-13 1.2119728e-11 7.7573746e-17 2.0715920e-11 2.1177511e-15]\n",
            "VALOR MÁXIMO:  1\n",
            "\n",
            "\n",
            "\n"
          ]
        }
      ]
    },
    {
      "cell_type": "markdown",
      "metadata": {
        "id": "papZZ0HJcT4t"
      },
      "source": [
        "Podemos observar cómo los 3 modelos predicen correctamente que la imagen 6 de test corresponde con el elemento 1 de nuestro vector de prendas, es decir, unos pantalones"
      ]
    },
    {
      "cell_type": "markdown",
      "metadata": {
        "id": "Vu04IQuX6z92"
      },
      "source": [
        "Ahora vamos a graficar las predicciones de la imagen 6 en cada modelo"
      ]
    },
    {
      "cell_type": "code",
      "metadata": {
        "id": "SlYRpfLw61qj"
      },
      "source": [
        "def plot_image(i, predictions_array, true_label, img):\n",
        "  predictions_array, true_label, img = predictions_array, true_label[i], img[i]\n",
        "  plt.grid(False)\n",
        "  plt.xticks([])\n",
        "  plt.yticks([])\n",
        "\n",
        "  plt.imshow(img, cmap=plt.cm.binary)    \n",
        "\n",
        "  predicted_label = np.argmax(predictions_array)\n",
        "  if predicted_label.all() == true_label.all():\n",
        "    color = 'blue'\n",
        "  else:\n",
        "    color = 'red'\n",
        "\n",
        "  plt.xlabel(\"{} {:2.0f}% ({})\".format(predicted_label,\n",
        "                                100*np.max(predictions_array),\n",
        "                                true_label),\n",
        "                                color=color)\n",
        "\n",
        "def plot_value_array(i, predictions_array, true_label):\n",
        "  predictions_array, true_label = predictions_array, true_label[i]\n",
        "  plt.grid(False)\n",
        "  plt.xticks(range(10))\n",
        "  plt.yticks([])\n",
        "  thisplot = plt.bar(range(10), predictions_array, color=\"#00FF00\")\n",
        "  plt.ylim([0, 1])\n",
        "  predicted_label = np.argmax(predictions_array)\n",
        "\n",
        "  thisplot[predicted_label].set_color('red')\n",
        "  thisplot[true_label].set_color('black')"
      ],
      "execution_count": 22,
      "outputs": []
    },
    {
      "cell_type": "code",
      "metadata": {
        "id": "Sce3UJoG629B",
        "colab": {
          "base_uri": "https://localhost:8080/",
          "height": 859
        },
        "outputId": "5c7ec28e-09d4-40a5-efe0-e894185083ae"
      },
      "source": [
        "i = 5\n",
        "for caso in range(casos):\n",
        "  print(\"----------------------------------------------------------\")\n",
        "  print(\"PREDICCIÓN CASO \", caso + 1 , \" : \")\n",
        "  print(\"\\n\\n\")\n",
        "  plt.figure(figsize=(6,3))\n",
        "  plt.subplot(1,2,1)\n",
        "  plot_image(i, predictions[caso][i], test_labels, test_images.reshape(10000,28,28))\n",
        "  plt.subplot(1,2,2)\n",
        "  plot_value_array(i, predictions[caso][i],  test_labels)\n",
        "  plt.show()"
      ],
      "execution_count": 26,
      "outputs": [
        {
          "output_type": "stream",
          "name": "stdout",
          "text": [
            "----------------------------------------------------------\n",
            "PREDICCIÓN CASO  1  : \n",
            "\n",
            "\n",
            "\n"
          ]
        },
        {
          "output_type": "display_data",
          "data": {
            "image/png": "[encoded data removed]",
            "text/plain": [
              "<Figure size 432x216 with 2 Axes>"
            ]
          },
          "metadata": {
            "needs_background": "light"
          }
        },
        {
          "output_type": "stream",
          "name": "stdout",
          "text": [
            "----------------------------------------------------------\n",
            "PREDICCIÓN CASO  2  : \n",
            "\n",
            "\n",
            "\n"
          ]
        },
        {
          "output_type": "display_data",
          "data": {
            "image/png": "[encoded data removed]",
            "text/plain": [
              "<Figure size 432x216 with 2 Axes>"
            ]
          },
          "metadata": {
            "needs_background": "light"
          }
        },
        {
          "output_type": "stream",
          "name": "stdout",
          "text": [
            "----------------------------------------------------------\n",
            "PREDICCIÓN CASO  3  : \n",
            "\n",
            "\n",
            "\n"
          ]
        },
        {
          "output_type": "display_data",
          "data": {
            "image/png": "[encoded data removed]",
            "text/plain": [
              "<Figure size 432x216 with 2 Axes>"
            ]
          },
          "metadata": {
            "needs_background": "light"
          }
        }
      ]
    },
    {
      "cell_type": "markdown",
      "metadata": {
        "id": "zhDFavMmcnLT"
      },
      "source": [
        "Para la imagen 6 de los datos de prueba, los tres modelos la predicen con un 100% de seguridad. Tienen una precisión del 100% para ese caso."
      ]
    },
    {
      "cell_type": "markdown",
      "metadata": {
        "id": "0jbYf05C7DrQ"
      },
      "source": [
        "Vemos la predicción, igual que el gráfico anterior, de las 14 primeras imágenes del conjunto de test, para cada uno de los casos."
      ]
    },
    {
      "cell_type": "code",
      "metadata": {
        "id": "TwmpleF77G5b",
        "colab": {
          "base_uri": "https://localhost:8080/",
          "height": 1000
        },
        "outputId": "fcc88022-7517-4e6d-f27f-73902ccf29f8"
      },
      "source": [
        "for caso in range (casos):\n",
        "    print(\"----------------------------------------------------------\")\n",
        "    print(\"PREDICCIONES CASO \", caso + 1 , \" : \")\n",
        "    print(\"\\n\\n\")\n",
        "    for i in range(14):\n",
        "      plt.figure(figsize=(6,3))\n",
        "      plt.subplot(1,2,1)\n",
        "      plot_image(i, predictions[caso][i], test_labels, test_images.reshape(10000,28,28))\n",
        "      plt.subplot(1,2,2)\n",
        "      plot_value_array(i, predictions[caso][i],  test_labels)\n",
        "      plt.show()\n",
        "      plt.clf()"
      ],
      "execution_count": 27,
      "outputs": [
        {
          "output_type": "stream",
          "name": "stdout",
          "text": [
            "----------------------------------------------------------\n",
            "PREDICCIONES CASO  1  : \n",
            "\n",
            "\n",
            "\n"
          ]
        },
        {
          "output_type": "display_data",
          "data": {
            "image/png": "[encoded data removed]",
            "text/plain": [
              "<Figure size 432x216 with 2 Axes>"
            ]
          },
          "metadata": {
            "needs_background": "light"
          }
        },
        {
          "output_type": "display_data",
          "data": {
            "text/plain": [
              "<Figure size 432x288 with 0 Axes>"
            ]
          },
          "metadata": {}
        },
        {
          "output_type": "display_data",
          "data": {
            "image/png": "[encoded data removed]",
            "text/plain": [
              "<Figure size 432x216 with 2 Axes>"
            ]
          },
          "metadata": {
            "needs_background": "light"
          }
        },
        {
          "output_type": "display_data",
          "data": {
            "text/plain": [
              "<Figure size 432x288 with 0 Axes>"
            ]
          },
          "metadata": {}
        },
        {
          "output_type": "display_data",
          "data": {
            "image/png": "[encoded data removed]",
            "text/plain": [
              "<Figure size 432x216 with 2 Axes>"
            ]
          },
          "metadata": {
            "needs_background": "light"
          }
        },
        {
          "output_type": "display_data",
          "data": {
            "text/plain": [
              "<Figure size 432x288 with 0 Axes>"
            ]
          },
          "metadata": {}
        },
        {
          "output_type": "display_data",
          "data": {
            "image/png": "[encoded data removed]",
            "text/plain": [
              "<Figure size 432x216 with 2 Axes>"
            ]
          },
          "metadata": {
            "needs_background": "light"
          }
        },
        {
          "output_type": "display_data",
          "data": {
            "text/plain": [
              "<Figure size 432x288 with 0 Axes>"
            ]
          },
          "metadata": {}
        },
        {
          "output_type": "display_data",
          "data": {
            "image/png": "[encoded data removed]",
            "text/plain": [
              "<Figure size 432x216 with 2 Axes>"
            ]
          },
          "metadata": {
            "needs_background": "light"
          }
        },
        {
          "output_type": "display_data",
          "data": {
            "text/plain": [
              "<Figure size 432x288 with 0 Axes>"
            ]
          },
          "metadata": {}
        },
        {
          "output_type": "display_data",
          "data": {
            "image/png": "[encoded data removed]",
            "text/plain": [
              "<Figure size 432x216 with 2 Axes>"
            ]
          },
          "metadata": {
            "needs_background": "light"
          }
        },
        {
          "output_type": "display_data",
          "data": {
            "text/plain": [
              "<Figure size 432x288 with 0 Axes>"
            ]
          },
          "metadata": {}
        },
        {
          "output_type": "display_data",
          "data": {
            "image/png": "[encoded data removed]",
            "text/plain": [
              "<Figure size 432x216 with 2 Axes>"
            ]
          },
          "metadata": {
            "needs_background": "light"
          }
        },
        {
          "output_type": "display_data",
          "data": {
            "text/plain": [
              "<Figure size 432x288 with 0 Axes>"
            ]
          },
          "metadata": {}
        },
        {
          "output_type": "display_data",
          "data": {
            "image/png": "[encoded data removed]",
            "text/plain": [
              "<Figure size 432x216 with 2 Axes>"
            ]
          },
          "metadata": {
            "needs_background": "light"
          }
        },
        {
          "output_type": "display_data",
          "data": {
            "text/plain": [
              "<Figure size 432x288 with 0 Axes>"
            ]
          },
          "metadata": {}
        },
        {
          "output_type": "display_data",
          "data": {
            "image/png": "[encoded data removed]",
            "text/plain": [
              "<Figure size 432x216 with 2 Axes>"
            ]
          },
          "metadata": {
            "needs_background": "light"
          }
        },
        {
          "output_type": "display_data",
          "data": {
            "text/plain": [
              "<Figure size 432x288 with 0 Axes>"
            ]
          },
          "metadata": {}
        },
        {
          "output_type": "display_data",
          "data": {
            "image/png": "[encoded data removed]",
            "text/plain": [
              "<Figure size 432x216 with 2 Axes>"
            ]
          },
          "metadata": {
            "needs_background": "light"
          }
        },
        {
          "output_type": "display_data",
          "data": {
            "text/plain": [
              "<Figure size 432x288 with 0 Axes>"
            ]
          },
          "metadata": {}
        },
        {
          "output_type": "display_data",
          "data": {
            "image/png": "[encoded data removed]",
            "text/plain": [
              "<Figure size 432x216 with 2 Axes>"
            ]
          },
          "metadata": {
            "needs_background": "light"
          }
        },
        {
          "output_type": "display_data",
          "data": {
            "text/plain": [
              "<Figure size 432x288 with 0 Axes>"
            ]
          },
          "metadata": {}
        },
        {
          "output_type": "display_data",
          "data": {
            "image/png": "[encoded data removed]",
            "text/plain": [
              "<Figure size 432x216 with 2 Axes>"
            ]
          },
          "metadata": {
            "needs_background": "light"
          }
        },
        {
          "output_type": "display_data",
          "data": {
            "text/plain": [
              "<Figure size 432x288 with 0 Axes>"
            ]
          },
          "metadata": {}
        },
        {
          "output_type": "display_data",
          "data": {
            "image/png": "[encoded data removed]",
            "text/plain": [
              "<Figure size 432x216 with 2 Axes>"
            ]
          },
          "metadata": {
            "needs_background": "light"
          }
        },
        {
          "output_type": "display_data",
          "data": {
            "text/plain": [
              "<Figure size 432x288 with 0 Axes>"
            ]
          },
          "metadata": {}
        },
        {
          "output_type": "display_data",
          "data": {
            "image/png": "[encoded data removed]",
            "text/plain": [
              "<Figure size 432x216 with 2 Axes>"
            ]
          },
          "metadata": {
            "needs_background": "light"
          }
        },
        {
          "output_type": "stream",
          "name": "stdout",
          "text": [
            "----------------------------------------------------------\n",
            "PREDICCIONES CASO  2  : \n",
            "\n",
            "\n",
            "\n"
          ]
        },
        {
          "output_type": "display_data",
          "data": {
            "text/plain": [
              "<Figure size 432x288 with 0 Axes>"
            ]
          },
          "metadata": {}
        },
        {
          "output_type": "display_data",
          "data": {
            "image/png": "[encoded data removed]",
            "text/plain": [
              "<Figure size 432x216 with 2 Axes>"
            ]
          },
          "metadata": {
            "needs_background": "light"
          }
        },
        {
          "output_type": "display_data",
          "data": {
            "text/plain": [
              "<Figure size 432x288 with 0 Axes>"
            ]
          },
          "metadata": {}
        },
        {
          "output_type": "display_data",
          "data": {
            "image/png": "[encoded data removed]",
            "text/plain": [
              "<Figure size 432x216 with 2 Axes>"
            ]
          },
          "metadata": {
            "needs_background": "light"
          }
        },
        {
          "output_type": "display_data",
          "data": {
            "text/plain": [
              "<Figure size 432x288 with 0 Axes>"
            ]
          },
          "metadata": {}
        },
        {
          "output_type": "display_data",
          "data": {
            "image/png": "[encoded data removed]",
            "text/plain": [
              "<Figure size 432x216 with 2 Axes>"
            ]
          },
          "metadata": {
            "needs_background": "light"
          }
        },
        {
          "output_type": "display_data",
          "data": {
            "text/plain": [
              "<Figure size 432x288 with 0 Axes>"
            ]
          },
          "metadata": {}
        },
        {
          "output_type": "display_data",
          "data": {
            "image/png": "[encoded data removed]",
            "text/plain": [
              "<Figure size 432x216 with 2 Axes>"
            ]
          },
          "metadata": {
            "needs_background": "light"
          }
        },
        {
          "output_type": "display_data",
          "data": {
            "text/plain": [
              "<Figure size 432x288 with 0 Axes>"
            ]
          },
          "metadata": {}
        },
        {
          "output_type": "display_data",
          "data": {
            "image/png": "[encoded data removed]",
            "text/plain": [
              "<Figure size 432x216 with 2 Axes>"
            ]
          },
          "metadata": {
            "needs_background": "light"
          }
        },
        {
          "output_type": "display_data",
          "data": {
            "text/plain": [
              "<Figure size 432x288 with 0 Axes>"
            ]
          },
          "metadata": {}
        },
        {
          "output_type": "display_data",
          "data": {
            "image/png": "[encoded data removed]",
            "text/plain": [
              "<Figure size 432x216 with 2 Axes>"
            ]
          },
          "metadata": {
            "needs_background": "light"
          }
        },
        {
          "output_type": "display_data",
          "data": {
            "text/plain": [
              "<Figure size 432x288 with 0 Axes>"
            ]
          },
          "metadata": {}
        },
        {
          "output_type": "display_data",
          "data": {
            "image/png": "[encoded data removed]",
            "text/plain": [
              "<Figure size 432x216 with 2 Axes>"
            ]
          },
          "metadata": {
            "needs_background": "light"
          }
        },
        {
          "output_type": "display_data",
          "data": {
            "text/plain": [
              "<Figure size 432x288 with 0 Axes>"
            ]
          },
          "metadata": {}
        },
        {
          "output_type": "display_data",
          "data": {
            "image/png": "[encoded data removed]",
            "text/plain": [
              "<Figure size 432x216 with 2 Axes>"
            ]
          },
          "metadata": {
            "needs_background": "light"
          }
        },
        {
          "output_type": "display_data",
          "data": {
            "text/plain": [
              "<Figure size 432x288 with 0 Axes>"
            ]
          },
          "metadata": {}
        },
        {
          "output_type": "display_data",
          "data": {
            "image/png": "[encoded data removed]",
            "text/plain": [
              "<Figure size 432x216 with 2 Axes>"
            ]
          },
          "metadata": {
            "needs_background": "light"
          }
        },
        {
          "output_type": "display_data",
          "data": {
            "text/plain": [
              "<Figure size 432x288 with 0 Axes>"
            ]
          },
          "metadata": {}
        },
        {
          "output_type": "display_data",
          "data": {
            "image/png": "[encoded data removed]",
            "text/plain": [
              "<Figure size 432x216 with 2 Axes>"
            ]
          },
          "metadata": {
            "needs_background": "light"
          }
        },
        {
          "output_type": "display_data",
          "data": {
            "text/plain": [
              "<Figure size 432x288 with 0 Axes>"
            ]
          },
          "metadata": {}
        },
        {
          "output_type": "display_data",
          "data": {
            "image/png": "[encoded data removed]",
            "text/plain": [
              "<Figure size 432x216 with 2 Axes>"
            ]
          },
          "metadata": {
            "needs_background": "light"
          }
        },
        {
          "output_type": "display_data",
          "data": {
            "text/plain": [
              "<Figure size 432x288 with 0 Axes>"
            ]
          },
          "metadata": {}
        },
        {
          "output_type": "display_data",
          "data": {
            "image/png": "[encoded data removed]",
            "text/plain": [
              "<Figure size 432x216 with 2 Axes>"
            ]
          },
          "metadata": {
            "needs_background": "light"
          }
        },
        {
          "output_type": "display_data",
          "data": {
            "text/plain": [
              "<Figure size 432x288 with 0 Axes>"
            ]
          },
          "metadata": {}
        },
        {
          "output_type": "display_data",
          "data": {
            "image/png": "[encoded data removed]",
            "text/plain": [
              "<Figure size 432x216 with 2 Axes>"
            ]
          },
          "metadata": {
            "needs_background": "light"
          }
        },
        {
          "output_type": "display_data",
          "data": {
            "text/plain": [
              "<Figure size 432x288 with 0 Axes>"
            ]
          },
          "metadata": {}
        },
        {
          "output_type": "display_data",
          "data": {
            "image/png": "[encoded data removed]",
            "text/plain": [
              "<Figure size 432x216 with 2 Axes>"
            ]
          },
          "metadata": {
            "needs_background": "light"
          }
        },
        {
          "output_type": "stream",
          "name": "stdout",
          "text": [
            "----------------------------------------------------------\n",
            "PREDICCIONES CASO  3  : \n",
            "\n",
            "\n",
            "\n"
          ]
        },
        {
          "output_type": "display_data",
          "data": {
            "text/plain": [
              "<Figure size 432x288 with 0 Axes>"
            ]
          },
          "metadata": {}
        },
        {
          "output_type": "display_data",
          "data": {
            "image/png": "[encoded data removed]",
            "text/plain": [
              "<Figure size 432x216 with 2 Axes>"
            ]
          },
          "metadata": {
            "needs_background": "light"
          }
        },
        {
          "output_type": "display_data",
          "data": {
            "text/plain": [
              "<Figure size 432x288 with 0 Axes>"
            ]
          },
          "metadata": {}
        },
        {
          "output_type": "display_data",
          "data": {
            "image/png": "[encoded data removed]",
            "text/plain": [
              "<Figure size 432x216 with 2 Axes>"
            ]
          },
          "metadata": {
            "needs_background": "light"
          }
        },
        {
          "output_type": "display_data",
          "data": {
            "text/plain": [
              "<Figure size 432x288 with 0 Axes>"
            ]
          },
          "metadata": {}
        },
        {
          "output_type": "display_data",
          "data": {
            "image/png": "[encoded data removed]",
            "text/plain": [
              "<Figure size 432x216 with 2 Axes>"
            ]
          },
          "metadata": {
            "needs_background": "light"
          }
        },
        {
          "output_type": "display_data",
          "data": {
            "text/plain": [
              "<Figure size 432x288 with 0 Axes>"
            ]
          },
          "metadata": {}
        },
        {
          "output_type": "display_data",
          "data": {
            "image/png": "[encoded data removed]",
            "text/plain": [
              "<Figure size 432x216 with 2 Axes>"
            ]
          },
          "metadata": {
            "needs_background": "light"
          }
        },
        {
          "output_type": "display_data",
          "data": {
            "text/plain": [
              "<Figure size 432x288 with 0 Axes>"
            ]
          },
          "metadata": {}
        },
        {
          "output_type": "display_data",
          "data": {
            "image/png": "[encoded data removed]",
            "text/plain": [
              "<Figure size 432x216 with 2 Axes>"
            ]
          },
          "metadata": {
            "needs_background": "light"
          }
        },
        {
          "output_type": "display_data",
          "data": {
            "text/plain": [
              "<Figure size 432x288 with 0 Axes>"
            ]
          },
          "metadata": {}
        },
        {
          "output_type": "display_data",
          "data": {
            "image/png": "[encoded data removed]",
            "text/plain": [
              "<Figure size 432x216 with 2 Axes>"
            ]
          },
          "metadata": {
            "needs_background": "light"
          }
        },
        {
          "output_type": "display_data",
          "data": {
            "text/plain": [
              "<Figure size 432x288 with 0 Axes>"
            ]
          },
          "metadata": {}
        },
        {
          "output_type": "display_data",
          "data": {
            "image/png": "[encoded data removed]",
            "text/plain": [
              "<Figure size 432x216 with 2 Axes>"
            ]
          },
          "metadata": {
            "needs_background": "light"
          }
        },
        {
          "output_type": "display_data",
          "data": {
            "text/plain": [
              "<Figure size 432x288 with 0 Axes>"
            ]
          },
          "metadata": {}
        },
        {
          "output_type": "display_data",
          "data": {
            "image/png": "[encoded data removed]",
            "text/plain": [
              "<Figure size 432x216 with 2 Axes>"
            ]
          },
          "metadata": {
            "needs_background": "light"
          }
        },
        {
          "output_type": "display_data",
          "data": {
            "text/plain": [
              "<Figure size 432x288 with 0 Axes>"
            ]
          },
          "metadata": {}
        },
        {
          "output_type": "display_data",
          "data": {
            "image/png": "[encoded data removed]",
            "text/plain": [
              "<Figure size 432x216 with 2 Axes>"
            ]
          },
          "metadata": {
            "needs_background": "light"
          }
        },
        {
          "output_type": "display_data",
          "data": {
            "text/plain": [
              "<Figure size 432x288 with 0 Axes>"
            ]
          },
          "metadata": {}
        },
        {
          "output_type": "display_data",
          "data": {
            "image/png": "[encoded data removed]",
            "text/plain": [
              "<Figure size 432x216 with 2 Axes>"
            ]
          },
          "metadata": {
            "needs_background": "light"
          }
        },
        {
          "output_type": "display_data",
          "data": {
            "text/plain": [
              "<Figure size 432x288 with 0 Axes>"
            ]
          },
          "metadata": {}
        },
        {
          "output_type": "display_data",
          "data": {
            "image/png": "[encoded data removed]",
            "text/plain": [
              "<Figure size 432x216 with 2 Axes>"
            ]
          },
          "metadata": {
            "needs_background": "light"
          }
        },
        {
          "output_type": "display_data",
          "data": {
            "text/plain": [
              "<Figure size 432x288 with 0 Axes>"
            ]
          },
          "metadata": {}
        },
        {
          "output_type": "display_data",
          "data": {
            "image/png": "[encoded data removed]",
            "text/plain": [
              "<Figure size 432x216 with 2 Axes>"
            ]
          },
          "metadata": {
            "needs_background": "light"
          }
        },
        {
          "output_type": "display_data",
          "data": {
            "text/plain": [
              "<Figure size 432x288 with 0 Axes>"
            ]
          },
          "metadata": {}
        },
        {
          "output_type": "display_data",
          "data": {
            "image/png": "[encoded data removed]",
            "text/plain": [
              "<Figure size 432x216 with 2 Axes>"
            ]
          },
          "metadata": {
            "needs_background": "light"
          }
        },
        {
          "output_type": "display_data",
          "data": {
            "text/plain": [
              "<Figure size 432x288 with 0 Axes>"
            ]
          },
          "metadata": {}
        },
        {
          "output_type": "display_data",
          "data": {
            "image/png": "[encoded data removed]",
            "text/plain": [
              "<Figure size 432x216 with 2 Axes>"
            ]
          },
          "metadata": {
            "needs_background": "light"
          }
        },
        {
          "output_type": "display_data",
          "data": {
            "text/plain": [
              "<Figure size 432x288 with 0 Axes>"
            ]
          },
          "metadata": {}
        }
      ]
    },
    {
      "cell_type": "markdown",
      "metadata": {
        "id": "-dfC8YioQhPU"
      },
      "source": [
        "Observamos que los dos primeros modelos confunden la penúltima imagen, es decir, las zapatillas, no saben clasificarla correctamente.\n",
        "\n",
        "Creemos que esto se debe a :\n",
        "- No tener en los datos de entrenamiento suficientes imágenes que correspondan con la etiqueta asociada a zapatilla (7)\n",
        "\n",
        "- La imagen tiene un \"formato\" diferente a todas las demás, es decir, está girada\n",
        "\n",
        "\n",
        "Por otro lado, no nos sorprende que el modelo 3 prediga correctamente todas las imágenes, ya que como hemos visto anterioramente, al tener optimizador adam tiene una mejor precisión por lo que, en consecuencia, ofrece mejores resultados.\n"
      ]
    },
    {
      "cell_type": "markdown",
      "metadata": {
        "id": "RQMqFdSnbYie"
      },
      "source": [
        "## **DROPOUT**"
      ]
    },
    {
      "cell_type": "markdown",
      "metadata": {
        "id": "yA4NxVbE-PsN"
      },
      "source": [
        "Dropout es una de las técnicas de regularización más efectivas \n",
        "\n",
        "Aplicar dropout a una capa consiste en retirar (poner a cero) \n",
        "aleatoriamente un número de características de salida de la \n",
        "capa durante el entrenamiento.\n",
        "\n",
        "La “tasa de dropout” es la proporción de características que se \n",
        "ponen a 0 (entre 0.2 a 0.5)\n",
        "\n",
        "Durante la prueba, no se retira ninguna característica. En su lugar, \n",
        "los valores de salida de la capa se reducen en un factor que es la “tasa de dropout” (para equilibrar que haya más neuronas activas que en el entrenamiento)."
      ]
    },
    {
      "cell_type": "markdown",
      "metadata": {
        "id": "apo33yu_mJL3"
      },
      "source": [
        "Añadimos dropout, en un modelo como el Modelo 1, en cada capa con una tasa igual a 0.5"
      ]
    },
    {
      "cell_type": "code",
      "metadata": {
        "id": "ai6pfDF3beK_",
        "colab": {
          "base_uri": "https://localhost:8080/"
        },
        "outputId": "9b6baa2a-5d4d-4015-e1e0-9d2f392666b5"
      },
      "source": [
        "from keras import layers\n",
        "from keras import models\n",
        "modelD = Sequential()\n",
        "modelD.add(Conv2D(32, (5, 5), activation='relu', input_shape=(28, 28, 1)))\n",
        "modelD.add(layers.Dropout(0.5))\n",
        "modelD.add(MaxPooling2D((2, 2)))\n",
        "\n",
        "modelD.add(Conv2D(64, (5, 5), activation='relu'))\n",
        "modelD.add(layers.Dropout(0.5))\n",
        "modelD.add(MaxPooling2D((2, 2)))\n",
        "\n",
        "modelD.add(Flatten())\n",
        "modelD.add(layers.Dropout(0.5))\n",
        "modelD.add(Dense(10, activation='softmax'))\n",
        "modelD.summary()"
      ],
      "execution_count": 28,
      "outputs": [
        {
          "output_type": "stream",
          "name": "stdout",
          "text": [
            "Model: \"sequential_5\"\n",
            "_________________________________________________________________\n",
            " Layer (type)                Output Shape              Param #   \n",
            "=================================================================\n",
            " conv2d_10 (Conv2D)          (None, 24, 24, 32)        832       \n",
            "                                                                 \n",
            " dropout (Dropout)           (None, 24, 24, 32)        0         \n",
            "                                                                 \n",
            " max_pooling2d_10 (MaxPoolin  (None, 12, 12, 32)       0         \n",
            " g2D)                                                            \n",
            "                                                                 \n",
            " conv2d_11 (Conv2D)          (None, 8, 8, 64)          51264     \n",
            "                                                                 \n",
            " dropout_1 (Dropout)         (None, 8, 8, 64)          0         \n",
            "                                                                 \n",
            " max_pooling2d_11 (MaxPoolin  (None, 4, 4, 64)         0         \n",
            " g2D)                                                            \n",
            "                                                                 \n",
            " flatten_5 (Flatten)         (None, 1024)              0         \n",
            "                                                                 \n",
            " dropout_2 (Dropout)         (None, 1024)              0         \n",
            "                                                                 \n",
            " dense_7 (Dense)             (None, 10)                10250     \n",
            "                                                                 \n",
            "=================================================================\n",
            "Total params: 62,346\n",
            "Trainable params: 62,346\n",
            "Non-trainable params: 0\n",
            "_________________________________________________________________\n"
          ]
        }
      ]
    },
    {
      "cell_type": "code",
      "metadata": {
        "id": "VhnScMA4cFgZ",
        "colab": {
          "base_uri": "https://localhost:8080/"
        },
        "outputId": "32dae5ba-e3ba-4427-cc68-638cd28ec334"
      },
      "source": [
        "modelD.compile(loss='sparse_categorical_crossentropy',\n",
        "              optimizer='sgd',\n",
        "              metrics=['accuracy'])\n",
        "\n",
        "modelD.fit(train_images, train_labels, epochs=5, batch_size=100)\n",
        "\n",
        "test_lossD, test_accD = modelD.evaluate(test_images, test_labels)\n",
        "\n",
        "print('Test loss:', test_lossD)\n",
        "print('Test accuracy:', test_accD)"
      ],
      "execution_count": 29,
      "outputs": [
        {
          "output_type": "stream",
          "name": "stdout",
          "text": [
            "Epoch 1/5\n",
            "600/600 [==============================] - 5s 8ms/step - loss: 1.0609 - accuracy: 0.6163\n",
            "Epoch 2/5\n",
            "600/600 [==============================] - 4s 7ms/step - loss: 0.6928 - accuracy: 0.7404\n",
            "Epoch 3/5\n",
            "600/600 [==============================] - 4s 7ms/step - loss: 0.6247 - accuracy: 0.7679\n",
            "Epoch 4/5\n",
            "600/600 [==============================] - 4s 7ms/step - loss: 0.5812 - accuracy: 0.7861\n",
            "Epoch 5/5\n",
            "600/600 [==============================] - 4s 7ms/step - loss: 0.5517 - accuracy: 0.7978\n",
            "313/313 [==============================] - 1s 4ms/step - loss: 0.7951 - accuracy: 0.8273\n",
            "Test loss: 0.7951036095619202\n",
            "Test accuracy: 0.8273000121116638\n"
          ]
        }
      ]
    },
    {
      "cell_type": "markdown",
      "metadata": {
        "id": "n1D6j8ugZhcp"
      },
      "source": [
        "En este modelo, observamos como para los datos de prueba, la precisión se mantiene prácticamente igual que en el modelo 1, mientras que el valor de pérdida es bastante más alto. \n",
        "\n",
        "Si nos fijamos en el entrenamiento, vemos que tanto el valor de périda como la precisión son peores que en el modelo 1, lo cual es lógico, ya que al añadirle dropout estamos modificando los valores continuamente.\n",
        "\n",
        "En conclusión, como buscamos una precisión lo más alta posible,  utilizar dropout no nos interesa."
      ]
    },
    {
      "cell_type": "markdown",
      "metadata": {
        "id": "0f07gbcn_vR4"
      },
      "source": [
        "## **BatchNormalization**"
      ]
    },
    {
      "cell_type": "markdown",
      "metadata": {
        "id": "pjL-u6-t_8OQ"
      },
      "source": [
        "Capa que normaliza sus entradas.\n",
        "\n",
        "La normalización por lotes realiza una transformación que mantiene la media cerca de 0 y la desviación estándar de salida cerca de 1.\n",
        "\n",
        "Durante el entrenamiento, la capa normaliza su salida utilizando la media y la desviación estándar del lote actual de entradas.\n",
        "\n",
        "Durante la prueba, la capa normaliza su salida utilizando una media móvil de la media y la desviación estándar de los lotes que ha visto durante el entrenamiento,\n",
        "\n",
        "Añadimos BatchNormalization, en un modelo como el Modelo 1, en cada capa\n"
      ]
    },
    {
      "cell_type": "code",
      "metadata": {
        "id": "lagstSA1bPOm",
        "colab": {
          "base_uri": "https://localhost:8080/"
        },
        "outputId": "1aa3e94b-eb90-48e4-bfaf-39ea484d8654"
      },
      "source": [
        "from keras import layers\n",
        "from keras import models\n",
        "from tensorflow.keras.layers import BatchNormalization\n",
        "modelB = Sequential()\n",
        "modelB.add(Conv2D(32, (5, 5), activation='relu', input_shape=(28, 28, 1)))\n",
        "modelB.add(BatchNormalization())\n",
        "modelB.add(MaxPooling2D((2, 2)))\n",
        "\n",
        "modelB.add(Conv2D(64, (5, 5), activation='relu'))\n",
        "modelB.add(BatchNormalization())\n",
        "modelB.add(MaxPooling2D((2, 2)))\n",
        "\n",
        "modelB.add(Flatten())\n",
        "modelB.add(BatchNormalization())\n",
        "modelB.add(Dense(10, activation='softmax'))\n",
        "modelB.summary()"
      ],
      "execution_count": 30,
      "outputs": [
        {
          "output_type": "stream",
          "name": "stdout",
          "text": [
            "Model: \"sequential_6\"\n",
            "_________________________________________________________________\n",
            " Layer (type)                Output Shape              Param #   \n",
            "=================================================================\n",
            " conv2d_12 (Conv2D)          (None, 24, 24, 32)        832       \n",
            "                                                                 \n",
            " batch_normalization (BatchN  (None, 24, 24, 32)       128       \n",
            " ormalization)                                                   \n",
            "                                                                 \n",
            " max_pooling2d_12 (MaxPoolin  (None, 12, 12, 32)       0         \n",
            " g2D)                                                            \n",
            "                                                                 \n",
            " conv2d_13 (Conv2D)          (None, 8, 8, 64)          51264     \n",
            "                                                                 \n",
            " batch_normalization_1 (Batc  (None, 8, 8, 64)         256       \n",
            " hNormalization)                                                 \n",
            "                                                                 \n",
            " max_pooling2d_13 (MaxPoolin  (None, 4, 4, 64)         0         \n",
            " g2D)                                                            \n",
            "                                                                 \n",
            " flatten_6 (Flatten)         (None, 1024)              0         \n",
            "                                                                 \n",
            " batch_normalization_2 (Batc  (None, 1024)             4096      \n",
            " hNormalization)                                                 \n",
            "                                                                 \n",
            " dense_8 (Dense)             (None, 10)                10250     \n",
            "                                                                 \n",
            "=================================================================\n",
            "Total params: 66,826\n",
            "Trainable params: 64,586\n",
            "Non-trainable params: 2,240\n",
            "_________________________________________________________________\n"
          ]
        }
      ]
    },
    {
      "cell_type": "code",
      "metadata": {
        "id": "WVDllVP3dGZh",
        "colab": {
          "base_uri": "https://localhost:8080/"
        },
        "outputId": "5962d3b4-8027-4792-dd8e-ca76b2e4ef17"
      },
      "source": [
        "modelB.compile(loss='sparse_categorical_crossentropy',\n",
        "              optimizer='sgd',\n",
        "              metrics=['accuracy'])\n",
        "\n",
        "modelB.fit(train_images, train_labels, epochs=5, batch_size=100)\n",
        "\n",
        "test_lossB, test_accB = modelB.evaluate(test_images, test_labels)\n",
        "\n",
        "print('Test loss:', test_lossB)\n",
        "print('Test accuracy:', test_accB)"
      ],
      "execution_count": 31,
      "outputs": [
        {
          "output_type": "stream",
          "name": "stdout",
          "text": [
            "Epoch 1/5\n",
            "600/600 [==============================] - 6s 9ms/step - loss: 0.4762 - accuracy: 0.8316\n",
            "Epoch 2/5\n",
            "600/600 [==============================] - 5s 8ms/step - loss: 0.3337 - accuracy: 0.8812\n",
            "Epoch 3/5\n",
            "600/600 [==============================] - 5s 8ms/step - loss: 0.2951 - accuracy: 0.8954\n",
            "Epoch 4/5\n",
            "600/600 [==============================] - 5s 8ms/step - loss: 0.2700 - accuracy: 0.9029\n",
            "Epoch 5/5\n",
            "600/600 [==============================] - 5s 8ms/step - loss: 0.2511 - accuracy: 0.9099\n",
            "313/313 [==============================] - 1s 4ms/step - loss: 0.3188 - accuracy: 0.8860\n",
            "Test loss: 0.3188439607620239\n",
            "Test accuracy: 0.8859999775886536\n"
          ]
        }
      ]
    },
    {
      "cell_type": "markdown",
      "metadata": {
        "id": "cY5hbi4Sa1f3"
      },
      "source": [
        "Comprobamos como al utilizar **batchnormalization**, obtenemos una precisión más alta que la del modelo 1 y un valor de pérdida más pequeño, por tanto, nuestro modelo es mejor."
      ]
    },
    {
      "cell_type": "markdown",
      "metadata": {
        "id": "zi1OxQpxOz5Y"
      },
      "source": [
        "## **Callbacks API**\n",
        "Una \"callback\" o devolución de llamada es un objeto que puede realizar acciones en varias etapas del entrenamiento (por ejemplo, al comienzo o al final de una época, antes o después de un solo lote, etc.).\n",
        "\n",
        "Puede usar devoluciones de llamada para:\n",
        "\n",
        " \n",
        "\n",
        "*   Escribir registros de TensorBoard después de cada lote de entrenamiento     para monitorear sus métricas\n",
        "*   Guarde periódicamente el modelo en el disco\n",
        "*   Hacer paradas tempranas\n",
        "*   Obtener una vista de los estados internos y las estadísticas de un modelo durante el entrenamiento\n",
        "*   etc\n"
      ]
    },
    {
      "cell_type": "markdown",
      "metadata": {
        "id": "QAFAtYe6QVKV"
      },
      "source": [
        "*   **Creamos un modelo implementando callback**\n",
        " \n",
        " Utilizamos callback para entrenar un modelo igual al Modelo 2"
      ]
    },
    {
      "cell_type": "code",
      "metadata": {
        "id": "uFlyh5x5QDoq",
        "colab": {
          "base_uri": "https://localhost:8080/"
        },
        "outputId": "1cdd96c9-8ef4-4856-84b4-ad1bc9bb4d3b"
      },
      "source": [
        "modelnuevo = Sequential()\n",
        "modelnuevo.add(Conv2D(64, (7, 7), padding='same', activation='relu', input_shape=(28, 28, 1)))\n",
        "modelnuevo.add(MaxPooling2D((2, 2)))\n",
        "\n",
        "modelnuevo.add(Conv2D(128, (3, 3), padding='same', activation='relu'))\n",
        "modelnuevo.add(MaxPooling2D((2, 2)))\n",
        "\n",
        "modelnuevo.add(Flatten())\n",
        "modelnuevo.add(Dense(65, activation='relu'))\n",
        "modelnuevo.add(Dense(10, activation='softmax'))\n",
        "modelnuevo.summary()\n",
        "\n",
        "\n",
        "modelnuevo.compile(loss='sparse_categorical_crossentropy',\n",
        "              optimizer='sgd',\n",
        "              metrics=['accuracy'])\n",
        "\n",
        "#tensorboard_callback = tf.keras.callbacks.TensorBoard(log_dir=\"./logs\")\n",
        "def scheduler(epoch, lr):\n",
        "    if epoch < 1:\n",
        "        return lr\n",
        "    else:\n",
        "        return lr * tf.math.exp(-0.1)\n",
        "\n",
        "\n",
        "callback = tf.keras.callbacks.LearningRateScheduler(scheduler)\n",
        "\n",
        "\n",
        "modelnuevo.fit(train_images, train_labels,\n",
        "          batch_size=100,\n",
        "          epochs=5,\n",
        "          callbacks=[callback])\n",
        "\n",
        "test_loss, test_acc = modelnuevo.evaluate(test_images, test_labels)\n",
        "\n",
        "print('Test loss:', test_loss)\n",
        "print('Test accuracy:', test_acc)"
      ],
      "execution_count": 33,
      "outputs": [
        {
          "output_type": "stream",
          "name": "stdout",
          "text": [
            "Model: \"sequential_8\"\n",
            "_________________________________________________________________\n",
            " Layer (type)                Output Shape              Param #   \n",
            "=================================================================\n",
            " conv2d_16 (Conv2D)          (None, 28, 28, 64)        3200      \n",
            "                                                                 \n",
            " max_pooling2d_16 (MaxPoolin  (None, 14, 14, 64)       0         \n",
            " g2D)                                                            \n",
            "                                                                 \n",
            " conv2d_17 (Conv2D)          (None, 14, 14, 128)       73856     \n",
            "                                                                 \n",
            " max_pooling2d_17 (MaxPoolin  (None, 7, 7, 128)        0         \n",
            " g2D)                                                            \n",
            "                                                                 \n",
            " flatten_8 (Flatten)         (None, 6272)              0         \n",
            "                                                                 \n",
            " dense_11 (Dense)            (None, 65)                407745    \n",
            "                                                                 \n",
            " dense_12 (Dense)            (None, 10)                660       \n",
            "                                                                 \n",
            "=================================================================\n",
            "Total params: 485,461\n",
            "Trainable params: 485,461\n",
            "Non-trainable params: 0\n",
            "_________________________________________________________________\n",
            "Epoch 1/5\n",
            "600/600 [==============================] - 7s 12ms/step - loss: 1.1294 - accuracy: 0.5992 - lr: 0.0100\n",
            "Epoch 2/5\n",
            "600/600 [==============================] - 7s 12ms/step - loss: 0.6674 - accuracy: 0.7549 - lr: 0.0090\n",
            "Epoch 3/5\n",
            "600/600 [==============================] - 7s 11ms/step - loss: 0.5881 - accuracy: 0.7856 - lr: 0.0082\n",
            "Epoch 4/5\n",
            "600/600 [==============================] - 7s 12ms/step - loss: 0.5390 - accuracy: 0.8054 - lr: 0.0074\n",
            "Epoch 5/5\n",
            "600/600 [==============================] - 7s 12ms/step - loss: 0.5056 - accuracy: 0.8173 - lr: 0.0067\n",
            "313/313 [==============================] - 2s 5ms/step - loss: 0.5334 - accuracy: 0.8052\n",
            "Test loss: 0.5334072113037109\n",
            "Test accuracy: 0.8051999807357788\n"
          ]
        }
      ]
    },
    {
      "cell_type": "markdown",
      "metadata": {
        "id": "QOUFAnJVVprN"
      },
      "source": [
        "Usamos el callback de **LearningRateScheduler**\n",
        "\n",
        "Al comienzo de cada época, esta devolución de llamada obtiene el valor de tasa de aprendizaje actualizado de la función scheduler, con la época actual y la tasa de aprendizaje actual, y aplica la tasa de aprendizaje actualizada en el optimizador.\n",
        "\n",
        "Esto quiere decir que va variando el learning rate, en nuestro caso, disminuye 0,1 en cada época.\n",
        "\n",
        "Aún variando la tasa de aprendizaje en cada iteración, vemos que el resultado no mejora, de hecho empeora.\n",
        "\n",
        "Deducimos que esto se debe a que hay muy pocas épocas, por lo tanto, al reducirle el learning rate en cada iteración, no se acerca tanto al mínimo y se queda más alejado."
      ]
    },
    {
      "cell_type": "markdown",
      "metadata": {
        "id": "AtM_uYNtChva"
      },
      "source": [
        "##**Matriz confusión**"
      ]
    },
    {
      "cell_type": "code",
      "metadata": {
        "id": "rvGLD3a2Cmr6"
      },
      "source": [
        "import matplotlib.pyplot as plt\n",
        "def plot_confusion_matrix(cm, classes,\n",
        "                          normalize=False,\n",
        "                          title='Confusion matrix',\n",
        "                          cmap=plt.cm.Blues):\n",
        "    \"\"\"\n",
        "    This function prints and plots the confusion matrix.\n",
        "    Normalization can be applied by setting `normalize=True`.\n",
        "    \"\"\"\n",
        "    plt.imshow(cm, interpolation='nearest', cmap=cmap)\n",
        "    plt.title(title)\n",
        "    plt.colorbar()\n",
        "    tick_marks = np.arange(len(classes))\n",
        "    plt.xticks(tick_marks, classes, rotation=45)\n",
        "    plt.yticks(tick_marks, classes)\n",
        "\n",
        "    if normalize:\n",
        "        cm = cm.astype('float') / cm.sum(axis=1)[:, np.newaxis]\n",
        "\n",
        "    thresh = cm.max() / 2.\n",
        "    for i, j in itertools.product(range(cm.shape[0]), range(cm.shape[1])):\n",
        "        plt.text(j, i, cm[i, j],\n",
        "                 horizontalalignment=\"center\",\n",
        "                 color=\"white\" if cm[i, j] > thresh else \"black\")\n",
        "\n",
        "    plt.tight_layout()\n",
        "    plt.ylabel('Observación')\n",
        "    plt.xlabel('Predicción')"
      ],
      "execution_count": 37,
      "outputs": []
    },
    {
      "cell_type": "code",
      "metadata": {
        "id": "e5BaWx6KCsV8"
      },
      "source": [
        "from collections import Counter\n",
        "from sklearn.metrics import confusion_matrix\n",
        "import itertools\n",
        "import numpy as np\n",
        "from keras.utils.np_utils import to_categorical\n",
        "test_labels = to_categorical(test_labels)"
      ],
      "execution_count": 48,
      "outputs": []
    },
    {
      "cell_type": "code",
      "metadata": {
        "id": "2N0hIsMxSO2g"
      },
      "source": [
        "from keras.datasets import fashion_mnist\n",
        "(train_images, train_labels), (test_images, test_labels) = fashion_mnist.load_data()\n",
        "\n",
        "train_images = train_images.astype('float32')\n",
        "test_images = test_images.astype('float32')\n",
        "\n",
        "train_images = train_images / 255.0\n",
        "test_images = test_images / 255.0"
      ],
      "execution_count": 47,
      "outputs": []
    },
    {
      "cell_type": "code",
      "metadata": {
        "id": "QxGvk_wTStjn"
      },
      "source": [
        "from tensorflow.keras import Sequential\n",
        "from tensorflow.keras.layers import Dense\n",
        "from tensorflow.keras.layers import Flatten\n",
        "\n",
        "models = []\n",
        "\n",
        "for caso in range(casos):\n",
        "  if (caso == 0):\n",
        "    model = Sequential()\n",
        "    model.add(Conv2D(numero_neuronas_primera_capa_conv[caso], tamaño_ventana_conv1[caso], activation = funcion_activacion_primera_capa_conv[caso], input_shape=(28, 28, 1)))\n",
        "    model.add(MaxPooling2D(ventana_capa_pooling1[caso]))\n",
        "    model.add(Conv2D(numero_neuronas_segunda_capa_conv[caso], tamaño_ventana_conv2[caso], activation = funcion_activacion_segunda_capa_conv[caso]))\n",
        "    model.add(MaxPooling2D(ventana_capa_pooling2[caso]))\n",
        "\n",
        "    model.add(Flatten())\n",
        "    model.add(Dense(numero_neuronas_primera_capa_dense[caso], activation=funcion_activacion_primera_capa_dense[caso]))\n",
        "    models.append(model)\n",
        "  \n",
        "  else:\n",
        "    model = Sequential()\n",
        "    model.add(Conv2D(numero_neuronas_primera_capa_conv[caso], tamaño_ventana_conv1[caso], padding = 'same', activation = funcion_activacion_primera_capa_conv[caso], input_shape=(28, 28, 1)))\n",
        "    model.add(MaxPooling2D(ventana_capa_pooling1[caso]))\n",
        "    model.add(Conv2D(numero_neuronas_segunda_capa_conv[caso], tamaño_ventana_conv2[caso], padding = 'same', activation = funcion_activacion_segunda_capa_conv[caso]))\n",
        "    model.add(MaxPooling2D(ventana_capa_pooling2[caso]))\n",
        "\n",
        "    model.add(Flatten())\n",
        "    model.add(Dense(numero_neuronas_primera_capa_dense[caso], activation=funcion_activacion_primera_capa_dense[caso]))\n",
        "    model.add(Dense(numero_neuronas_segunda_capa_dense[caso], activation=funcion_activacion_segunda_capa_dense[caso]))\n",
        "    models.append(model)"
      ],
      "execution_count": 49,
      "outputs": []
    },
    {
      "cell_type": "code",
      "metadata": {
        "id": "DAum-uvITnRu"
      },
      "source": [
        "for caso in range(casos):\n",
        "  models[caso].compile(optimizer=optimizador[caso], loss=funcion_perdida[caso], metrics=[metrica[caso]])"
      ],
      "execution_count": 53,
      "outputs": []
    },
    {
      "cell_type": "code",
      "metadata": {
        "id": "PfGeOzpCTPFR",
        "outputId": "d5c48717-cfb7-4088-e644-bba0c86c72cf",
        "colab": {
          "base_uri": "https://localhost:8080/"
        }
      },
      "source": [
        "for caso in range(casos):\n",
        "  if caso == 0:\n",
        "   print(\"CASO \",caso + 1)\n",
        "   print(\"---------------------------------\")\n",
        "\n",
        "   print(\"---------------------------------\")\n",
        "   models[caso].fit(train_images, train_labels, epochs=numero_iteraciones[caso])\n",
        "   print(\"\\n\\n\")\n",
        "\n",
        "  else:\n",
        "   print(\"CASO \",caso + 1)\n",
        "   print(\"---------------------------------\")\n",
        "\n",
        "   print(\"---------------------------------\")\n",
        "   models[caso].fit(train_images, train_labels, epochs=numero_iteraciones[caso])\n",
        "   print(\"\\n\\n\")"
      ],
      "execution_count": 54,
      "outputs": [
        {
          "output_type": "stream",
          "name": "stdout",
          "text": [
            "CASO  1\n",
            "---------------------------------\n",
            "---------------------------------\n",
            "Epoch 1/5\n",
            "1875/1875 [==============================] - 10s 5ms/step - loss: 0.8285 - accuracy: 0.7063\n",
            "Epoch 2/5\n",
            "1875/1875 [==============================] - 10s 5ms/step - loss: 0.5181 - accuracy: 0.8133\n",
            "Epoch 3/5\n",
            "1875/1875 [==============================] - 10s 5ms/step - loss: 0.4511 - accuracy: 0.8398\n",
            "Epoch 4/5\n",
            "1875/1875 [==============================] - 10s 5ms/step - loss: 0.4147 - accuracy: 0.8546\n",
            "Epoch 5/5\n",
            "1875/1875 [==============================] - 10s 5ms/step - loss: 0.3906 - accuracy: 0.8616\n",
            "\n",
            "\n",
            "\n",
            "CASO  2\n",
            "---------------------------------\n",
            "---------------------------------\n",
            "Epoch 1/5\n",
            "1875/1875 [==============================] - 18s 9ms/step - loss: 0.7843 - accuracy: 0.7192\n",
            "Epoch 2/5\n",
            "1875/1875 [==============================] - 17s 9ms/step - loss: 0.4998 - accuracy: 0.8175\n",
            "Epoch 3/5\n",
            "1875/1875 [==============================] - 17s 9ms/step - loss: 0.4247 - accuracy: 0.8480\n",
            "Epoch 4/5\n",
            "1875/1875 [==============================] - 17s 9ms/step - loss: 0.3868 - accuracy: 0.8601\n",
            "Epoch 5/5\n",
            "1875/1875 [==============================] - 17s 9ms/step - loss: 0.3603 - accuracy: 0.8705\n",
            "\n",
            "\n",
            "\n",
            "CASO  3\n",
            "---------------------------------\n",
            "---------------------------------\n",
            "Epoch 1/5\n",
            "1875/1875 [==============================] - 18s 9ms/step - loss: 0.4208 - accuracy: 0.8476\n",
            "Epoch 2/5\n",
            "1875/1875 [==============================] - 17s 9ms/step - loss: 0.2778 - accuracy: 0.8985\n",
            "Epoch 3/5\n",
            "1875/1875 [==============================] - 17s 9ms/step - loss: 0.2330 - accuracy: 0.9132\n",
            "Epoch 4/5\n",
            "1875/1875 [==============================] - 18s 9ms/step - loss: 0.2025 - accuracy: 0.9240\n",
            "Epoch 5/5\n",
            "1875/1875 [==============================] - 18s 9ms/step - loss: 0.1757 - accuracy: 0.9336\n",
            "\n",
            "\n",
            "\n"
          ]
        }
      ]
    },
    {
      "cell_type": "markdown",
      "metadata": {
        "id": "HQGJb9awHrFO"
      },
      "source": [
        "- **Matriz del modelo 1**"
      ]
    },
    {
      "cell_type": "code",
      "metadata": {
        "id": "PR2SPKrYCzIq",
        "colab": {
          "base_uri": "https://localhost:8080/",
          "height": 1000
        },
        "outputId": "e8d5ab84-eabd-4bb2-f476-99c2fc908767"
      },
      "source": [
        "for caso in range(casos):\n",
        "  print(\"CASO \",caso + 1)\n",
        "  print(\"---------------------------------\")\n",
        "  Y_pred = models[caso].predict(test_images)\n",
        "  Y_pred_classes = np.argmax(Y_pred, axis = 1) \n",
        "  Y_true = np.argmax(test_labels, axis = 1) \n",
        "  confusion_mtx = confusion_matrix(Y_true, Y_pred_classes)\n",
        "  plot_confusion_matrix(confusion_mtx, classes = range(10))\n",
        "  plt.show()\n",
        "  print(\"\\n\\n\")\n"
      ],
      "execution_count": 56,
      "outputs": [
        {
          "output_type": "stream",
          "name": "stdout",
          "text": [
            "CASO  1\n",
            "---------------------------------\n"
          ]
        },
        {
          "output_type": "display_data",
          "data": {
            "image/png": "[encoded data removed]",
            "text/plain": [
              "<Figure size 432x288 with 2 Axes>"
            ]
          },
          "metadata": {
            "needs_background": "light"
          }
        },
        {
          "output_type": "stream",
          "name": "stdout",
          "text": [
            "\n",
            "\n",
            "\n",
            "CASO  2\n",
            "---------------------------------\n"
          ]
        },
        {
          "output_type": "display_data",
          "data": {
            "image/png": "[encoded data removed]",
            "text/plain": [
              "<Figure size 432x288 with 2 Axes>"
            ]
          },
          "metadata": {
            "needs_background": "light"
          }
        },
        {
          "output_type": "stream",
          "name": "stdout",
          "text": [
            "\n",
            "\n",
            "\n",
            "CASO  3\n",
            "---------------------------------\n"
          ]
        },
        {
          "output_type": "display_data",
          "data": {
            "image/png": "[encoded data removed]",
            "text/plain": [
              "<Figure size 432x288 with 2 Axes>"
            ]
          },
          "metadata": {
            "needs_background": "light"
          }
        },
        {
          "output_type": "stream",
          "name": "stdout",
          "text": [
            "\n",
            "\n",
            "\n"
          ]
        }
      ]
    },
    {
      "cell_type": "markdown",
      "metadata": {
        "id": "s9rI6EQdGYQq"
      },
      "source": [
        "**Modelo 1**\n",
        "\n",
        "Como vemos, la mayoría de las imágenes las predice correctamente, de ahí que los **valores más altos** los obtengamos en la **diagonal**. \n",
        "\n",
        "Si nos fijamos, de 1000 casos, 555 veces predice bien la imagen 6, pero 173 la confunde con la imagen que corresponde a la etiqueta 0. Esto es, confunde camisas (6) con camisetas (0), lo cuál es lógico y entendible. También, de 1000, 78 las confunde con abrigos (4), 140 con jerseys (2) y 35 con vestidos (3)"
      ]
    },
    {
      "cell_type": "markdown",
      "metadata": {
        "id": "Ia31ubpVIkQI"
      },
      "source": [
        "**Modelo 2**\n",
        "\n",
        "Vemos que mantiene los valores más altos en la diagonal, es decir, predice correctamente la mayoría de las veces.\n",
        "\n",
        "También confunce camisas con camisetas, jerseys y abrigos, de 1000, confunde 143 veces jerseys (2) con abrigos (4).\n"
      ]
    },
    {
      "cell_type": "markdown",
      "metadata": {
        "id": "QXBnQ3wlLEmg"
      },
      "source": [
        "**Modelo 3**\n",
        "\n",
        "Podemos ver que sigue la misma línea que los modelos anteriores, confundiendo camisas, camisetas, jerseys y abrigos\n",
        "\n",
        "Algo destacable de este modelo es, que excepto en las predicciones de la imagen 6, las demás predicciones las acierta con valores muy altos, cercanos a 1000. \n",
        "En cambio, los otros dos modelos, a pesar de tener los valores más altos en la diagonal, eran menores que estos del modelo 3.\n",
        "\n",
        "Esta precisión tan alta se debe al optimizador que usa éste, que como ya hemos visto antes, se trata del optimizador *adam*\n"
      ]
    },
    {
      "cell_type": "markdown",
      "metadata": {
        "id": "PqhPjN5Ka8Ec"
      },
      "source": [
        "## **Conclusiones**"
      ]
    },
    {
      "cell_type": "markdown",
      "metadata": {
        "id": "KO29UQeUcWtl"
      },
      "source": [
        "Nos damos cuenta que usando el optimizador **Adam** mejora notablemente los resultados en cuanto a precisión y pérdida de nuestros modelos. Se debe a que combina varias ventajas de dos optimizadores que, por separado, ya dan buenos resultados. También, para este caso es bueno utilizar batchnormalization para mejorar el modelo.\n",
        "\n",
        "En cuanto a diferencias entre usar redes neuronales y redes de neuronas convolucionales, si comparamos un modelo de redes neuronales que usaba optimizador sgd y función de activación relu (modelo 5- práctica 1) con otro modelo de redes convolucionales con las mismas características (modelo 1), vemos que obtenemos unos resultados muy parecidos, no vemos grandes mejoras a pesar de usar más capas.\n",
        "\n",
        "Por otro lado, comprobamos que aun modificando algunos hiperparámetros, no hay gran diferencia en cuanto a los valores de pérdida y de precisión.\n",
        "\n",
        "\n",
        "\n",
        "\n"
      ]
    }
  ]
}
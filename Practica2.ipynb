{
  "nbformat": 4,
  "nbformat_minor": 0,
  "metadata": {
    "colab": {
      "name": "Practica2.ipynb",
      "provenance": [],
      "collapsed_sections": [],
      "authorship_tag": "ABX9TyNsR6dkUM+6LzPQLa8RydD1",
      "include_colab_link": true
    },
    "kernelspec": {
      "name": "python3",
      "display_name": "Python 3"
    },
    "language_info": {
      "name": "python"
    },
    "accelerator": "GPU"
  },
  "cells": [
    {
      "cell_type": "markdown",
      "metadata": {
        "id": "view-in-github",
        "colab_type": "text"
      },
      "source": [
        "<a href=\"https://colab.research.google.com/github/anamunoz01/AA_PRACTICA2_GRUPO_10/blob/main/Practica2.ipynb\" target=\"_parent\"><img src=\"https://colab.research.google.com/assets/colab-badge.svg\" alt=\"Open In Colab\"/></a>"
      ]
    },
    {
      "cell_type": "markdown",
      "metadata": {
        "id": "qkAWSN85rt28"
      },
      "source": [
        "# **PRÁCTICA 2**\n",
        "\n",
        "GRUPO 10\n",
        "\n",
        "Elena Gómez\n",
        "\n",
        "Ana Muñoz"
      ]
    },
    {
      "cell_type": "markdown",
      "metadata": {
        "id": "WsCJ_XlpoeSA"
      },
      "source": [
        "importamos los paquetes necesarios para el prblema\n"
      ]
    },
    {
      "cell_type": "code",
      "metadata": {
        "colab": {
          "base_uri": "https://localhost:8080/"
        },
        "id": "inKnrJCarTrV",
        "outputId": "a8c737ed-338c-41c4-eae1-b8b3fd09e6fc"
      },
      "source": [
        "%tensorflow_version 2.x\n",
        "import tensorflow as tf\n",
        "from tensorflow import keras\n",
        "\n",
        "import numpy as np\n",
        "import matplotlib.pyplot as plt\n",
        "\n",
        "print(tf.__version__)#"
      ],
      "execution_count": null,
      "outputs": [
        {
          "output_type": "stream",
          "name": "stdout",
          "text": [
            "2.7.0\n"
          ]
        }
      ]
    },
    {
      "cell_type": "code",
      "metadata": {
        "id": "NyodCpZhsZjf"
      },
      "source": [
        "from tensorflow.keras import Sequential\n",
        "from tensorflow.keras.layers import Conv2D\n",
        "from tensorflow.keras.layers import MaxPooling2D\n",
        "from keras.utils.np_utils import to_categorical"
      ],
      "execution_count": null,
      "outputs": []
    },
    {
      "cell_type": "markdown",
      "metadata": {
        "id": "QjRdR0UVuzTk"
      },
      "source": [
        "Importamos datos"
      ]
    },
    {
      "cell_type": "code",
      "metadata": {
        "id": "NHSNyIwwsZ5E"
      },
      "source": [
        "from keras.datasets import fashion_mnist\n",
        "\n",
        "(train_images, train_labels), (test_images, test_labels) = fashion_mnist.load_data()\n",
        "\n",
        "# Creamos vector con las prendas\n",
        "class_names = ['T-shirt/top', 'Trouser', 'Pullover', 'Dress', 'Coat',\n",
        "               'Sandal', 'Shirt', 'Sneaker', 'Bag', 'Ankle boot']"
      ],
      "execution_count": null,
      "outputs": []
    },
    {
      "cell_type": "markdown",
      "metadata": {
        "id": "Z6aPE7Snv0SC"
      },
      "source": [
        "Modificamos los datos "
      ]
    },
    {
      "cell_type": "code",
      "metadata": {
        "id": "DSg0HwMzv4H0"
      },
      "source": [
        "print (train_images.shape)\n",
        "print (train_labels.shape)\n",
        "train_images = train_images.reshape((60000, 28, 28, 1))\n",
        "train_images = train_images.astype('float32') / 255\n",
        "\n",
        "test_images = test_images.reshape((10000, 28, 28, 1))\n",
        "test_images = test_images.astype('float32') / 255\n",
        "\n",
        "#train_labels = to_categorical(train_labels)\n",
        "#test_labels = to_categorical(test_labels)\n",
        "\n",
        "print (train_images.shape)\n",
        "print (train_labels.shape)"
      ],
      "execution_count": null,
      "outputs": []
    },
    {
      "cell_type": "code",
      "metadata": {
        "id": "uL1A6IT-wu-k"
      },
      "source": [
        "print (train_images[0])"
      ],
      "execution_count": null,
      "outputs": []
    },
    {
      "cell_type": "markdown",
      "metadata": {
        "id": "gUZ1xTfltkvo"
      },
      "source": [
        "### MODELO 1"
      ]
    },
    {
      "cell_type": "markdown",
      "metadata": {
        "id": "g18otXpUu1dS"
      },
      "source": [
        "Creamos el modelo 1"
      ]
    },
    {
      "cell_type": "code",
      "metadata": {
        "id": "PJz31a2NtHFd"
      },
      "source": [
        "model1 = Sequential()\n",
        "model1.add(Conv2D(32, (5, 5), activation='relu', input_shape=(28, 28, 1)))\n",
        "model1.add(MaxPooling2D((2, 2)))\n",
        "model1.summary()"
      ],
      "execution_count": null,
      "outputs": []
    },
    {
      "cell_type": "code",
      "metadata": {
        "id": "u6oIMDnKt8s_"
      },
      "source": [
        "model1.add(Conv2D(64, (5, 5), activation='relu'))\n",
        "model1.add(MaxPooling2D((2, 2)))\n",
        "model1.summary()"
      ],
      "execution_count": null,
      "outputs": []
    },
    {
      "cell_type": "code",
      "metadata": {
        "id": "wVyu83Fnt9YH"
      },
      "source": [
        "from tensorflow.keras.layers import Dense\n",
        "from tensorflow.keras.layers import Flatten\n",
        "\n",
        "model1.add(Flatten())\n",
        "model1.add(Dense(10, activation='softmax'))\n",
        "model1.summary()"
      ],
      "execution_count": null,
      "outputs": []
    },
    {
      "cell_type": "markdown",
      "metadata": {
        "id": "OPYw-9iJop2E"
      },
      "source": [
        "Compilamos y entrenamos el modelo 1"
      ]
    },
    {
      "cell_type": "code",
      "metadata": {
        "colab": {
          "base_uri": "https://localhost:8080/"
        },
        "id": "IbIaALQ-vOT2",
        "outputId": "e890fca3-9333-4014-e250-edbe1f0828fa"
      },
      "source": [
        "model1.compile(loss='sparse_categorical_crossentropy',\n",
        "              optimizer='sgd',\n",
        "              metrics=['accuracy'])\n",
        "\n",
        "model1.fit(train_images, train_labels, epochs=5, batch_size=100)\n",
        "\n",
        "test_loss1, test_acc1 = model1.evaluate(test_images, test_labels)\n",
        "\n",
        "print('Test accuracy:', test_acc1)"
      ],
      "execution_count": null,
      "outputs": [
        {
          "output_type": "stream",
          "name": "stdout",
          "text": [
            "Epoch 1/5\n",
            "600/600 [==============================] - 34s 7ms/step - loss: 1.1642 - accuracy: 0.6095\n",
            "Epoch 2/5\n",
            "600/600 [==============================] - 4s 7ms/step - loss: 0.6629 - accuracy: 0.7576\n",
            "Epoch 3/5\n",
            "600/600 [==============================] - 4s 7ms/step - loss: 0.5813 - accuracy: 0.7881\n",
            "Epoch 4/5\n",
            "600/600 [==============================] - 4s 7ms/step - loss: 0.5292 - accuracy: 0.8092\n",
            "Epoch 5/5\n",
            "600/600 [==============================] - 4s 7ms/step - loss: 0.4956 - accuracy: 0.8223\n",
            "313/313 [==============================] - 1s 4ms/step - loss: 0.4956 - accuracy: 0.8265\n",
            "Test accuracy: 0.8264999985694885\n"
          ]
        }
      ]
    },
    {
      "cell_type": "markdown",
      "metadata": {
        "id": "TFU63Nex47lU"
      },
      "source": [
        "Modelo 1 25 epocas"
      ]
    },
    {
      "cell_type": "code",
      "metadata": {
        "id": "Pq8h1cgS49_0",
        "colab": {
          "base_uri": "https://localhost:8080/"
        },
        "outputId": "d352839d-ed6c-46f5-ece2-1322e89f0c6b"
      },
      "source": [
        "model11 = Sequential()\n",
        "model11.add(Conv2D(32, (5, 5), activation='relu', input_shape=(28, 28, 1)))\n",
        "model11.add(MaxPooling2D((2, 2)))\n",
        "\n",
        "model11.add(Conv2D(64, (5, 5), activation='relu'))\n",
        "model11.add(MaxPooling2D((2, 2)))\n",
        "\n",
        "model11.add(Flatten())\n",
        "model11.add(Dense(10, activation='softmax'))\n",
        "model11.summary()\n"
      ],
      "execution_count": null,
      "outputs": [
        {
          "output_type": "stream",
          "name": "stdout",
          "text": [
            "Model: \"sequential_3\"\n",
            "_________________________________________________________________\n",
            " Layer (type)                Output Shape              Param #   \n",
            "=================================================================\n",
            " conv2d_6 (Conv2D)           (None, 24, 24, 32)        832       \n",
            "                                                                 \n",
            " max_pooling2d_6 (MaxPooling  (None, 12, 12, 32)       0         \n",
            " 2D)                                                             \n",
            "                                                                 \n",
            " conv2d_7 (Conv2D)           (None, 8, 8, 64)          51264     \n",
            "                                                                 \n",
            " max_pooling2d_7 (MaxPooling  (None, 4, 4, 64)         0         \n",
            " 2D)                                                             \n",
            "                                                                 \n",
            " flatten_2 (Flatten)         (None, 1024)              0         \n",
            "                                                                 \n",
            " dense_2 (Dense)             (None, 10)                10250     \n",
            "                                                                 \n",
            "=================================================================\n",
            "Total params: 62,346\n",
            "Trainable params: 62,346\n",
            "Non-trainable params: 0\n",
            "_________________________________________________________________\n"
          ]
        }
      ]
    },
    {
      "cell_type": "code",
      "metadata": {
        "id": "vkL_ItVS5QZI",
        "colab": {
          "base_uri": "https://localhost:8080/"
        },
        "outputId": "15b81b9a-555d-4ada-9adf-9328190613d5"
      },
      "source": [
        "model11.compile(loss='sparse_categorical_crossentropy',\n",
        "              optimizer='sgd',\n",
        "              metrics=['accuracy'])\n",
        "\n",
        "model11.fit(train_images, train_labels, epochs=25, batch_size=100)\n",
        "\n",
        "test_loss11, test_acc11 = model11.evaluate(test_images, test_labels)\n",
        "\n",
        "print('Test accuracy:', test_acc11)"
      ],
      "execution_count": null,
      "outputs": [
        {
          "output_type": "stream",
          "name": "stdout",
          "text": [
            "Epoch 1/25\n",
            "600/600 [==============================] - 5s 7ms/step - loss: 1.1845 - accuracy: 0.6118\n",
            "Epoch 2/25\n",
            "600/600 [==============================] - 4s 7ms/step - loss: 0.6624 - accuracy: 0.7580\n",
            "Epoch 3/25\n",
            "600/600 [==============================] - 4s 7ms/step - loss: 0.5796 - accuracy: 0.7895\n",
            "Epoch 4/25\n",
            "600/600 [==============================] - 4s 6ms/step - loss: 0.5325 - accuracy: 0.8081\n",
            "Epoch 5/25\n",
            "600/600 [==============================] - 4s 6ms/step - loss: 0.4999 - accuracy: 0.8225\n",
            "Epoch 6/25\n",
            "600/600 [==============================] - 4s 6ms/step - loss: 0.4749 - accuracy: 0.8311\n",
            "Epoch 7/25\n",
            "600/600 [==============================] - 4s 6ms/step - loss: 0.4538 - accuracy: 0.8409\n",
            "Epoch 8/25\n",
            "600/600 [==============================] - 4s 6ms/step - loss: 0.4388 - accuracy: 0.8463\n",
            "Epoch 9/25\n",
            "600/600 [==============================] - 4s 6ms/step - loss: 0.4252 - accuracy: 0.8502\n",
            "Epoch 10/25\n",
            "600/600 [==============================] - 4s 6ms/step - loss: 0.4128 - accuracy: 0.8555\n",
            "Epoch 11/25\n",
            "600/600 [==============================] - 4s 6ms/step - loss: 0.4030 - accuracy: 0.8595\n",
            "Epoch 12/25\n",
            "600/600 [==============================] - 4s 6ms/step - loss: 0.3949 - accuracy: 0.8609\n",
            "Epoch 13/25\n",
            "600/600 [==============================] - 4s 6ms/step - loss: 0.3878 - accuracy: 0.8633\n",
            "Epoch 14/25\n",
            "600/600 [==============================] - 4s 6ms/step - loss: 0.3796 - accuracy: 0.8661\n",
            "Epoch 15/25\n",
            "600/600 [==============================] - 4s 6ms/step - loss: 0.3751 - accuracy: 0.8674\n",
            "Epoch 16/25\n",
            "600/600 [==============================] - 4s 6ms/step - loss: 0.3679 - accuracy: 0.8699\n",
            "Epoch 17/25\n",
            "600/600 [==============================] - 4s 6ms/step - loss: 0.3628 - accuracy: 0.8720\n",
            "Epoch 18/25\n",
            "600/600 [==============================] - 4s 6ms/step - loss: 0.3566 - accuracy: 0.8735\n",
            "Epoch 19/25\n",
            "600/600 [==============================] - 4s 6ms/step - loss: 0.3521 - accuracy: 0.8761\n",
            "Epoch 20/25\n",
            "600/600 [==============================] - 4s 6ms/step - loss: 0.3483 - accuracy: 0.8774\n",
            "Epoch 21/25\n",
            "600/600 [==============================] - 4s 6ms/step - loss: 0.3437 - accuracy: 0.8788\n",
            "Epoch 22/25\n",
            "600/600 [==============================] - 4s 6ms/step - loss: 0.3388 - accuracy: 0.8807\n",
            "Epoch 23/25\n",
            "600/600 [==============================] - 4s 6ms/step - loss: 0.3355 - accuracy: 0.8807\n",
            "Epoch 24/25\n",
            "600/600 [==============================] - 4s 6ms/step - loss: 0.3301 - accuracy: 0.8832\n",
            "Epoch 25/25\n",
            "600/600 [==============================] - 4s 6ms/step - loss: 0.3288 - accuracy: 0.8836\n",
            "313/313 [==============================] - 1s 3ms/step - loss: 0.3576 - accuracy: 0.8728\n",
            "Test accuracy: 0.8727999925613403\n"
          ]
        }
      ]
    },
    {
      "cell_type": "markdown",
      "metadata": {
        "id": "rDrZo_D85Ww6"
      },
      "source": [
        "Caso 1 funcion tanh"
      ]
    },
    {
      "cell_type": "code",
      "metadata": {
        "id": "QnvNSsHf5hi1"
      },
      "source": [
        "model12 = Sequential()\n",
        "model12.add(Conv2D(32, (5, 5), activation='tanh', input_shape=(28, 28, 1)))\n",
        "model12.add(MaxPooling2D((2, 2)))\n",
        "\n",
        "model12.add(Conv2D(64, (5, 5), activation='tanh'))\n",
        "model12.add(MaxPooling2D((2, 2)))\n",
        "\n",
        "model12.add(Flatten())\n",
        "model12.add(Dense(10, activation='softmax'))\n",
        "model12.summary()"
      ],
      "execution_count": null,
      "outputs": []
    },
    {
      "cell_type": "code",
      "metadata": {
        "id": "d3Lgl0KD5l5m",
        "colab": {
          "base_uri": "https://localhost:8080/"
        },
        "outputId": "08141b43-47b6-4d7a-a313-97110b7645b9"
      },
      "source": [
        "model12.compile(loss='sparse_categorical_crossentropy',\n",
        "              optimizer='sgd',\n",
        "              metrics=['accuracy'])\n",
        "\n",
        "model12.fit(train_images, train_labels, epochs=5, batch_size=100)\n",
        "\n",
        "test_loss12, test_acc12 = model12.evaluate(test_images, test_labels)\n",
        "\n",
        "print('Test accuracy:', test_acc12)"
      ],
      "execution_count": null,
      "outputs": [
        {
          "output_type": "stream",
          "name": "stdout",
          "text": [
            "Epoch 1/5\n",
            "600/600 [==============================] - 5s 7ms/step - loss: 1.1236 - accuracy: 0.6445\n",
            "Epoch 2/5\n",
            "600/600 [==============================] - 4s 7ms/step - loss: 0.6664 - accuracy: 0.7585\n",
            "Epoch 3/5\n",
            "600/600 [==============================] - 4s 7ms/step - loss: 0.5847 - accuracy: 0.7867\n",
            "Epoch 4/5\n",
            "600/600 [==============================] - 4s 7ms/step - loss: 0.5352 - accuracy: 0.8060\n",
            "Epoch 5/5\n",
            "600/600 [==============================] - 4s 6ms/step - loss: 0.5003 - accuracy: 0.8203\n",
            "313/313 [==============================] - 1s 4ms/step - loss: 0.5084 - accuracy: 0.8163\n",
            "Test accuracy: 0.8162999749183655\n"
          ]
        }
      ]
    },
    {
      "cell_type": "markdown",
      "metadata": {
        "id": "YgvtuBl65qvL"
      },
      "source": [
        "Predicciones imagen 6"
      ]
    },
    {
      "cell_type": "code",
      "metadata": {
        "id": "j3LtybsB6U0v",
        "colab": {
          "base_uri": "https://localhost:8080/",
          "height": 265
        },
        "outputId": "1f58f96d-2f16-4678-a0e3-22326edc3fd4"
      },
      "source": [
        "# Veamos el elemento 6 de test y pintémoslo con matplotlib\n",
        "from keras.datasets import fashion_mnist\n",
        "(train_images, train_labels), (test_images, test_labels) = fashion_mnist.load_data()\n",
        "import matplotlib.pyplot as plt\n",
        "digit = test_images[5]\n",
        "plt.imshow(digit, cmap=plt.cm.binary)\n",
        "plt.show()"
      ],
      "execution_count": null,
      "outputs": [
        {
          "output_type": "display_data",
          "data": {
            "image/png": "[encoded data removed]",
            "text/plain": [
              "<Figure size 432x288 with 1 Axes>"
            ]
          },
          "metadata": {
            "needs_background": "light"
          }
        }
      ]
    },
    {
      "cell_type": "code",
      "metadata": {
        "id": "rIZBDnD36Wac",
        "colab": {
          "base_uri": "https://localhost:8080/"
        },
        "outputId": "517784f5-f3f6-47d5-f04c-abf48bbf4fc5"
      },
      "source": [
        "#????\n",
        "train_images = train_images.reshape((60000, 28,28,1))\n",
        "test_images = test_images.reshape((10000, 28,28,1))\n",
        "\n",
        "train_images = train_images.astype('float32') / 255\n",
        "test_images = test_images.astype('float32') / 255\n",
        "\n",
        "#from keras.utils.np_utils import to_categorical\n",
        "\n",
        "print(test_labels)\n",
        "#test_labels = to_categorical(test_labels)\n",
        "print(test_labels)"
      ],
      "execution_count": null,
      "outputs": [
        {
          "output_type": "stream",
          "name": "stdout",
          "text": [
            "[9 2 1 ... 8 1 5]\n",
            "[9 2 1 ... 8 1 5]\n"
          ]
        }
      ]
    },
    {
      "cell_type": "code",
      "metadata": {
        "id": "z9Jnkmn56c9z",
        "colab": {
          "base_uri": "https://localhost:8080/"
        },
        "outputId": "42d94169-9395-4fe0-8613-de478e1be12c"
      },
      "source": [
        "import numpy as np\n",
        "predictions1 = model1.predict(test_images)\n",
        "print(np.argmax(predictions1[5]))\n",
        "print(predictions1[5])\n",
        "np.sum(predictions1[5])\n",
        "print(predictions1)"
      ],
      "execution_count": null,
      "outputs": [
        {
          "output_type": "stream",
          "name": "stdout",
          "text": [
            "1\n",
            "[5.4480357e-04 9.9928975e-01 1.3988278e-05 6.3910084e-05 6.0985178e-05\n",
            " 2.6579306e-07 2.4109468e-05 6.2190901e-09 2.1979185e-06 2.7242031e-10]\n",
            "[[6.17789567e-07 1.59466911e-08 3.96300948e-06 ... 1.75780296e-01\n",
            "  1.06026616e-03 8.03232372e-01]\n",
            " [3.28528299e-03 2.42474869e-07 9.55339193e-01 ... 1.12535528e-08\n",
            "  4.01119323e-05 7.04076175e-09]\n",
            " [8.49807657e-06 9.99984741e-01 2.84137172e-07 ... 8.40746917e-10\n",
            "  5.07158369e-08 1.39603945e-11]\n",
            " ...\n",
            " [9.50693246e-03 9.78162348e-07 1.75824168e-03 ... 1.08529139e-05\n",
            "  9.43546832e-01 5.10439031e-06]\n",
            " [1.26522995e-04 9.91686881e-01 9.22899835e-06 ... 9.86637019e-07\n",
            "  3.19715809e-06 1.28166471e-06]\n",
            " [2.01991861e-04 2.75666534e-05 7.55112793e-04 ... 4.39609289e-01\n",
            "  3.44363339e-02 5.63430451e-02]]\n"
          ]
        }
      ]
    },
    {
      "cell_type": "markdown",
      "metadata": {
        "id": "Vu04IQuX6z92"
      },
      "source": [
        "graficamos prediccion"
      ]
    },
    {
      "cell_type": "code",
      "metadata": {
        "id": "SlYRpfLw61qj"
      },
      "source": [
        "def plot_image(i, predictions_array, true_label, img):\n",
        "  predictions_array, true_label, img = predictions_array, true_label[i], img[i]\n",
        "  plt.grid(False)\n",
        "  plt.xticks([])\n",
        "  plt.yticks([])\n",
        "\n",
        "  plt.imshow(img, cmap=plt.cm.binary)    \n",
        "\n",
        "  predicted_label = np.argmax(predictions_array)\n",
        "  if predicted_label.all() == true_label.all():\n",
        "    color = 'blue'\n",
        "  else:\n",
        "    color = 'red'\n",
        "\n",
        "  plt.xlabel(\"{} {:2.0f}% ({})\".format(predicted_label,\n",
        "                                100*np.max(predictions_array),\n",
        "                                true_label),\n",
        "                                color=color)\n",
        "\n",
        "def plot_value_array(i, predictions_array, true_label):\n",
        "  predictions_array, true_label = predictions_array, true_label[i]\n",
        "  plt.grid(False)\n",
        "  plt.xticks(range(10))\n",
        "  plt.yticks([])\n",
        "  thisplot = plt.bar(range(10), predictions_array, color=\"#00FF00\")\n",
        "  plt.ylim([0, 1])\n",
        "  predicted_label = np.argmax(predictions_array)\n",
        "\n",
        "  thisplot[predicted_label].set_color('red')\n",
        "  thisplot[true_label].set_color('black')"
      ],
      "execution_count": null,
      "outputs": []
    },
    {
      "cell_type": "code",
      "metadata": {
        "id": "Sce3UJoG629B",
        "colab": {
          "base_uri": "https://localhost:8080/",
          "height": 211
        },
        "outputId": "cd51216a-9075-4b6a-eee1-2dd3a0767b78"
      },
      "source": [
        "i = 5\n",
        "plt.figure(figsize=(6,3))\n",
        "plt.subplot(1,2,1)\n",
        "plot_image(i, predictions1[i], test_labels, test_images.reshape(10000,28,28))\n",
        "plt.subplot(1,2,2)\n",
        "plot_value_array(i, predictions1[i],  test_labels)\n",
        "plt.show()"
      ],
      "execution_count": null,
      "outputs": [
        {
          "output_type": "display_data",
          "data": {
            "image/png": "[encoded data removed]",
            "text/plain": [
              "<Figure size 432x216 with 2 Axes>"
            ]
          },
          "metadata": {
            "needs_background": "light"
          }
        }
      ]
    },
    {
      "cell_type": "markdown",
      "metadata": {
        "id": "0jbYf05C7DrQ"
      },
      "source": [
        "predicciones de las 14 primeras"
      ]
    },
    {
      "cell_type": "code",
      "metadata": {
        "id": "TwmpleF77G5b",
        "colab": {
          "base_uri": "https://localhost:8080/",
          "height": 1000
        },
        "outputId": "c7f40555-da8b-4343-eb69-1c5b8760c1c9"
      },
      "source": [
        "for i in range(14):\n",
        "    plt.figure(figsize=(6,3))\n",
        "    plt.subplot(1,2,1)\n",
        "    plot_image(i, predictions1[i], test_labels, test_images.reshape(10000,28,28))\n",
        "    plt.subplot(1,2,2)\n",
        "    plot_value_array(i, predictions1[i],  test_labels)\n",
        "    plt.show()\n",
        "    plt.clf()"
      ],
      "execution_count": null,
      "outputs": [
        {
          "output_type": "display_data",
          "data": {
            "image/png": "[encoded data removed]",
            "text/plain": [
              "<Figure size 432x216 with 2 Axes>"
            ]
          },
          "metadata": {
            "needs_background": "light"
          }
        },
        {
          "output_type": "display_data",
          "data": {
            "text/plain": [
              "<Figure size 432x288 with 0 Axes>"
            ]
          },
          "metadata": {}
        },
        {
          "output_type": "display_data",
          "data": {
            "image/png": "[encoded data removed]",
            "text/plain": [
              "<Figure size 432x216 with 2 Axes>"
            ]
          },
          "metadata": {
            "needs_background": "light"
          }
        },
        {
          "output_type": "display_data",
          "data": {
            "text/plain": [
              "<Figure size 432x288 with 0 Axes>"
            ]
          },
          "metadata": {}
        },
        {
          "output_type": "display_data",
          "data": {
            "image/png": "[encoded data removed]",
            "text/plain": [
              "<Figure size 432x216 with 2 Axes>"
            ]
          },
          "metadata": {
            "needs_background": "light"
          }
        },
        {
          "output_type": "display_data",
          "data": {
            "text/plain": [
              "<Figure size 432x288 with 0 Axes>"
            ]
          },
          "metadata": {}
        },
        {
          "output_type": "display_data",
          "data": {
            "image/png": "[encoded data removed]",
            "text/plain": [
              "<Figure size 432x216 with 2 Axes>"
            ]
          },
          "metadata": {
            "needs_background": "light"
          }
        },
        {
          "output_type": "display_data",
          "data": {
            "text/plain": [
              "<Figure size 432x288 with 0 Axes>"
            ]
          },
          "metadata": {}
        },
        {
          "output_type": "display_data",
          "data": {
            "image/png": "[encoded data removed]",
            "text/plain": [
              "<Figure size 432x216 with 2 Axes>"
            ]
          },
          "metadata": {
            "needs_background": "light"
          }
        },
        {
          "output_type": "display_data",
          "data": {
            "text/plain": [
              "<Figure size 432x288 with 0 Axes>"
            ]
          },
          "metadata": {}
        },
        {
          "output_type": "display_data",
          "data": {
            "image/png": "[encoded data removed]",
            "text/plain": [
              "<Figure size 432x216 with 2 Axes>"
            ]
          },
          "metadata": {
            "needs_background": "light"
          }
        },
        {
          "output_type": "display_data",
          "data": {
            "text/plain": [
              "<Figure size 432x288 with 0 Axes>"
            ]
          },
          "metadata": {}
        },
        {
          "output_type": "display_data",
          "data": {
            "image/png": "[encoded data removed]",
            "text/plain": [
              "<Figure size 432x216 with 2 Axes>"
            ]
          },
          "metadata": {
            "needs_background": "light"
          }
        },
        {
          "output_type": "display_data",
          "data": {
            "text/plain": [
              "<Figure size 432x288 with 0 Axes>"
            ]
          },
          "metadata": {}
        },
        {
          "output_type": "display_data",
          "data": {
            "image/png": "[encoded data removed]",
            "text/plain": [
              "<Figure size 432x216 with 2 Axes>"
            ]
          },
          "metadata": {
            "needs_background": "light"
          }
        },
        {
          "output_type": "display_data",
          "data": {
            "text/plain": [
              "<Figure size 432x288 with 0 Axes>"
            ]
          },
          "metadata": {}
        },
        {
          "output_type": "display_data",
          "data": {
            "image/png": "[encoded data removed]",
            "text/plain": [
              "<Figure size 432x216 with 2 Axes>"
            ]
          },
          "metadata": {
            "needs_background": "light"
          }
        },
        {
          "output_type": "display_data",
          "data": {
            "text/plain": [
              "<Figure size 432x288 with 0 Axes>"
            ]
          },
          "metadata": {}
        },
        {
          "output_type": "display_data",
          "data": {
            "image/png": "[encoded data removed]",
            "text/plain": [
              "<Figure size 432x216 with 2 Axes>"
            ]
          },
          "metadata": {
            "needs_background": "light"
          }
        },
        {
          "output_type": "display_data",
          "data": {
            "text/plain": [
              "<Figure size 432x288 with 0 Axes>"
            ]
          },
          "metadata": {}
        },
        {
          "output_type": "display_data",
          "data": {
            "image/png": "[encoded data removed]",
            "text/plain": [
              "<Figure size 432x216 with 2 Axes>"
            ]
          },
          "metadata": {
            "needs_background": "light"
          }
        },
        {
          "output_type": "display_data",
          "data": {
            "text/plain": [
              "<Figure size 432x288 with 0 Axes>"
            ]
          },
          "metadata": {}
        },
        {
          "output_type": "display_data",
          "data": {
            "image/png": "[encoded data removed]",
            "text/plain": [
              "<Figure size 432x216 with 2 Axes>"
            ]
          },
          "metadata": {
            "needs_background": "light"
          }
        },
        {
          "output_type": "display_data",
          "data": {
            "text/plain": [
              "<Figure size 432x288 with 0 Axes>"
            ]
          },
          "metadata": {}
        },
        {
          "output_type": "display_data",
          "data": {
            "image/png": "[encoded data removed]",
            "text/plain": [
              "<Figure size 432x216 with 2 Axes>"
            ]
          },
          "metadata": {
            "needs_background": "light"
          }
        },
        {
          "output_type": "display_data",
          "data": {
            "text/plain": [
              "<Figure size 432x288 with 0 Axes>"
            ]
          },
          "metadata": {}
        },
        {
          "output_type": "display_data",
          "data": {
            "image/png": "[encoded data removed]",
            "text/plain": [
              "<Figure size 432x216 with 2 Axes>"
            ]
          },
          "metadata": {
            "needs_background": "light"
          }
        },
        {
          "output_type": "display_data",
          "data": {
            "text/plain": [
              "<Figure size 432x288 with 0 Axes>"
            ]
          },
          "metadata": {}
        }
      ]
    }
  ]
}